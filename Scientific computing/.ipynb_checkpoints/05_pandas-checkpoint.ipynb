{
 "cells": [
  {
   "cell_type": "markdown",
   "metadata": {},
   "source": [
    "# Pandas\n",
    "\n",
    "The Numpy library is excellent for numerical computations, but it lacks support to handle missing data or non-omogeneous arrays. The **Pandas** library is based on Numpy and extends the Numpy functionality, and is currently one of the most widely used tools for data manipulation, providing high-performance, easy-to-use data structures and advanced data analysis tools.\n",
    "\n",
    "In particular Pandas features:\n",
    "\n",
    "* A fast and efficient `DataFrame` object for data manipulation with integrated indexing;\n",
    "* Tools for reading and writing data between in-memory data structures and different formats (CSV, Excel, SQL, HDF5);\n",
    "* Convenient label-based slicing, fancy indexing, and subsetting of large data sets;\n",
    "* Hierarchical axis indexing provides an intuitive way of working with high-dimensional data in a lower-dimensional data structure;\n",
    "* Smart data alignment and integrated handling of missing data;\n",
    "* Aggregating and transforming data with a powerful \"group-by\" engine; \n",
    "* High performance merging and joining of data sets;\n",
    "* Time series-functionalities;\n",
    "* Highly optimized for performance, with critical code paths written in Cython or C.\n"
   ]
  },
  {
   "cell_type": "code",
   "execution_count": 1,
   "metadata": {},
   "outputs": [],
   "source": [
    "import pandas as pd # standard naming convention\n",
    "import numpy as np"
   ]
  },
  {
   "cell_type": "markdown",
   "metadata": {},
   "source": [
    "## Series\n",
    "\n",
    "Pandas Series represent an extension of the Numpy 1D arrays. The content of a Series is equivalent to a Numpy array, and in addition the axis  is labeled. Labels doesn't need to be unique but must be a hashable type.\n",
    "\n",
    "Since the content is of type `ndarray`, the content has to be *omogeneous*. However, there is the possibility to store heterogeneous data, but the content in this case would be of type `object`.\n",
    "\n",
    "One of the most important examples are the time-series, which are used to keep track of the time evolution of a certain quantity.\n",
    "\n",
    "Link to the official Pandas Series [documentation](https://pandas.pydata.org/pandas-docs/stable/reference/api/pandas.Series.html)."
   ]
  },
  {
   "cell_type": "code",
   "execution_count": 2,
   "metadata": {},
   "outputs": [
    {
     "name": "stdout",
     "output_type": "stream",
     "text": [
      "series:\n",
      " a    0.0\n",
      "b    0.5\n",
      "c    1.0\n",
      "d    1.5\n",
      "e    2.0\n",
      "f    2.5\n",
      "g    3.0\n",
      "h    3.5\n",
      "i    4.0\n",
      "j    4.5\n",
      "dtype: float64 \n",
      "\n",
      "series type:\n",
      " <class 'pandas.core.series.Series'> \n",
      "\n",
      "indices:\n",
      " Index(['a', 'b', 'c', 'd', 'e', 'f', 'g', 'h', 'i', 'j'], dtype='object') \n",
      "\n",
      "values: [0.  0.5 1.  1.5 2.  2.5 3.  3.5 4.  4.5] <class 'numpy.ndarray'> \n",
      "\n",
      "type:\n",
      " float64 \n",
      "\n"
     ]
    }
   ],
   "source": [
    "letters = ['a', 'b', 'c', 'd', 'e', 'f', 'g', 'h', 'i', 'j']\n",
    "\n",
    "# Calling the Series constructor\n",
    "# Constructor requires the data, and optionally the indices and data type\n",
    "sr = pd.Series(np.arange(10)*0.5, index=tuple(letters[:10]), dtype=float)\n",
    "print(\"series:\\n\", sr, '\\n')\n",
    "print(\"series type:\\n\", type(sr), '\\n')\n",
    "print(\"indices:\\n\", sr.index, '\\n')\n",
    "print(\"values:\", sr.values, type(sr.values), '\\n') # values of the Series are actually a numpy array\n",
    "print(\"type:\\n\", sr.dtype, '\\n')"
   ]
  },
  {
   "cell_type": "code",
   "execution_count": 3,
   "metadata": {},
   "outputs": [
    {
     "name": "stdout",
     "output_type": "stream",
     "text": [
      "element by index: 2.5 \n",
      "\n",
      "element by attribute: 2.5 \n",
      "\n",
      "series subset:\n",
      " d    1.5\n",
      "f    2.5\n",
      "h    3.5\n",
      "dtype: float64 <class 'pandas.core.series.Series'> \n",
      "\n"
     ]
    }
   ],
   "source": [
    "print(\"element by index:\", sr['f'], '\\n') # Accessing elements like arrays\n",
    "print(\"element by attribute:\", sr.f, '\\n') # Accessing elements like attributes - not recommended\n",
    "\n",
    "# selecting a subset of the series\n",
    "subsr = sr[['d', 'f', 'h']] # note the double square brackets\n",
    "print(\"series subset:\\n\", subsr, type(subsr), '\\n') # Multiple indexing returns another series"
   ]
  },
  {
   "cell_type": "code",
   "execution_count": 4,
   "metadata": {},
   "outputs": [
    {
     "name": "stdout",
     "output_type": "stream",
     "text": [
      "a    0.0\n",
      "b    0.5\n",
      "c    1.0\n",
      "dtype: float64 \n",
      "\n",
      "h    3.5\n",
      "i    4.0\n",
      "j    4.5\n",
      "dtype: float64 \n",
      "\n",
      "a    0.0\n",
      "d    1.5\n",
      "g    3.0\n",
      "j    4.5\n",
      "dtype: float64 \n",
      "\n",
      "h    3.5\n",
      "i    4.0\n",
      "j    4.5\n",
      "dtype: float64  Fancy indexing \n",
      "\n",
      "a     1.000000\n",
      "b     1.648721\n",
      "c     2.718282\n",
      "d     4.481689\n",
      "e     7.389056\n",
      "f    12.182494\n",
      "g    20.085537\n",
      "h    33.115452\n",
      "i    54.598150\n",
      "j    90.017131\n",
      "dtype: float64  exp\n",
      "\n",
      "2.25 1.4361406616345072  mean ans std \n",
      "\n"
     ]
    }
   ],
   "source": [
    "# Extracting elements and operations are the same as numpy array\n",
    "print(sr[:3], '\\n')\n",
    "print(sr[7:], '\\n')\n",
    "print(sr[::3], '\\n')\n",
    "\n",
    "# Fancy indexing works on Series, too\n",
    "print(sr[sr > 3], ' Fancy indexing \\n')\n",
    "\n",
    "# You can also pass Series to numpy funtions\n",
    "print(np.exp(sr), ' exp\\n')\n",
    "print(np.mean(sr), np.std(sr), ' mean ans std \\n')"
   ]
  },
  {
   "cell_type": "markdown",
   "metadata": {},
   "source": [
    "Series may contain non-omogeneous data; in this case, the data type is referred to as `object`. Non-homogeneous data is normally handeled also by Pandas and does not represent a problem, however this pays the price of less time-efficient operations."
   ]
  },
  {
   "cell_type": "code",
   "execution_count": 5,
   "metadata": {},
   "outputs": [
    {
     "name": "stdout",
     "output_type": "stream",
     "text": [
      "b         1\n",
      "a       cat\n",
      "c    [2, 3]\n",
      "dtype: object \n",
      "\n"
     ]
    }
   ],
   "source": [
    "# Series can be created from a python dictionary, too\n",
    "# Note that the elements can be of different types\n",
    "d = {'b' : 1, 'a' : 'cat', 'c' : [2, 3]}\n",
    "so = pd.Series(d)\n",
    "print(so, '\\n')"
   ]
  },
  {
   "cell_type": "markdown",
   "metadata": {},
   "source": [
    "A key difference between Pandas Series and Numpy arrays is that operations between Series **automatically align the data based on the label**.\n",
    "\n",
    "Thus, you can write operations without considering whether the Series involved have the same labels, or even the same size.\n",
    "\n",
    "If there is no matching element, the resulting value would be a `NaN`."
   ]
  },
  {
   "cell_type": "code",
   "execution_count": 6,
   "metadata": {},
   "outputs": [
    {
     "name": "stdout",
     "output_type": "stream",
     "text": [
      "series:\n",
      " a    0\n",
      "b    1\n",
      "c    2\n",
      "d    3\n",
      "e    4\n",
      "dtype: int32 \n",
      "\n",
      "shifted series:\n",
      " b    1\n",
      "c    2\n",
      "d    3\n",
      "e    4\n",
      "dtype: int32 \n",
      "\n",
      "shifted sum:\n",
      " a    NaN\n",
      "b    2.0\n",
      "c    4.0\n",
      "d    6.0\n",
      "e    8.0\n",
      "dtype: float64 \n",
      "\n",
      "double shifted sum:\n",
      " a    NaN\n",
      "b    2.0\n",
      "c    4.0\n",
      "d    6.0\n",
      "e    NaN\n",
      "dtype: float64 \n",
      "\n"
     ]
    }
   ],
   "source": [
    "letters = ['a', 'b', 'c', 'd', 'e', 'f', 'g', 'h', 'i', 'j']\n",
    "\n",
    "s = pd.Series(np.arange(5), index=tuple(letters[:5]))\n",
    "print(\"series:\\n\", s, '\\n')\n",
    "\n",
    "s1 = s[1:]\n",
    "print(\"shifted series:\\n\", s1, '\\n')\n",
    "\n",
    "s2 = s1 + s\n",
    "print(\"shifted sum:\\n\", s2, '\\n')\n",
    "\n",
    "s3 = s1 + s[:-1]\n",
    "print(\"double shifted sum:\\n\", s3, '\\n')"
   ]
  },
  {
   "cell_type": "markdown",
   "metadata": {},
   "source": [
    "### Time series\n",
    "\n",
    "**Datetime**\n",
    "\n",
    "When dealing with time, Python provides the `datetime` library that allows to store the date and time in an dedicated object, which possess several methods to access the relevant quantities (day, month, year, hours, minutes, seconds, ...)"
   ]
  },
  {
   "cell_type": "code",
   "execution_count": 7,
   "metadata": {},
   "outputs": [
    {
     "name": "stdout",
     "output_type": "stream",
     "text": [
      "Today's date: 2022-11-26\n",
      "Date and time: 2020-11-12 10:45:10.000015\n",
      "Month: 11 and minutes: 45\n",
      "<class 'int'>\n"
     ]
    }
   ],
   "source": [
    "# To define a date, the datetime module is very useful\n",
    "import datetime as dt\n",
    "\n",
    "date = dt.date.today()\n",
    "print(\"Today's date:\", date)\n",
    "\n",
    "# specify year, month, day, hour, minutes, seconds, and microseconds\n",
    "date = dt.datetime(2020, 11, 12, 10, 45, 10, 15)\n",
    "print(\"Date and time:\", date)\n",
    "print(\"Month:\", date.month, \"and minutes:\", date.minute)\n",
    "print(type(date.month))"
   ]
  },
  {
   "cell_type": "markdown",
   "metadata": {},
   "source": [
    "**Pandas Timestamps**\n",
    "\n",
    "Timestamped data is the most basic type of time series data that associates values with points in time.\n",
    "\n",
    "Functions like `pd.to_datetime` can be used to convert between different formats and, for instance, when reading the time stored as a string from a dataset:"
   ]
  },
  {
   "cell_type": "code",
   "execution_count": 8,
   "metadata": {
    "scrolled": true
   },
   "outputs": [
    {
     "name": "stdout",
     "output_type": "stream",
     "text": [
      "Timestamp: 1605177910000015000\n",
      "Time: 2010-11-12 00:00:00 , timestamp: 1289520000000000000 , type: <class 'pandas._libs.tslibs.timestamps.Timestamp'>\n",
      "Time: 2010-11-12 10:39:00 , timestamp: 1289558340000000000 , type: <class 'pandas._libs.tslibs.timestamps.Timestamp'>\n"
     ]
    }
   ],
   "source": [
    "# Get the timestamp, which is the nanoseconds from January 1st 1970\n",
    "tstamp = pd.Timestamp(date)\n",
    "#tstamp = pd.Timestamp(dt.datetime(1970, 1, 1, 0, 0, 0, 1))\n",
    "print(\"Timestamp:\", tstamp.value)\n",
    "\n",
    "# when creating a timestamp the format can be explicitly passed\n",
    "ts = pd.to_datetime('2010/11/12', format='%Y/%m/%d')\n",
    "print(\"Time:\", ts, \", timestamp:\", ts.value, \", type:\", type(ts))\n",
    "\n",
    "ts = pd.to_datetime('12-11-2010 10:39', format='%d-%m-%Y %H:%M')\n",
    "print(\"Time:\", ts, \", timestamp:\", ts.value, \", type:\", type(ts))"
   ]
  },
  {
   "cell_type": "markdown",
   "metadata": {},
   "source": [
    "**Pandas Date range**\n",
    "\n",
    "Time series are very often used to describe the behaviour of a quantity as a function of time. Pandas has a special type of index for that, `DatetimeIndex`, that can be created e.g. with the function `pd.data_range()`."
   ]
  },
  {
   "cell_type": "code",
   "execution_count": 9,
   "metadata": {},
   "outputs": [
    {
     "name": "stdout",
     "output_type": "stream",
     "text": [
      "7 days range: DatetimeIndex(['2020-11-12 10:45:10.000015', '2020-11-13 10:45:10.000015',\n",
      "               '2020-11-14 10:45:10.000015', '2020-11-15 10:45:10.000015',\n",
      "               '2020-11-16 10:45:10.000015', '2020-11-17 10:45:10.000015',\n",
      "               '2020-11-18 10:45:10.000015'],\n",
      "              dtype='datetime64[ns]', freq='D')\n",
      "1 hour in seconds: DatetimeIndex(['2020-11-12 10:45:10.000015', '2020-11-12 10:45:11.000015',\n",
      "               '2020-11-12 10:45:12.000015', '2020-11-12 10:45:13.000015',\n",
      "               '2020-11-12 10:45:14.000015', '2020-11-12 10:45:15.000015',\n",
      "               '2020-11-12 10:45:16.000015', '2020-11-12 10:45:17.000015',\n",
      "               '2020-11-12 10:45:18.000015', '2020-11-12 10:45:19.000015',\n",
      "               ...\n",
      "               '2020-11-12 11:45:00.000015', '2020-11-12 11:45:01.000015',\n",
      "               '2020-11-12 11:45:02.000015', '2020-11-12 11:45:03.000015',\n",
      "               '2020-11-12 11:45:04.000015', '2020-11-12 11:45:05.000015',\n",
      "               '2020-11-12 11:45:06.000015', '2020-11-12 11:45:07.000015',\n",
      "               '2020-11-12 11:45:08.000015', '2020-11-12 11:45:09.000015'],\n",
      "              dtype='datetime64[ns]', length=3600, freq='S')\n"
     ]
    }
   ],
   "source": [
    "# create DatetimeIndex using ranges:\n",
    "days = pd.date_range(date, periods=7, freq='D')\n",
    "print(\"7 days range:\", days)\n",
    "\n",
    "seconds = pd.date_range(date, periods=3600, freq='s')\n",
    "print(\"1 hour in seconds:\", seconds)"
   ]
  },
  {
   "cell_type": "markdown",
   "metadata": {},
   "source": [
    "To learn more about the frequency strings, please check the [documentation](http://pandas.pydata.org/pandas-docs/stable/timeseries.html#offset-aliases)."
   ]
  },
  {
   "cell_type": "markdown",
   "metadata": {},
   "source": [
    "A standard series can be created, and (a range of) elements can be used as indices:"
   ]
  },
  {
   "cell_type": "code",
   "execution_count": 10,
   "metadata": {
    "scrolled": true
   },
   "outputs": [
    {
     "name": "stdout",
     "output_type": "stream",
     "text": [
      "index:\n",
      " DatetimeIndex(['2020-11-12 10:45:10.000015', '2020-11-13 10:45:10.000015',\n",
      "               '2020-11-14 10:45:10.000015', '2020-11-15 10:45:10.000015',\n",
      "               '2020-11-16 10:45:10.000015', '2020-11-17 10:45:10.000015',\n",
      "               '2020-11-18 10:45:10.000015'],\n",
      "              dtype='datetime64[ns]', freq='D') \n",
      "\n",
      "time series:\n",
      " DatetimeIndex(['2020-11-12 10:45:10.000015', '2020-11-13 10:45:10.000015',\n",
      "               '2020-11-14 10:45:10.000015', '2020-11-15 10:45:10.000015',\n",
      "               '2020-11-16 10:45:10.000015', '2020-11-17 10:45:10.000015',\n",
      "               '2020-11-18 10:45:10.000015'],\n",
      "              dtype='datetime64[ns]', freq='D') \n",
      "\n",
      "slice by position:\n",
      " 2020-11-12 10:45:10.000015     8.068798\n",
      "2020-11-13 10:45:10.000015    10.658478\n",
      "2020-11-14 10:45:10.000015    10.164519\n",
      "2020-11-15 10:45:10.000015    11.182672\n",
      "Freq: D, dtype: float64 \n",
      "\n",
      "slice by date range:\n",
      " 2020-11-12 10:45:10.000015     8.068798\n",
      "2020-11-13 10:45:10.000015    10.658478\n",
      "2020-11-14 10:45:10.000015    10.164519\n",
      "Freq: D, dtype: float64 \n",
      "\n"
     ]
    }
   ],
   "source": [
    "print(\"index:\\n\", days, '\\n')\n",
    "tseries = pd.Series(np.random.normal(10, 1, len(days)), index=days)\n",
    "print(\"time series:\\n\", days, '\\n')\n",
    "# Extracting elements\n",
    "print(\"slice by position:\\n\", tseries[0:4], '\\n')\n",
    "print(\"slice by date range:\\n\", tseries['2020-9-11' : '2020-11-14'], '\\n') # note that includes end time"
   ]
  },
  {
   "cell_type": "markdown",
   "metadata": {},
   "source": [
    "`pd.to_datetime` can also be used to create a `DatetimeIndex` if the argument is a list:"
   ]
  },
  {
   "cell_type": "code",
   "execution_count": 11,
   "metadata": {},
   "outputs": [
    {
     "name": "stdout",
     "output_type": "stream",
     "text": [
      "DatetimeIndex(['1980-02-04', '1980-02-05', '1980-02-06', '1980-02-07'], dtype='datetime64[ns]', freq=None)\n"
     ]
    }
   ],
   "source": [
    "print(pd.to_datetime([1, 2, 3, 4], unit='D', origin=pd.Timestamp('1980-02-03')))"
   ]
  },
  {
   "cell_type": "markdown",
   "metadata": {},
   "source": [
    "## DataFrame\n",
    "\n",
    "A pandas DataFrame can be thought as a tabular spreadsheet, although the performance, the functionalities and the capabilities are very different.\n",
    "\n",
    "Similarly to Series, the DataFrame structure also contains labeled axes (rows and columns). Arithmetic operations **align on both row and column labels**. Each column in a DataFrame is a Series object: as a matter of fact, a DataFrame can be thought of as a dict-like container for Series objects.\n",
    "\n",
    "The elements can be of all types, and missing data could be present too (represented as NaN).\n",
    "\n",
    "For future reference (or for people already familiar with R), a pandas DataFrame is also similar to the R DataFrame.\n",
    "\n",
    "Link to the official [documentation](https://pandas.pydata.org/pandas-docs/stable/reference/api/pandas.DataFrame.html)."
   ]
  },
  {
   "cell_type": "markdown",
   "metadata": {},
   "source": [
    "### Constructor\n",
    "\n",
    "A DataFrame objects can be created by passing a dictionary of objects. Note that the dictionary values are not omogeneous and do not have the same length. In these cases, pandas will automatically adjust the sizes, by replicating the content or adding NaN if necessary."
   ]
  },
  {
   "cell_type": "code",
   "execution_count": 12,
   "metadata": {},
   "outputs": [
    {
     "data": {
      "text/html": [
       "<div>\n",
       "<style scoped>\n",
       "    .dataframe tbody tr th:only-of-type {\n",
       "        vertical-align: middle;\n",
       "    }\n",
       "\n",
       "    .dataframe tbody tr th {\n",
       "        vertical-align: top;\n",
       "    }\n",
       "\n",
       "    .dataframe thead th {\n",
       "        text-align: right;\n",
       "    }\n",
       "</style>\n",
       "<table border=\"1\" class=\"dataframe\">\n",
       "  <thead>\n",
       "    <tr style=\"text-align: right;\">\n",
       "      <th></th>\n",
       "      <th>A</th>\n",
       "      <th>B</th>\n",
       "      <th>C</th>\n",
       "      <th>D</th>\n",
       "      <th>E</th>\n",
       "    </tr>\n",
       "  </thead>\n",
       "  <tbody>\n",
       "    <tr>\n",
       "      <th>0</th>\n",
       "      <td>1.0</td>\n",
       "      <td>2013-01-02</td>\n",
       "      <td>3.0</td>\n",
       "      <td>7</td>\n",
       "      <td>test</td>\n",
       "    </tr>\n",
       "    <tr>\n",
       "      <th>1</th>\n",
       "      <td>1.0</td>\n",
       "      <td>2013-01-02</td>\n",
       "      <td>3.0</td>\n",
       "      <td>8</td>\n",
       "      <td>train</td>\n",
       "    </tr>\n",
       "    <tr>\n",
       "      <th>2</th>\n",
       "      <td>1.0</td>\n",
       "      <td>2013-01-02</td>\n",
       "      <td>3.0</td>\n",
       "      <td>9</td>\n",
       "      <td>test</td>\n",
       "    </tr>\n",
       "    <tr>\n",
       "      <th>3</th>\n",
       "      <td>1.0</td>\n",
       "      <td>2013-01-02</td>\n",
       "      <td>3.0</td>\n",
       "      <td>10</td>\n",
       "      <td>train</td>\n",
       "    </tr>\n",
       "  </tbody>\n",
       "</table>\n",
       "</div>"
      ],
      "text/plain": [
       "     A          B    C   D      E\n",
       "0  1.0 2013-01-02  3.0   7   test\n",
       "1  1.0 2013-01-02  3.0   8  train\n",
       "2  1.0 2013-01-02  3.0   9   test\n",
       "3  1.0 2013-01-02  3.0  10  train"
      ]
     },
     "execution_count": 12,
     "metadata": {},
     "output_type": "execute_result"
    }
   ],
   "source": [
    "df = pd.DataFrame({\n",
    "    'A' : 1.,\n",
    "    'B' : pd.Timestamp('20130102'),\n",
    "    'C' : pd.Series(3, index=range(4), dtype='float32'),\n",
    "    'D' : np.arange(7, 11),\n",
    "    'E' : pd.Categorical([\"test\", \"train\", \"test\", \"train\"]), # a Series that represents a category label\n",
    "})\n",
    "# the keys of the dictionary represent the labels of the columns\n",
    "\n",
    "df"
   ]
  },
  {
   "cell_type": "markdown",
   "metadata": {},
   "source": [
    "An example of DataFrame with a `DatatimeIndex` object as index:"
   ]
  },
  {
   "cell_type": "code",
   "execution_count": 13,
   "metadata": {},
   "outputs": [
    {
     "name": "stdout",
     "output_type": "stream",
     "text": [
      "<class 'pandas.core.indexes.datetimes.DatetimeIndex'>\n"
     ]
    },
    {
     "data": {
      "text/html": [
       "<div>\n",
       "<style scoped>\n",
       "    .dataframe tbody tr th:only-of-type {\n",
       "        vertical-align: middle;\n",
       "    }\n",
       "\n",
       "    .dataframe tbody tr th {\n",
       "        vertical-align: top;\n",
       "    }\n",
       "\n",
       "    .dataframe thead th {\n",
       "        text-align: right;\n",
       "    }\n",
       "</style>\n",
       "<table border=\"1\" class=\"dataframe\">\n",
       "  <thead>\n",
       "    <tr style=\"text-align: right;\">\n",
       "      <th></th>\n",
       "      <th>A</th>\n",
       "      <th>B</th>\n",
       "      <th>C</th>\n",
       "      <th>D</th>\n",
       "    </tr>\n",
       "  </thead>\n",
       "  <tbody>\n",
       "    <tr>\n",
       "      <th>2020-11-09 14:45:00</th>\n",
       "      <td>-1.181499</td>\n",
       "      <td>0.850591</td>\n",
       "      <td>0.510063</td>\n",
       "      <td>0.058005</td>\n",
       "    </tr>\n",
       "    <tr>\n",
       "      <th>2020-11-09 15:45:00</th>\n",
       "      <td>-0.144840</td>\n",
       "      <td>0.476177</td>\n",
       "      <td>-1.403685</td>\n",
       "      <td>1.722462</td>\n",
       "    </tr>\n",
       "    <tr>\n",
       "      <th>2020-11-09 16:45:00</th>\n",
       "      <td>-1.169418</td>\n",
       "      <td>-0.400168</td>\n",
       "      <td>-0.298101</td>\n",
       "      <td>-1.173779</td>\n",
       "    </tr>\n",
       "    <tr>\n",
       "      <th>2020-11-09 17:45:00</th>\n",
       "      <td>0.710909</td>\n",
       "      <td>0.662641</td>\n",
       "      <td>-0.061064</td>\n",
       "      <td>0.515538</td>\n",
       "    </tr>\n",
       "    <tr>\n",
       "      <th>2020-11-09 18:45:00</th>\n",
       "      <td>-0.419801</td>\n",
       "      <td>-1.132206</td>\n",
       "      <td>-0.104236</td>\n",
       "      <td>0.069780</td>\n",
       "    </tr>\n",
       "    <tr>\n",
       "      <th>2020-11-09 19:45:00</th>\n",
       "      <td>-0.988285</td>\n",
       "      <td>-0.671881</td>\n",
       "      <td>-0.076915</td>\n",
       "      <td>-1.239036</td>\n",
       "    </tr>\n",
       "    <tr>\n",
       "      <th>2020-11-09 20:45:00</th>\n",
       "      <td>1.020399</td>\n",
       "      <td>1.384018</td>\n",
       "      <td>-0.789461</td>\n",
       "      <td>-0.122603</td>\n",
       "    </tr>\n",
       "    <tr>\n",
       "      <th>2020-11-09 21:45:00</th>\n",
       "      <td>-0.432209</td>\n",
       "      <td>0.375493</td>\n",
       "      <td>-2.366441</td>\n",
       "      <td>2.060894</td>\n",
       "    </tr>\n",
       "    <tr>\n",
       "      <th>2020-11-09 22:45:00</th>\n",
       "      <td>0.794926</td>\n",
       "      <td>1.188186</td>\n",
       "      <td>-1.178915</td>\n",
       "      <td>1.183269</td>\n",
       "    </tr>\n",
       "    <tr>\n",
       "      <th>2020-11-09 23:45:00</th>\n",
       "      <td>0.055947</td>\n",
       "      <td>-0.823206</td>\n",
       "      <td>0.329393</td>\n",
       "      <td>1.290047</td>\n",
       "    </tr>\n",
       "  </tbody>\n",
       "</table>\n",
       "</div>"
      ],
      "text/plain": [
       "                            A         B         C         D\n",
       "2020-11-09 14:45:00 -1.181499  0.850591  0.510063  0.058005\n",
       "2020-11-09 15:45:00 -0.144840  0.476177 -1.403685  1.722462\n",
       "2020-11-09 16:45:00 -1.169418 -0.400168 -0.298101 -1.173779\n",
       "2020-11-09 17:45:00  0.710909  0.662641 -0.061064  0.515538\n",
       "2020-11-09 18:45:00 -0.419801 -1.132206 -0.104236  0.069780\n",
       "2020-11-09 19:45:00 -0.988285 -0.671881 -0.076915 -1.239036\n",
       "2020-11-09 20:45:00  1.020399  1.384018 -0.789461 -0.122603\n",
       "2020-11-09 21:45:00 -0.432209  0.375493 -2.366441  2.060894\n",
       "2020-11-09 22:45:00  0.794926  1.188186 -1.178915  1.183269\n",
       "2020-11-09 23:45:00  0.055947 -0.823206  0.329393  1.290047"
      ]
     },
     "execution_count": 13,
     "metadata": {},
     "output_type": "execute_result"
    }
   ],
   "source": [
    "entries = 10\n",
    "columns = ['A', 'B', 'C', 'D']\n",
    "dates = pd.date_range('11/9/2020 14:45:00', freq='h', periods=entries) # days/month/year\n",
    "print(type(dates))\n",
    "test = pd.DataFrame(dates,index  = range(11,11+len(dates)), columns = [\"colonna1\"])\n",
    "df = pd.DataFrame(np.random.randn(entries, len(columns)), index=dates, columns=columns)\n",
    "df # pay attention that the date is printed as year-day-month\n"
   ]
  },
  {
   "cell_type": "code",
   "execution_count": 14,
   "metadata": {},
   "outputs": [
    {
     "data": {
      "text/html": [
       "<div>\n",
       "<style scoped>\n",
       "    .dataframe tbody tr th:only-of-type {\n",
       "        vertical-align: middle;\n",
       "    }\n",
       "\n",
       "    .dataframe tbody tr th {\n",
       "        vertical-align: top;\n",
       "    }\n",
       "\n",
       "    .dataframe thead th {\n",
       "        text-align: right;\n",
       "    }\n",
       "</style>\n",
       "<table border=\"1\" class=\"dataframe\">\n",
       "  <thead>\n",
       "    <tr style=\"text-align: right;\">\n",
       "      <th></th>\n",
       "      <th>colonna1</th>\n",
       "    </tr>\n",
       "  </thead>\n",
       "  <tbody>\n",
       "    <tr>\n",
       "      <th>11</th>\n",
       "      <td>2020-11-09 14:45:00</td>\n",
       "    </tr>\n",
       "    <tr>\n",
       "      <th>12</th>\n",
       "      <td>2020-11-09 15:45:00</td>\n",
       "    </tr>\n",
       "    <tr>\n",
       "      <th>13</th>\n",
       "      <td>2020-11-09 16:45:00</td>\n",
       "    </tr>\n",
       "    <tr>\n",
       "      <th>14</th>\n",
       "      <td>2020-11-09 17:45:00</td>\n",
       "    </tr>\n",
       "    <tr>\n",
       "      <th>15</th>\n",
       "      <td>2020-11-09 18:45:00</td>\n",
       "    </tr>\n",
       "    <tr>\n",
       "      <th>16</th>\n",
       "      <td>2020-11-09 19:45:00</td>\n",
       "    </tr>\n",
       "    <tr>\n",
       "      <th>17</th>\n",
       "      <td>2020-11-09 20:45:00</td>\n",
       "    </tr>\n",
       "    <tr>\n",
       "      <th>18</th>\n",
       "      <td>2020-11-09 21:45:00</td>\n",
       "    </tr>\n",
       "    <tr>\n",
       "      <th>19</th>\n",
       "      <td>2020-11-09 22:45:00</td>\n",
       "    </tr>\n",
       "    <tr>\n",
       "      <th>20</th>\n",
       "      <td>2020-11-09 23:45:00</td>\n",
       "    </tr>\n",
       "  </tbody>\n",
       "</table>\n",
       "</div>"
      ],
      "text/plain": [
       "              colonna1\n",
       "11 2020-11-09 14:45:00\n",
       "12 2020-11-09 15:45:00\n",
       "13 2020-11-09 16:45:00\n",
       "14 2020-11-09 17:45:00\n",
       "15 2020-11-09 18:45:00\n",
       "16 2020-11-09 19:45:00\n",
       "17 2020-11-09 20:45:00\n",
       "18 2020-11-09 21:45:00\n",
       "19 2020-11-09 22:45:00\n",
       "20 2020-11-09 23:45:00"
      ]
     },
     "execution_count": 14,
     "metadata": {},
     "output_type": "execute_result"
    }
   ],
   "source": [
    "test"
   ]
  },
  {
   "cell_type": "markdown",
   "metadata": {},
   "source": [
    "### Viewing Data"
   ]
  },
  {
   "cell_type": "code",
   "execution_count": 15,
   "metadata": {},
   "outputs": [
    {
     "data": {
      "text/html": [
       "<div>\n",
       "<style scoped>\n",
       "    .dataframe tbody tr th:only-of-type {\n",
       "        vertical-align: middle;\n",
       "    }\n",
       "\n",
       "    .dataframe tbody tr th {\n",
       "        vertical-align: top;\n",
       "    }\n",
       "\n",
       "    .dataframe thead th {\n",
       "        text-align: right;\n",
       "    }\n",
       "</style>\n",
       "<table border=\"1\" class=\"dataframe\">\n",
       "  <thead>\n",
       "    <tr style=\"text-align: right;\">\n",
       "      <th></th>\n",
       "      <th>A</th>\n",
       "      <th>B</th>\n",
       "      <th>C</th>\n",
       "      <th>D</th>\n",
       "    </tr>\n",
       "  </thead>\n",
       "  <tbody>\n",
       "    <tr>\n",
       "      <th>2020-11-09 14:45:00</th>\n",
       "      <td>-1.181499</td>\n",
       "      <td>0.850591</td>\n",
       "      <td>0.510063</td>\n",
       "      <td>0.058005</td>\n",
       "    </tr>\n",
       "    <tr>\n",
       "      <th>2020-11-09 15:45:00</th>\n",
       "      <td>-0.144840</td>\n",
       "      <td>0.476177</td>\n",
       "      <td>-1.403685</td>\n",
       "      <td>1.722462</td>\n",
       "    </tr>\n",
       "    <tr>\n",
       "      <th>2020-11-09 16:45:00</th>\n",
       "      <td>-1.169418</td>\n",
       "      <td>-0.400168</td>\n",
       "      <td>-0.298101</td>\n",
       "      <td>-1.173779</td>\n",
       "    </tr>\n",
       "    <tr>\n",
       "      <th>2020-11-09 17:45:00</th>\n",
       "      <td>0.710909</td>\n",
       "      <td>0.662641</td>\n",
       "      <td>-0.061064</td>\n",
       "      <td>0.515538</td>\n",
       "    </tr>\n",
       "    <tr>\n",
       "      <th>2020-11-09 18:45:00</th>\n",
       "      <td>-0.419801</td>\n",
       "      <td>-1.132206</td>\n",
       "      <td>-0.104236</td>\n",
       "      <td>0.069780</td>\n",
       "    </tr>\n",
       "  </tbody>\n",
       "</table>\n",
       "</div>"
      ],
      "text/plain": [
       "                            A         B         C         D\n",
       "2020-11-09 14:45:00 -1.181499  0.850591  0.510063  0.058005\n",
       "2020-11-09 15:45:00 -0.144840  0.476177 -1.403685  1.722462\n",
       "2020-11-09 16:45:00 -1.169418 -0.400168 -0.298101 -1.173779\n",
       "2020-11-09 17:45:00  0.710909  0.662641 -0.061064  0.515538\n",
       "2020-11-09 18:45:00 -0.419801 -1.132206 -0.104236  0.069780"
      ]
     },
     "execution_count": 15,
     "metadata": {},
     "output_type": "execute_result"
    }
   ],
   "source": [
    "df.head()"
   ]
  },
  {
   "cell_type": "code",
   "execution_count": 16,
   "metadata": {},
   "outputs": [
    {
     "data": {
      "text/html": [
       "<div>\n",
       "<style scoped>\n",
       "    .dataframe tbody tr th:only-of-type {\n",
       "        vertical-align: middle;\n",
       "    }\n",
       "\n",
       "    .dataframe tbody tr th {\n",
       "        vertical-align: top;\n",
       "    }\n",
       "\n",
       "    .dataframe thead th {\n",
       "        text-align: right;\n",
       "    }\n",
       "</style>\n",
       "<table border=\"1\" class=\"dataframe\">\n",
       "  <thead>\n",
       "    <tr style=\"text-align: right;\">\n",
       "      <th></th>\n",
       "      <th>A</th>\n",
       "      <th>B</th>\n",
       "      <th>C</th>\n",
       "      <th>D</th>\n",
       "    </tr>\n",
       "  </thead>\n",
       "  <tbody>\n",
       "    <tr>\n",
       "      <th>2020-11-09 20:45:00</th>\n",
       "      <td>1.020399</td>\n",
       "      <td>1.384018</td>\n",
       "      <td>-0.789461</td>\n",
       "      <td>-0.122603</td>\n",
       "    </tr>\n",
       "    <tr>\n",
       "      <th>2020-11-09 21:45:00</th>\n",
       "      <td>-0.432209</td>\n",
       "      <td>0.375493</td>\n",
       "      <td>-2.366441</td>\n",
       "      <td>2.060894</td>\n",
       "    </tr>\n",
       "    <tr>\n",
       "      <th>2020-11-09 22:45:00</th>\n",
       "      <td>0.794926</td>\n",
       "      <td>1.188186</td>\n",
       "      <td>-1.178915</td>\n",
       "      <td>1.183269</td>\n",
       "    </tr>\n",
       "    <tr>\n",
       "      <th>2020-11-09 23:45:00</th>\n",
       "      <td>0.055947</td>\n",
       "      <td>-0.823206</td>\n",
       "      <td>0.329393</td>\n",
       "      <td>1.290047</td>\n",
       "    </tr>\n",
       "  </tbody>\n",
       "</table>\n",
       "</div>"
      ],
      "text/plain": [
       "                            A         B         C         D\n",
       "2020-11-09 20:45:00  1.020399  1.384018 -0.789461 -0.122603\n",
       "2020-11-09 21:45:00 -0.432209  0.375493 -2.366441  2.060894\n",
       "2020-11-09 22:45:00  0.794926  1.188186 -1.178915  1.183269\n",
       "2020-11-09 23:45:00  0.055947 -0.823206  0.329393  1.290047"
      ]
     },
     "execution_count": 16,
     "metadata": {},
     "output_type": "execute_result"
    }
   ],
   "source": [
    "df.tail(4)"
   ]
  },
  {
   "cell_type": "code",
   "execution_count": 17,
   "metadata": {},
   "outputs": [
    {
     "data": {
      "text/plain": [
       "DatetimeIndex(['2020-11-09 14:45:00', '2020-11-09 15:45:00',\n",
       "               '2020-11-09 16:45:00', '2020-11-09 17:45:00',\n",
       "               '2020-11-09 18:45:00', '2020-11-09 19:45:00',\n",
       "               '2020-11-09 20:45:00', '2020-11-09 21:45:00',\n",
       "               '2020-11-09 22:45:00', '2020-11-09 23:45:00'],\n",
       "              dtype='datetime64[ns]', freq='H')"
      ]
     },
     "execution_count": 17,
     "metadata": {},
     "output_type": "execute_result"
    }
   ],
   "source": [
    "df.index"
   ]
  },
  {
   "cell_type": "code",
   "execution_count": 18,
   "metadata": {},
   "outputs": [
    {
     "data": {
      "text/plain": [
       "Index(['A', 'B', 'C', 'D'], dtype='object')"
      ]
     },
     "execution_count": 18,
     "metadata": {},
     "output_type": "execute_result"
    }
   ],
   "source": [
    "df.columns"
   ]
  },
  {
   "cell_type": "code",
   "execution_count": 19,
   "metadata": {},
   "outputs": [
    {
     "data": {
      "text/plain": [
       "array([[-1.18149888,  0.85059142,  0.51006314,  0.05800456],\n",
       "       [-0.14484039,  0.47617741, -1.40368464,  1.72246231],\n",
       "       [-1.1694178 , -0.40016793, -0.29810072, -1.173779  ],\n",
       "       [ 0.71090939,  0.66264094, -0.06106448,  0.51553791],\n",
       "       [-0.41980149, -1.13220569, -0.10423552,  0.0697798 ],\n",
       "       [-0.98828472, -0.67188117, -0.07691463, -1.2390361 ],\n",
       "       [ 1.02039944,  1.38401776, -0.78946129, -0.12260299],\n",
       "       [-0.43220872,  0.37549255, -2.36644136,  2.06089444],\n",
       "       [ 0.79492556,  1.18818628, -1.17891452,  1.18326948],\n",
       "       [ 0.05594662, -0.82320609,  0.32939291,  1.29004682]])"
      ]
     },
     "execution_count": 19,
     "metadata": {},
     "output_type": "execute_result"
    }
   ],
   "source": [
    "df.values"
   ]
  },
  {
   "cell_type": "code",
   "execution_count": 20,
   "metadata": {},
   "outputs": [
    {
     "data": {
      "text/html": [
       "<div>\n",
       "<style scoped>\n",
       "    .dataframe tbody tr th:only-of-type {\n",
       "        vertical-align: middle;\n",
       "    }\n",
       "\n",
       "    .dataframe tbody tr th {\n",
       "        vertical-align: top;\n",
       "    }\n",
       "\n",
       "    .dataframe thead th {\n",
       "        text-align: right;\n",
       "    }\n",
       "</style>\n",
       "<table border=\"1\" class=\"dataframe\">\n",
       "  <thead>\n",
       "    <tr style=\"text-align: right;\">\n",
       "      <th></th>\n",
       "      <th>A</th>\n",
       "      <th>B</th>\n",
       "      <th>C</th>\n",
       "      <th>D</th>\n",
       "    </tr>\n",
       "  </thead>\n",
       "  <tbody>\n",
       "    <tr>\n",
       "      <th>count</th>\n",
       "      <td>10.000000</td>\n",
       "      <td>10.000000</td>\n",
       "      <td>10.000000</td>\n",
       "      <td>10.000000</td>\n",
       "    </tr>\n",
       "    <tr>\n",
       "      <th>mean</th>\n",
       "      <td>-0.175387</td>\n",
       "      <td>0.190965</td>\n",
       "      <td>-0.543936</td>\n",
       "      <td>0.436458</td>\n",
       "    </tr>\n",
       "    <tr>\n",
       "      <th>std</th>\n",
       "      <td>0.816377</td>\n",
       "      <td>0.885944</td>\n",
       "      <td>0.888372</td>\n",
       "      <td>1.134096</td>\n",
       "    </tr>\n",
       "    <tr>\n",
       "      <th>min</th>\n",
       "      <td>-1.181499</td>\n",
       "      <td>-1.132206</td>\n",
       "      <td>-2.366441</td>\n",
       "      <td>-1.239036</td>\n",
       "    </tr>\n",
       "    <tr>\n",
       "      <th>25%</th>\n",
       "      <td>-0.849266</td>\n",
       "      <td>-0.603953</td>\n",
       "      <td>-1.081551</td>\n",
       "      <td>-0.077451</td>\n",
       "    </tr>\n",
       "    <tr>\n",
       "      <th>50%</th>\n",
       "      <td>-0.282321</td>\n",
       "      <td>0.425835</td>\n",
       "      <td>-0.201168</td>\n",
       "      <td>0.292659</td>\n",
       "    </tr>\n",
       "    <tr>\n",
       "      <th>75%</th>\n",
       "      <td>0.547169</td>\n",
       "      <td>0.803604</td>\n",
       "      <td>-0.065027</td>\n",
       "      <td>1.263352</td>\n",
       "    </tr>\n",
       "    <tr>\n",
       "      <th>max</th>\n",
       "      <td>1.020399</td>\n",
       "      <td>1.384018</td>\n",
       "      <td>0.510063</td>\n",
       "      <td>2.060894</td>\n",
       "    </tr>\n",
       "  </tbody>\n",
       "</table>\n",
       "</div>"
      ],
      "text/plain": [
       "               A          B          C          D\n",
       "count  10.000000  10.000000  10.000000  10.000000\n",
       "mean   -0.175387   0.190965  -0.543936   0.436458\n",
       "std     0.816377   0.885944   0.888372   1.134096\n",
       "min    -1.181499  -1.132206  -2.366441  -1.239036\n",
       "25%    -0.849266  -0.603953  -1.081551  -0.077451\n",
       "50%    -0.282321   0.425835  -0.201168   0.292659\n",
       "75%     0.547169   0.803604  -0.065027   1.263352\n",
       "max     1.020399   1.384018   0.510063   2.060894"
      ]
     },
     "execution_count": 20,
     "metadata": {},
     "output_type": "execute_result"
    }
   ],
   "source": [
    "df.describe()"
   ]
  },
  {
   "cell_type": "code",
   "execution_count": 21,
   "metadata": {},
   "outputs": [
    {
     "data": {
      "text/html": [
       "<div>\n",
       "<style scoped>\n",
       "    .dataframe tbody tr th:only-of-type {\n",
       "        vertical-align: middle;\n",
       "    }\n",
       "\n",
       "    .dataframe tbody tr th {\n",
       "        vertical-align: top;\n",
       "    }\n",
       "\n",
       "    .dataframe thead th {\n",
       "        text-align: right;\n",
       "    }\n",
       "</style>\n",
       "<table border=\"1\" class=\"dataframe\">\n",
       "  <thead>\n",
       "    <tr style=\"text-align: right;\">\n",
       "      <th></th>\n",
       "      <th>2020-11-09 14:45:00</th>\n",
       "      <th>2020-11-09 15:45:00</th>\n",
       "      <th>2020-11-09 16:45:00</th>\n",
       "      <th>2020-11-09 17:45:00</th>\n",
       "      <th>2020-11-09 18:45:00</th>\n",
       "      <th>2020-11-09 19:45:00</th>\n",
       "      <th>2020-11-09 20:45:00</th>\n",
       "      <th>2020-11-09 21:45:00</th>\n",
       "      <th>2020-11-09 22:45:00</th>\n",
       "      <th>2020-11-09 23:45:00</th>\n",
       "    </tr>\n",
       "  </thead>\n",
       "  <tbody>\n",
       "    <tr>\n",
       "      <th>A</th>\n",
       "      <td>-1.181499</td>\n",
       "      <td>-0.144840</td>\n",
       "      <td>-1.169418</td>\n",
       "      <td>0.710909</td>\n",
       "      <td>-0.419801</td>\n",
       "      <td>-0.988285</td>\n",
       "      <td>1.020399</td>\n",
       "      <td>-0.432209</td>\n",
       "      <td>0.794926</td>\n",
       "      <td>0.055947</td>\n",
       "    </tr>\n",
       "    <tr>\n",
       "      <th>B</th>\n",
       "      <td>0.850591</td>\n",
       "      <td>0.476177</td>\n",
       "      <td>-0.400168</td>\n",
       "      <td>0.662641</td>\n",
       "      <td>-1.132206</td>\n",
       "      <td>-0.671881</td>\n",
       "      <td>1.384018</td>\n",
       "      <td>0.375493</td>\n",
       "      <td>1.188186</td>\n",
       "      <td>-0.823206</td>\n",
       "    </tr>\n",
       "    <tr>\n",
       "      <th>C</th>\n",
       "      <td>0.510063</td>\n",
       "      <td>-1.403685</td>\n",
       "      <td>-0.298101</td>\n",
       "      <td>-0.061064</td>\n",
       "      <td>-0.104236</td>\n",
       "      <td>-0.076915</td>\n",
       "      <td>-0.789461</td>\n",
       "      <td>-2.366441</td>\n",
       "      <td>-1.178915</td>\n",
       "      <td>0.329393</td>\n",
       "    </tr>\n",
       "    <tr>\n",
       "      <th>D</th>\n",
       "      <td>0.058005</td>\n",
       "      <td>1.722462</td>\n",
       "      <td>-1.173779</td>\n",
       "      <td>0.515538</td>\n",
       "      <td>0.069780</td>\n",
       "      <td>-1.239036</td>\n",
       "      <td>-0.122603</td>\n",
       "      <td>2.060894</td>\n",
       "      <td>1.183269</td>\n",
       "      <td>1.290047</td>\n",
       "    </tr>\n",
       "  </tbody>\n",
       "</table>\n",
       "</div>"
      ],
      "text/plain": [
       "   2020-11-09 14:45:00  2020-11-09 15:45:00  2020-11-09 16:45:00  \\\n",
       "A            -1.181499            -0.144840            -1.169418   \n",
       "B             0.850591             0.476177            -0.400168   \n",
       "C             0.510063            -1.403685            -0.298101   \n",
       "D             0.058005             1.722462            -1.173779   \n",
       "\n",
       "   2020-11-09 17:45:00  2020-11-09 18:45:00  2020-11-09 19:45:00  \\\n",
       "A             0.710909            -0.419801            -0.988285   \n",
       "B             0.662641            -1.132206            -0.671881   \n",
       "C            -0.061064            -0.104236            -0.076915   \n",
       "D             0.515538             0.069780            -1.239036   \n",
       "\n",
       "   2020-11-09 20:45:00  2020-11-09 21:45:00  2020-11-09 22:45:00  \\\n",
       "A             1.020399            -0.432209             0.794926   \n",
       "B             1.384018             0.375493             1.188186   \n",
       "C            -0.789461            -2.366441            -1.178915   \n",
       "D            -0.122603             2.060894             1.183269   \n",
       "\n",
       "   2020-11-09 23:45:00  \n",
       "A             0.055947  \n",
       "B            -0.823206  \n",
       "C             0.329393  \n",
       "D             1.290047  "
      ]
     },
     "execution_count": 21,
     "metadata": {},
     "output_type": "execute_result"
    }
   ],
   "source": [
    "df.T"
   ]
  },
  {
   "cell_type": "code",
   "execution_count": 22,
   "metadata": {},
   "outputs": [
    {
     "data": {
      "text/html": [
       "<div>\n",
       "<style scoped>\n",
       "    .dataframe tbody tr th:only-of-type {\n",
       "        vertical-align: middle;\n",
       "    }\n",
       "\n",
       "    .dataframe tbody tr th {\n",
       "        vertical-align: top;\n",
       "    }\n",
       "\n",
       "    .dataframe thead th {\n",
       "        text-align: right;\n",
       "    }\n",
       "</style>\n",
       "<table border=\"1\" class=\"dataframe\">\n",
       "  <thead>\n",
       "    <tr style=\"text-align: right;\">\n",
       "      <th></th>\n",
       "      <th>D</th>\n",
       "      <th>C</th>\n",
       "      <th>B</th>\n",
       "      <th>A</th>\n",
       "    </tr>\n",
       "  </thead>\n",
       "  <tbody>\n",
       "    <tr>\n",
       "      <th>2020-11-09 14:45:00</th>\n",
       "      <td>0.058005</td>\n",
       "      <td>0.510063</td>\n",
       "      <td>0.850591</td>\n",
       "      <td>-1.181499</td>\n",
       "    </tr>\n",
       "    <tr>\n",
       "      <th>2020-11-09 15:45:00</th>\n",
       "      <td>1.722462</td>\n",
       "      <td>-1.403685</td>\n",
       "      <td>0.476177</td>\n",
       "      <td>-0.144840</td>\n",
       "    </tr>\n",
       "    <tr>\n",
       "      <th>2020-11-09 16:45:00</th>\n",
       "      <td>-1.173779</td>\n",
       "      <td>-0.298101</td>\n",
       "      <td>-0.400168</td>\n",
       "      <td>-1.169418</td>\n",
       "    </tr>\n",
       "    <tr>\n",
       "      <th>2020-11-09 17:45:00</th>\n",
       "      <td>0.515538</td>\n",
       "      <td>-0.061064</td>\n",
       "      <td>0.662641</td>\n",
       "      <td>0.710909</td>\n",
       "    </tr>\n",
       "    <tr>\n",
       "      <th>2020-11-09 18:45:00</th>\n",
       "      <td>0.069780</td>\n",
       "      <td>-0.104236</td>\n",
       "      <td>-1.132206</td>\n",
       "      <td>-0.419801</td>\n",
       "    </tr>\n",
       "    <tr>\n",
       "      <th>2020-11-09 19:45:00</th>\n",
       "      <td>-1.239036</td>\n",
       "      <td>-0.076915</td>\n",
       "      <td>-0.671881</td>\n",
       "      <td>-0.988285</td>\n",
       "    </tr>\n",
       "    <tr>\n",
       "      <th>2020-11-09 20:45:00</th>\n",
       "      <td>-0.122603</td>\n",
       "      <td>-0.789461</td>\n",
       "      <td>1.384018</td>\n",
       "      <td>1.020399</td>\n",
       "    </tr>\n",
       "    <tr>\n",
       "      <th>2020-11-09 21:45:00</th>\n",
       "      <td>2.060894</td>\n",
       "      <td>-2.366441</td>\n",
       "      <td>0.375493</td>\n",
       "      <td>-0.432209</td>\n",
       "    </tr>\n",
       "    <tr>\n",
       "      <th>2020-11-09 22:45:00</th>\n",
       "      <td>1.183269</td>\n",
       "      <td>-1.178915</td>\n",
       "      <td>1.188186</td>\n",
       "      <td>0.794926</td>\n",
       "    </tr>\n",
       "    <tr>\n",
       "      <th>2020-11-09 23:45:00</th>\n",
       "      <td>1.290047</td>\n",
       "      <td>0.329393</td>\n",
       "      <td>-0.823206</td>\n",
       "      <td>0.055947</td>\n",
       "    </tr>\n",
       "  </tbody>\n",
       "</table>\n",
       "</div>"
      ],
      "text/plain": [
       "                            D         C         B         A\n",
       "2020-11-09 14:45:00  0.058005  0.510063  0.850591 -1.181499\n",
       "2020-11-09 15:45:00  1.722462 -1.403685  0.476177 -0.144840\n",
       "2020-11-09 16:45:00 -1.173779 -0.298101 -0.400168 -1.169418\n",
       "2020-11-09 17:45:00  0.515538 -0.061064  0.662641  0.710909\n",
       "2020-11-09 18:45:00  0.069780 -0.104236 -1.132206 -0.419801\n",
       "2020-11-09 19:45:00 -1.239036 -0.076915 -0.671881 -0.988285\n",
       "2020-11-09 20:45:00 -0.122603 -0.789461  1.384018  1.020399\n",
       "2020-11-09 21:45:00  2.060894 -2.366441  0.375493 -0.432209\n",
       "2020-11-09 22:45:00  1.183269 -1.178915  1.188186  0.794926\n",
       "2020-11-09 23:45:00  1.290047  0.329393 -0.823206  0.055947"
      ]
     },
     "execution_count": 22,
     "metadata": {},
     "output_type": "execute_result"
    }
   ],
   "source": [
    "df.sort_index(axis=1, ascending=False)"
   ]
  },
  {
   "cell_type": "code",
   "execution_count": 23,
   "metadata": {},
   "outputs": [
    {
     "data": {
      "text/html": [
       "<div>\n",
       "<style scoped>\n",
       "    .dataframe tbody tr th:only-of-type {\n",
       "        vertical-align: middle;\n",
       "    }\n",
       "\n",
       "    .dataframe tbody tr th {\n",
       "        vertical-align: top;\n",
       "    }\n",
       "\n",
       "    .dataframe thead th {\n",
       "        text-align: right;\n",
       "    }\n",
       "</style>\n",
       "<table border=\"1\" class=\"dataframe\">\n",
       "  <thead>\n",
       "    <tr style=\"text-align: right;\">\n",
       "      <th></th>\n",
       "      <th>A</th>\n",
       "      <th>B</th>\n",
       "      <th>C</th>\n",
       "      <th>D</th>\n",
       "    </tr>\n",
       "  </thead>\n",
       "  <tbody>\n",
       "    <tr>\n",
       "      <th>2020-11-09 14:45:00</th>\n",
       "      <td>-1.181499</td>\n",
       "      <td>0.850591</td>\n",
       "      <td>0.510063</td>\n",
       "      <td>0.058005</td>\n",
       "    </tr>\n",
       "    <tr>\n",
       "      <th>2020-11-09 23:45:00</th>\n",
       "      <td>0.055947</td>\n",
       "      <td>-0.823206</td>\n",
       "      <td>0.329393</td>\n",
       "      <td>1.290047</td>\n",
       "    </tr>\n",
       "    <tr>\n",
       "      <th>2020-11-09 17:45:00</th>\n",
       "      <td>0.710909</td>\n",
       "      <td>0.662641</td>\n",
       "      <td>-0.061064</td>\n",
       "      <td>0.515538</td>\n",
       "    </tr>\n",
       "    <tr>\n",
       "      <th>2020-11-09 19:45:00</th>\n",
       "      <td>-0.988285</td>\n",
       "      <td>-0.671881</td>\n",
       "      <td>-0.076915</td>\n",
       "      <td>-1.239036</td>\n",
       "    </tr>\n",
       "    <tr>\n",
       "      <th>2020-11-09 18:45:00</th>\n",
       "      <td>-0.419801</td>\n",
       "      <td>-1.132206</td>\n",
       "      <td>-0.104236</td>\n",
       "      <td>0.069780</td>\n",
       "    </tr>\n",
       "    <tr>\n",
       "      <th>2020-11-09 16:45:00</th>\n",
       "      <td>-1.169418</td>\n",
       "      <td>-0.400168</td>\n",
       "      <td>-0.298101</td>\n",
       "      <td>-1.173779</td>\n",
       "    </tr>\n",
       "    <tr>\n",
       "      <th>2020-11-09 20:45:00</th>\n",
       "      <td>1.020399</td>\n",
       "      <td>1.384018</td>\n",
       "      <td>-0.789461</td>\n",
       "      <td>-0.122603</td>\n",
       "    </tr>\n",
       "    <tr>\n",
       "      <th>2020-11-09 22:45:00</th>\n",
       "      <td>0.794926</td>\n",
       "      <td>1.188186</td>\n",
       "      <td>-1.178915</td>\n",
       "      <td>1.183269</td>\n",
       "    </tr>\n",
       "    <tr>\n",
       "      <th>2020-11-09 15:45:00</th>\n",
       "      <td>-0.144840</td>\n",
       "      <td>0.476177</td>\n",
       "      <td>-1.403685</td>\n",
       "      <td>1.722462</td>\n",
       "    </tr>\n",
       "    <tr>\n",
       "      <th>2020-11-09 21:45:00</th>\n",
       "      <td>-0.432209</td>\n",
       "      <td>0.375493</td>\n",
       "      <td>-2.366441</td>\n",
       "      <td>2.060894</td>\n",
       "    </tr>\n",
       "  </tbody>\n",
       "</table>\n",
       "</div>"
      ],
      "text/plain": [
       "                            A         B         C         D\n",
       "2020-11-09 14:45:00 -1.181499  0.850591  0.510063  0.058005\n",
       "2020-11-09 23:45:00  0.055947 -0.823206  0.329393  1.290047\n",
       "2020-11-09 17:45:00  0.710909  0.662641 -0.061064  0.515538\n",
       "2020-11-09 19:45:00 -0.988285 -0.671881 -0.076915 -1.239036\n",
       "2020-11-09 18:45:00 -0.419801 -1.132206 -0.104236  0.069780\n",
       "2020-11-09 16:45:00 -1.169418 -0.400168 -0.298101 -1.173779\n",
       "2020-11-09 20:45:00  1.020399  1.384018 -0.789461 -0.122603\n",
       "2020-11-09 22:45:00  0.794926  1.188186 -1.178915  1.183269\n",
       "2020-11-09 15:45:00 -0.144840  0.476177 -1.403685  1.722462\n",
       "2020-11-09 21:45:00 -0.432209  0.375493 -2.366441  2.060894"
      ]
     },
     "execution_count": 23,
     "metadata": {},
     "output_type": "execute_result"
    }
   ],
   "source": [
    "df.sort_values(by=\"C\", ascending=False)"
   ]
  },
  {
   "cell_type": "markdown",
   "metadata": {},
   "source": [
    "### Selection\n",
    "\n",
    "#### Slicing\n",
    "\n",
    "DataFrame slicing allows to select a subset of the DataFrame, or an entire column (a Series):"
   ]
  },
  {
   "cell_type": "code",
   "execution_count": 24,
   "metadata": {},
   "outputs": [
    {
     "name": "stdout",
     "output_type": "stream",
     "text": [
      "2020-11-09 14:45:00   -1.181499\n",
      "2020-11-09 15:45:00   -0.144840\n",
      "2020-11-09 16:45:00   -1.169418\n",
      "2020-11-09 17:45:00    0.710909\n",
      "2020-11-09 18:45:00   -0.419801\n",
      "2020-11-09 19:45:00   -0.988285\n",
      "2020-11-09 20:45:00    1.020399\n",
      "2020-11-09 21:45:00   -0.432209\n",
      "2020-11-09 22:45:00    0.794926\n",
      "2020-11-09 23:45:00    0.055947\n",
      "Freq: H, Name: A, dtype: float64 \n",
      " <class 'pandas.core.series.Series'> \n",
      "\n",
      "2020-11-09 14:45:00   -1.181499\n",
      "2020-11-09 15:45:00   -0.144840\n",
      "2020-11-09 16:45:00   -1.169418\n",
      "2020-11-09 17:45:00    0.710909\n",
      "2020-11-09 18:45:00   -0.419801\n",
      "2020-11-09 19:45:00   -0.988285\n",
      "2020-11-09 20:45:00    1.020399\n",
      "2020-11-09 21:45:00   -0.432209\n",
      "2020-11-09 22:45:00    0.794926\n",
      "2020-11-09 23:45:00    0.055947\n",
      "Freq: H, Name: A, dtype: float64 \n",
      "\n"
     ]
    }
   ],
   "source": [
    "# standard and safe\n",
    "print(df['A'], '\\n', type(df['A']), '\\n') # Returns a Series (a column)\n",
    "\n",
    "# equivalent but dangerous (imagine blank spaces in the name of the column, or a column named \"T\")\n",
    "print(df.A, '\\n')\n"
   ]
  },
  {
   "cell_type": "markdown",
   "metadata": {},
   "source": [
    "Numpy-like slicing by row ranges is possible, and usually returns a **view** of the original DataFrame:"
   ]
  },
  {
   "cell_type": "code",
   "execution_count": 25,
   "metadata": {},
   "outputs": [
    {
     "name": "stdout",
     "output_type": "stream",
     "text": [
      "                            A         B         C         D\n",
      "2020-11-09 14:45:00 -1.181499  0.850591  0.510063  0.058005\n",
      "2020-11-09 15:45:00 -0.144840  0.476177 -1.403685  1.722462\n",
      "2020-11-09 16:45:00 -1.169418 -0.400168 -0.298101 -1.173779 \n",
      "\n",
      "                            A         B         C         D\n",
      "2020-11-09 14:45:00 -1.181499  0.850591  0.510063  0.058005\n",
      "2020-11-09 15:45:00 -0.144840  0.476177 -1.403685  1.722462\n",
      "2020-11-09 16:45:00 -1.169418 -0.400168 -0.298101 -1.173779\n"
     ]
    }
   ],
   "source": [
    "# selecting rows by range. Returns another DataFrame (usually a view)\n",
    "print(df[0:3], '\\n')\n",
    "\n",
    "# or by index range\n",
    "print(df[\"2020-11-09 14:45:00\" : \"2020-11-09 16:45:00\"])"
   ]
  },
  {
   "cell_type": "markdown",
   "metadata": {},
   "source": [
    "### Selection by label\n",
    "\n",
    "The most common way to select elements, rows, or columns in a DataFrame is by using the `.loc[]` method.\n",
    "\n",
    "`.loc` supports multi-indexing, and usually returns a **copy** of the DataFrame."
   ]
  },
  {
   "cell_type": "code",
   "execution_count": 26,
   "metadata": {},
   "outputs": [
    {
     "name": "stdout",
     "output_type": "stream",
     "text": [
      "DATES:\n",
      "                     0\n",
      "0 2020-11-09 14:45:00\n",
      "1 2020-11-09 15:45:00\n",
      "2 2020-11-09 16:45:00\n",
      "3 2020-11-09 17:45:00\n",
      "4 2020-11-09 18:45:00\n",
      "5 2020-11-09 19:45:00\n",
      "6 2020-11-09 20:45:00\n",
      "7 2020-11-09 21:45:00\n",
      "8 2020-11-09 22:45:00\n",
      "9 2020-11-09 23:45:00\n",
      "END DATES\n",
      "\n",
      "A   -1.181499\n",
      "B    0.850591\n",
      "C    0.510063\n",
      "D    0.058005\n",
      "Name: 2020-11-09 14:45:00, dtype: float64 qui \n",
      " <class 'pandas.core.series.Series'> qui2\n",
      "\n"
     ]
    },
    {
     "data": {
      "text/html": [
       "<div>\n",
       "<style scoped>\n",
       "    .dataframe tbody tr th:only-of-type {\n",
       "        vertical-align: middle;\n",
       "    }\n",
       "\n",
       "    .dataframe tbody tr th {\n",
       "        vertical-align: top;\n",
       "    }\n",
       "\n",
       "    .dataframe thead th {\n",
       "        text-align: right;\n",
       "    }\n",
       "</style>\n",
       "<table border=\"1\" class=\"dataframe\">\n",
       "  <thead>\n",
       "    <tr style=\"text-align: right;\">\n",
       "      <th></th>\n",
       "      <th>A</th>\n",
       "      <th>B</th>\n",
       "      <th>C</th>\n",
       "      <th>D</th>\n",
       "    </tr>\n",
       "  </thead>\n",
       "  <tbody>\n",
       "    <tr>\n",
       "      <th>2020-11-09 14:45:00</th>\n",
       "      <td>-1.181499</td>\n",
       "      <td>0.850591</td>\n",
       "      <td>0.510063</td>\n",
       "      <td>0.058005</td>\n",
       "    </tr>\n",
       "    <tr>\n",
       "      <th>2020-11-09 15:45:00</th>\n",
       "      <td>-0.144840</td>\n",
       "      <td>0.476177</td>\n",
       "      <td>-1.403685</td>\n",
       "      <td>1.722462</td>\n",
       "    </tr>\n",
       "    <tr>\n",
       "      <th>2020-11-09 16:45:00</th>\n",
       "      <td>-1.169418</td>\n",
       "      <td>-0.400168</td>\n",
       "      <td>-0.298101</td>\n",
       "      <td>-1.173779</td>\n",
       "    </tr>\n",
       "    <tr>\n",
       "      <th>2020-11-09 17:45:00</th>\n",
       "      <td>0.710909</td>\n",
       "      <td>0.662641</td>\n",
       "      <td>-0.061064</td>\n",
       "      <td>0.515538</td>\n",
       "    </tr>\n",
       "    <tr>\n",
       "      <th>2020-11-09 18:45:00</th>\n",
       "      <td>-0.419801</td>\n",
       "      <td>-1.132206</td>\n",
       "      <td>-0.104236</td>\n",
       "      <td>0.069780</td>\n",
       "    </tr>\n",
       "    <tr>\n",
       "      <th>2020-11-09 19:45:00</th>\n",
       "      <td>-0.988285</td>\n",
       "      <td>-0.671881</td>\n",
       "      <td>-0.076915</td>\n",
       "      <td>-1.239036</td>\n",
       "    </tr>\n",
       "    <tr>\n",
       "      <th>2020-11-09 20:45:00</th>\n",
       "      <td>1.020399</td>\n",
       "      <td>1.384018</td>\n",
       "      <td>-0.789461</td>\n",
       "      <td>-0.122603</td>\n",
       "    </tr>\n",
       "    <tr>\n",
       "      <th>2020-11-09 21:45:00</th>\n",
       "      <td>-0.432209</td>\n",
       "      <td>0.375493</td>\n",
       "      <td>-2.366441</td>\n",
       "      <td>2.060894</td>\n",
       "    </tr>\n",
       "    <tr>\n",
       "      <th>2020-11-09 22:45:00</th>\n",
       "      <td>0.794926</td>\n",
       "      <td>1.188186</td>\n",
       "      <td>-1.178915</td>\n",
       "      <td>1.183269</td>\n",
       "    </tr>\n",
       "    <tr>\n",
       "      <th>2020-11-09 23:45:00</th>\n",
       "      <td>0.055947</td>\n",
       "      <td>-0.823206</td>\n",
       "      <td>0.329393</td>\n",
       "      <td>1.290047</td>\n",
       "    </tr>\n",
       "  </tbody>\n",
       "</table>\n",
       "</div>"
      ],
      "text/plain": [
       "                            A         B         C         D\n",
       "2020-11-09 14:45:00 -1.181499  0.850591  0.510063  0.058005\n",
       "2020-11-09 15:45:00 -0.144840  0.476177 -1.403685  1.722462\n",
       "2020-11-09 16:45:00 -1.169418 -0.400168 -0.298101 -1.173779\n",
       "2020-11-09 17:45:00  0.710909  0.662641 -0.061064  0.515538\n",
       "2020-11-09 18:45:00 -0.419801 -1.132206 -0.104236  0.069780\n",
       "2020-11-09 19:45:00 -0.988285 -0.671881 -0.076915 -1.239036\n",
       "2020-11-09 20:45:00  1.020399  1.384018 -0.789461 -0.122603\n",
       "2020-11-09 21:45:00 -0.432209  0.375493 -2.366441  2.060894\n",
       "2020-11-09 22:45:00  0.794926  1.188186 -1.178915  1.183269\n",
       "2020-11-09 23:45:00  0.055947 -0.823206  0.329393  1.290047"
      ]
     },
     "execution_count": 26,
     "metadata": {},
     "output_type": "execute_result"
    }
   ],
   "source": [
    "print(\"DATES:\\n\",pd.DataFrame(dates))\n",
    "print(\"END DATES\\n\")\n",
    "# getting a part of the DataFrame (in this case, a row)) using a label. Returns a Series\n",
    "dfs = df.loc[dates[0]] # equivalent to df.loc[df.index[0]] #seleziona la riga\n",
    "print(dfs, 'qui \\n', type(dfs), 'qui2\\n')\n",
    "df"
   ]
  },
  {
   "cell_type": "code",
   "execution_count": 27,
   "metadata": {},
   "outputs": [
    {
     "data": {
      "text/html": [
       "<div>\n",
       "<style scoped>\n",
       "    .dataframe tbody tr th:only-of-type {\n",
       "        vertical-align: middle;\n",
       "    }\n",
       "\n",
       "    .dataframe tbody tr th {\n",
       "        vertical-align: top;\n",
       "    }\n",
       "\n",
       "    .dataframe thead th {\n",
       "        text-align: right;\n",
       "    }\n",
       "</style>\n",
       "<table border=\"1\" class=\"dataframe\">\n",
       "  <thead>\n",
       "    <tr style=\"text-align: right;\">\n",
       "      <th></th>\n",
       "      <th>A</th>\n",
       "      <th>B</th>\n",
       "    </tr>\n",
       "  </thead>\n",
       "  <tbody>\n",
       "    <tr>\n",
       "      <th>2020-11-09 14:45:00</th>\n",
       "      <td>-1.181499</td>\n",
       "      <td>0.850591</td>\n",
       "    </tr>\n",
       "    <tr>\n",
       "      <th>2020-11-09 15:45:00</th>\n",
       "      <td>-0.144840</td>\n",
       "      <td>0.476177</td>\n",
       "    </tr>\n",
       "    <tr>\n",
       "      <th>2020-11-09 16:45:00</th>\n",
       "      <td>-1.169418</td>\n",
       "      <td>-0.400168</td>\n",
       "    </tr>\n",
       "    <tr>\n",
       "      <th>2020-11-09 17:45:00</th>\n",
       "      <td>0.710909</td>\n",
       "      <td>0.662641</td>\n",
       "    </tr>\n",
       "    <tr>\n",
       "      <th>2020-11-09 18:45:00</th>\n",
       "      <td>-0.419801</td>\n",
       "      <td>-1.132206</td>\n",
       "    </tr>\n",
       "    <tr>\n",
       "      <th>2020-11-09 19:45:00</th>\n",
       "      <td>-0.988285</td>\n",
       "      <td>-0.671881</td>\n",
       "    </tr>\n",
       "    <tr>\n",
       "      <th>2020-11-09 20:45:00</th>\n",
       "      <td>1.020399</td>\n",
       "      <td>1.384018</td>\n",
       "    </tr>\n",
       "    <tr>\n",
       "      <th>2020-11-09 21:45:00</th>\n",
       "      <td>-0.432209</td>\n",
       "      <td>0.375493</td>\n",
       "    </tr>\n",
       "    <tr>\n",
       "      <th>2020-11-09 22:45:00</th>\n",
       "      <td>0.794926</td>\n",
       "      <td>1.188186</td>\n",
       "    </tr>\n",
       "    <tr>\n",
       "      <th>2020-11-09 23:45:00</th>\n",
       "      <td>0.055947</td>\n",
       "      <td>-0.823206</td>\n",
       "    </tr>\n",
       "  </tbody>\n",
       "</table>\n",
       "</div>"
      ],
      "text/plain": [
       "                            A         B\n",
       "2020-11-09 14:45:00 -1.181499  0.850591\n",
       "2020-11-09 15:45:00 -0.144840  0.476177\n",
       "2020-11-09 16:45:00 -1.169418 -0.400168\n",
       "2020-11-09 17:45:00  0.710909  0.662641\n",
       "2020-11-09 18:45:00 -0.419801 -1.132206\n",
       "2020-11-09 19:45:00 -0.988285 -0.671881\n",
       "2020-11-09 20:45:00  1.020399  1.384018\n",
       "2020-11-09 21:45:00 -0.432209  0.375493\n",
       "2020-11-09 22:45:00  0.794926  1.188186\n",
       "2020-11-09 23:45:00  0.055947 -0.823206"
      ]
     },
     "execution_count": 27,
     "metadata": {},
     "output_type": "execute_result"
    }
   ],
   "source": [
    "# selecting on a multi-axis by label:\n",
    "dfa = df.loc[:, ['A','B']]\n",
    "dfa"
   ]
  },
  {
   "cell_type": "code",
   "execution_count": 28,
   "metadata": {},
   "outputs": [
    {
     "data": {
      "text/html": [
       "<div>\n",
       "<style scoped>\n",
       "    .dataframe tbody tr th:only-of-type {\n",
       "        vertical-align: middle;\n",
       "    }\n",
       "\n",
       "    .dataframe tbody tr th {\n",
       "        vertical-align: top;\n",
       "    }\n",
       "\n",
       "    .dataframe thead th {\n",
       "        text-align: right;\n",
       "    }\n",
       "</style>\n",
       "<table border=\"1\" class=\"dataframe\">\n",
       "  <thead>\n",
       "    <tr style=\"text-align: right;\">\n",
       "      <th></th>\n",
       "      <th>A</th>\n",
       "      <th>B</th>\n",
       "    </tr>\n",
       "  </thead>\n",
       "  <tbody>\n",
       "    <tr>\n",
       "      <th>2020-11-09 18:45:00</th>\n",
       "      <td>-0.419801</td>\n",
       "      <td>-1.132206</td>\n",
       "    </tr>\n",
       "    <tr>\n",
       "      <th>2020-11-09 19:45:00</th>\n",
       "      <td>-0.988285</td>\n",
       "      <td>-0.671881</td>\n",
       "    </tr>\n",
       "    <tr>\n",
       "      <th>2020-11-09 20:45:00</th>\n",
       "      <td>1.020399</td>\n",
       "      <td>1.384018</td>\n",
       "    </tr>\n",
       "  </tbody>\n",
       "</table>\n",
       "</div>"
      ],
      "text/plain": [
       "                            A         B\n",
       "2020-11-09 18:45:00 -0.419801 -1.132206\n",
       "2020-11-09 19:45:00 -0.988285 -0.671881\n",
       "2020-11-09 20:45:00  1.020399  1.384018"
      ]
     },
     "execution_count": 28,
     "metadata": {},
     "output_type": "execute_result"
    }
   ],
   "source": [
    "# showing label slicing, both endpoints are included:\n",
    "df.loc['2020-11-09 18:45:00':'2020-11-09 20:45:00', ['A','B']]"
   ]
  },
  {
   "cell_type": "code",
   "execution_count": 29,
   "metadata": {},
   "outputs": [
    {
     "name": "stdout",
     "output_type": "stream",
     "text": [
      "-0.14484039469034732 \n",
      " <class 'numpy.float64'> \n",
      "\n"
     ]
    }
   ],
   "source": [
    "# getting an individual element\n",
    "print(df.loc[dates[1], 'A'], '\\n', type(df.loc[dates[1], 'A']), '\\n')"
   ]
  },
  {
   "cell_type": "markdown",
   "metadata": {},
   "source": [
    "The `.at()` method is equivalent to `.loc[]`. Use `at` if you only need to get or set a single value in a DataFrame or Series."
   ]
  },
  {
   "cell_type": "code",
   "execution_count": 30,
   "metadata": {},
   "outputs": [
    {
     "name": "stdout",
     "output_type": "stream",
     "text": [
      "-0.14484039469034732\n"
     ]
    }
   ],
   "source": [
    "print(df.at[dates[1], 'A'])"
   ]
  },
  {
   "cell_type": "markdown",
   "metadata": {},
   "source": [
    "#### Selecting by position\n",
    "\n",
    "`.iloc[]` is similar ot `.loc[]`, but instead of labels, it uses pure integer-location based indexing for selection by position.\n",
    "\n",
    "But differently from `.loc[]`, `.iloc[]` usually returns a **view**, not a copy."
   ]
  },
  {
   "cell_type": "code",
   "execution_count": 31,
   "metadata": {},
   "outputs": [
    {
     "name": "stdout",
     "output_type": "stream",
     "text": [
      "A    0.710909\n",
      "B    0.662641\n",
      "C   -0.061064\n",
      "D    0.515538\n",
      "Name: 2020-11-09 17:45:00, dtype: float64 \n",
      " <class 'pandas.core.series.Series'> \n",
      "\n",
      "                            A         B\n",
      "2020-11-09 17:45:00  0.710909  0.662641\n",
      "2020-11-09 18:45:00 -0.419801 -1.132206 \n",
      "\n"
     ]
    },
    {
     "data": {
      "text/html": [
       "<div>\n",
       "<style scoped>\n",
       "    .dataframe tbody tr th:only-of-type {\n",
       "        vertical-align: middle;\n",
       "    }\n",
       "\n",
       "    .dataframe tbody tr th {\n",
       "        vertical-align: top;\n",
       "    }\n",
       "\n",
       "    .dataframe thead th {\n",
       "        text-align: right;\n",
       "    }\n",
       "</style>\n",
       "<table border=\"1\" class=\"dataframe\">\n",
       "  <thead>\n",
       "    <tr style=\"text-align: right;\">\n",
       "      <th></th>\n",
       "      <th>A</th>\n",
       "      <th>B</th>\n",
       "    </tr>\n",
       "  </thead>\n",
       "  <tbody>\n",
       "    <tr>\n",
       "      <th>2020-11-09 17:45:00</th>\n",
       "      <td>0.710909</td>\n",
       "      <td>0.662641</td>\n",
       "    </tr>\n",
       "    <tr>\n",
       "      <th>2020-11-09 18:45:00</th>\n",
       "      <td>-0.419801</td>\n",
       "      <td>-1.132206</td>\n",
       "    </tr>\n",
       "  </tbody>\n",
       "</table>\n",
       "</div>"
      ],
      "text/plain": [
       "                            A         B\n",
       "2020-11-09 17:45:00  0.710909  0.662641\n",
       "2020-11-09 18:45:00 -0.419801 -1.132206"
      ]
     },
     "execution_count": 31,
     "metadata": {},
     "output_type": "execute_result"
    }
   ],
   "source": [
    "# select via the position of the passed integers:\n",
    "print(df.iloc[3], '\\n', type(df.iloc[3]), '\\n')\n",
    "\n",
    "# row and column ranges selected with numpy-like notation:\n",
    "dfv = df.iloc[3:5, 0:2]\n",
    "print(dfv, '\\n')\n",
    "dfv"
   ]
  },
  {
   "cell_type": "code",
   "execution_count": 32,
   "metadata": {},
   "outputs": [
    {
     "data": {
      "text/html": [
       "<div>\n",
       "<style scoped>\n",
       "    .dataframe tbody tr th:only-of-type {\n",
       "        vertical-align: middle;\n",
       "    }\n",
       "\n",
       "    .dataframe tbody tr th {\n",
       "        vertical-align: top;\n",
       "    }\n",
       "\n",
       "    .dataframe thead th {\n",
       "        text-align: right;\n",
       "    }\n",
       "</style>\n",
       "<table border=\"1\" class=\"dataframe\">\n",
       "  <thead>\n",
       "    <tr style=\"text-align: right;\">\n",
       "      <th></th>\n",
       "      <th>A</th>\n",
       "      <th>C</th>\n",
       "    </tr>\n",
       "  </thead>\n",
       "  <tbody>\n",
       "    <tr>\n",
       "      <th>2020-11-09 15:45:00</th>\n",
       "      <td>-0.144840</td>\n",
       "      <td>-1.403685</td>\n",
       "    </tr>\n",
       "    <tr>\n",
       "      <th>2020-11-09 16:45:00</th>\n",
       "      <td>-1.169418</td>\n",
       "      <td>-0.298101</td>\n",
       "    </tr>\n",
       "    <tr>\n",
       "      <th>2020-11-09 18:45:00</th>\n",
       "      <td>-0.419801</td>\n",
       "      <td>-0.104236</td>\n",
       "    </tr>\n",
       "  </tbody>\n",
       "</table>\n",
       "</div>"
      ],
      "text/plain": [
       "                            A         C\n",
       "2020-11-09 15:45:00 -0.144840 -1.403685\n",
       "2020-11-09 16:45:00 -1.169418 -0.298101\n",
       "2020-11-09 18:45:00 -0.419801 -0.104236"
      ]
     },
     "execution_count": 32,
     "metadata": {},
     "output_type": "execute_result"
    }
   ],
   "source": [
    "# selection of multiple elements with lists\n",
    "df.iloc[[1, 2, 4], [0, 2]] # selecting rows 1,2 and 4 for columns 0 and 2"
   ]
  },
  {
   "cell_type": "code",
   "execution_count": 33,
   "metadata": {},
   "outputs": [
    {
     "data": {
      "text/html": [
       "<div>\n",
       "<style scoped>\n",
       "    .dataframe tbody tr th:only-of-type {\n",
       "        vertical-align: middle;\n",
       "    }\n",
       "\n",
       "    .dataframe tbody tr th {\n",
       "        vertical-align: top;\n",
       "    }\n",
       "\n",
       "    .dataframe thead th {\n",
       "        text-align: right;\n",
       "    }\n",
       "</style>\n",
       "<table border=\"1\" class=\"dataframe\">\n",
       "  <thead>\n",
       "    <tr style=\"text-align: right;\">\n",
       "      <th></th>\n",
       "      <th>B</th>\n",
       "      <th>C</th>\n",
       "    </tr>\n",
       "  </thead>\n",
       "  <tbody>\n",
       "    <tr>\n",
       "      <th>2020-11-09 14:45:00</th>\n",
       "      <td>0.850591</td>\n",
       "      <td>0.510063</td>\n",
       "    </tr>\n",
       "    <tr>\n",
       "      <th>2020-11-09 15:45:00</th>\n",
       "      <td>0.476177</td>\n",
       "      <td>-1.403685</td>\n",
       "    </tr>\n",
       "    <tr>\n",
       "      <th>2020-11-09 16:45:00</th>\n",
       "      <td>-0.400168</td>\n",
       "      <td>-0.298101</td>\n",
       "    </tr>\n",
       "    <tr>\n",
       "      <th>2020-11-09 17:45:00</th>\n",
       "      <td>0.662641</td>\n",
       "      <td>-0.061064</td>\n",
       "    </tr>\n",
       "    <tr>\n",
       "      <th>2020-11-09 18:45:00</th>\n",
       "      <td>-1.132206</td>\n",
       "      <td>-0.104236</td>\n",
       "    </tr>\n",
       "    <tr>\n",
       "      <th>2020-11-09 19:45:00</th>\n",
       "      <td>-0.671881</td>\n",
       "      <td>-0.076915</td>\n",
       "    </tr>\n",
       "    <tr>\n",
       "      <th>2020-11-09 20:45:00</th>\n",
       "      <td>1.384018</td>\n",
       "      <td>-0.789461</td>\n",
       "    </tr>\n",
       "    <tr>\n",
       "      <th>2020-11-09 21:45:00</th>\n",
       "      <td>0.375493</td>\n",
       "      <td>-2.366441</td>\n",
       "    </tr>\n",
       "    <tr>\n",
       "      <th>2020-11-09 22:45:00</th>\n",
       "      <td>1.188186</td>\n",
       "      <td>-1.178915</td>\n",
       "    </tr>\n",
       "    <tr>\n",
       "      <th>2020-11-09 23:45:00</th>\n",
       "      <td>-0.823206</td>\n",
       "      <td>0.329393</td>\n",
       "    </tr>\n",
       "  </tbody>\n",
       "</table>\n",
       "</div>"
      ],
      "text/plain": [
       "                            B         C\n",
       "2020-11-09 14:45:00  0.850591  0.510063\n",
       "2020-11-09 15:45:00  0.476177 -1.403685\n",
       "2020-11-09 16:45:00 -0.400168 -0.298101\n",
       "2020-11-09 17:45:00  0.662641 -0.061064\n",
       "2020-11-09 18:45:00 -1.132206 -0.104236\n",
       "2020-11-09 19:45:00 -0.671881 -0.076915\n",
       "2020-11-09 20:45:00  1.384018 -0.789461\n",
       "2020-11-09 21:45:00  0.375493 -2.366441\n",
       "2020-11-09 22:45:00  1.188186 -1.178915\n",
       "2020-11-09 23:45:00 -0.823206  0.329393"
      ]
     },
     "execution_count": 33,
     "metadata": {},
     "output_type": "execute_result"
    }
   ],
   "source": [
    "# slicing rows explicitly\n",
    "df.iloc[1:3, :]\n",
    "\n",
    "# slicing columns explicitly\n",
    "df.iloc[:, 1:3]"
   ]
  },
  {
   "cell_type": "markdown",
   "metadata": {},
   "source": [
    "Similary to `.loc[]` and `.at[]`, there is also `.iat[]` alongside `.iloc[]`:"
   ]
  },
  {
   "cell_type": "code",
   "execution_count": 34,
   "metadata": {},
   "outputs": [
    {
     "name": "stdout",
     "output_type": "stream",
     "text": [
      "0.47617741055110946 , type: <class 'numpy.float64'>\n",
      "0.47617741055110946 , type: <class 'numpy.float64'>\n"
     ]
    }
   ],
   "source": [
    "# selecting an individual element by position: no difference between iloc and iat\n",
    "print(df.iloc[1,1], \", type:\", type(df.iloc[1,1]))\n",
    "print(df.iat[1,1], \", type:\", type(df.iat[1,1]))"
   ]
  },
  {
   "cell_type": "markdown",
   "metadata": {},
   "source": [
    "#### Masks\n",
    "\n",
    "Boolean masks can be used in the same way as numpy, and they represent a very powerful way of filtering out data with certain features. Just like Numpy fancy indexing, using a mask usually returns a **copy** of the DataFrame."
   ]
  },
  {
   "cell_type": "code",
   "execution_count": 35,
   "metadata": {},
   "outputs": [
    {
     "data": {
      "text/html": [
       "<div>\n",
       "<style scoped>\n",
       "    .dataframe tbody tr th:only-of-type {\n",
       "        vertical-align: middle;\n",
       "    }\n",
       "\n",
       "    .dataframe tbody tr th {\n",
       "        vertical-align: top;\n",
       "    }\n",
       "\n",
       "    .dataframe thead th {\n",
       "        text-align: right;\n",
       "    }\n",
       "</style>\n",
       "<table border=\"1\" class=\"dataframe\">\n",
       "  <thead>\n",
       "    <tr style=\"text-align: right;\">\n",
       "      <th></th>\n",
       "      <th>A</th>\n",
       "      <th>B</th>\n",
       "      <th>C</th>\n",
       "      <th>D</th>\n",
       "    </tr>\n",
       "  </thead>\n",
       "  <tbody>\n",
       "    <tr>\n",
       "      <th>2020-11-09 14:45:00</th>\n",
       "      <td>-99.000000</td>\n",
       "      <td>0.850591</td>\n",
       "      <td>0.510063</td>\n",
       "      <td>0.058005</td>\n",
       "    </tr>\n",
       "    <tr>\n",
       "      <th>2020-11-09 15:45:00</th>\n",
       "      <td>NaN</td>\n",
       "      <td>0.476177</td>\n",
       "      <td>NaN</td>\n",
       "      <td>1.722462</td>\n",
       "    </tr>\n",
       "    <tr>\n",
       "      <th>2020-11-09 16:45:00</th>\n",
       "      <td>NaN</td>\n",
       "      <td>NaN</td>\n",
       "      <td>NaN</td>\n",
       "      <td>NaN</td>\n",
       "    </tr>\n",
       "    <tr>\n",
       "      <th>2020-11-09 17:45:00</th>\n",
       "      <td>0.710909</td>\n",
       "      <td>0.662641</td>\n",
       "      <td>NaN</td>\n",
       "      <td>0.515538</td>\n",
       "    </tr>\n",
       "    <tr>\n",
       "      <th>2020-11-09 18:45:00</th>\n",
       "      <td>NaN</td>\n",
       "      <td>NaN</td>\n",
       "      <td>NaN</td>\n",
       "      <td>0.069780</td>\n",
       "    </tr>\n",
       "    <tr>\n",
       "      <th>2020-11-09 19:45:00</th>\n",
       "      <td>NaN</td>\n",
       "      <td>NaN</td>\n",
       "      <td>NaN</td>\n",
       "      <td>NaN</td>\n",
       "    </tr>\n",
       "    <tr>\n",
       "      <th>2020-11-09 20:45:00</th>\n",
       "      <td>1.020399</td>\n",
       "      <td>1.384018</td>\n",
       "      <td>NaN</td>\n",
       "      <td>NaN</td>\n",
       "    </tr>\n",
       "    <tr>\n",
       "      <th>2020-11-09 21:45:00</th>\n",
       "      <td>NaN</td>\n",
       "      <td>0.375493</td>\n",
       "      <td>NaN</td>\n",
       "      <td>2.060894</td>\n",
       "    </tr>\n",
       "    <tr>\n",
       "      <th>2020-11-09 22:45:00</th>\n",
       "      <td>0.794926</td>\n",
       "      <td>1.188186</td>\n",
       "      <td>NaN</td>\n",
       "      <td>1.183269</td>\n",
       "    </tr>\n",
       "    <tr>\n",
       "      <th>2020-11-09 23:45:00</th>\n",
       "      <td>0.055947</td>\n",
       "      <td>NaN</td>\n",
       "      <td>0.329393</td>\n",
       "      <td>1.290047</td>\n",
       "    </tr>\n",
       "  </tbody>\n",
       "</table>\n",
       "</div>"
      ],
      "text/plain": [
       "                             A         B         C         D\n",
       "2020-11-09 14:45:00 -99.000000  0.850591  0.510063  0.058005\n",
       "2020-11-09 15:45:00        NaN  0.476177       NaN  1.722462\n",
       "2020-11-09 16:45:00        NaN       NaN       NaN       NaN\n",
       "2020-11-09 17:45:00   0.710909  0.662641       NaN  0.515538\n",
       "2020-11-09 18:45:00        NaN       NaN       NaN  0.069780\n",
       "2020-11-09 19:45:00        NaN       NaN       NaN       NaN\n",
       "2020-11-09 20:45:00   1.020399  1.384018       NaN       NaN\n",
       "2020-11-09 21:45:00        NaN  0.375493       NaN  2.060894\n",
       "2020-11-09 22:45:00   0.794926  1.188186       NaN  1.183269\n",
       "2020-11-09 23:45:00   0.055947       NaN  0.329393  1.290047"
      ]
     },
     "execution_count": 35,
     "metadata": {},
     "output_type": "execute_result"
    }
   ],
   "source": [
    "# Selecting on the basis of boolean conditions applied to the whole DataFrame\n",
    "dfc = df[df > 0]\n",
    "dfc.iat[0, 0] = -99\n",
    "# a DataFrame with the same shape is returned, with NaN's where condition is not met\n",
    "# Note that when a NaN is present in a column of integers, the column (Series) is casted to float\n",
    "dfc"
   ]
  },
  {
   "cell_type": "code",
   "execution_count": 36,
   "metadata": {},
   "outputs": [
    {
     "data": {
      "text/html": [
       "<div>\n",
       "<style scoped>\n",
       "    .dataframe tbody tr th:only-of-type {\n",
       "        vertical-align: middle;\n",
       "    }\n",
       "\n",
       "    .dataframe tbody tr th {\n",
       "        vertical-align: top;\n",
       "    }\n",
       "\n",
       "    .dataframe thead th {\n",
       "        text-align: right;\n",
       "    }\n",
       "</style>\n",
       "<table border=\"1\" class=\"dataframe\">\n",
       "  <thead>\n",
       "    <tr style=\"text-align: right;\">\n",
       "      <th></th>\n",
       "      <th>A</th>\n",
       "      <th>B</th>\n",
       "      <th>C</th>\n",
       "      <th>D</th>\n",
       "    </tr>\n",
       "  </thead>\n",
       "  <tbody>\n",
       "    <tr>\n",
       "      <th>2020-11-09 15:45:00</th>\n",
       "      <td>NaN</td>\n",
       "      <td>0.476177</td>\n",
       "      <td>NaN</td>\n",
       "      <td>1.722462</td>\n",
       "    </tr>\n",
       "    <tr>\n",
       "      <th>2020-11-09 21:45:00</th>\n",
       "      <td>NaN</td>\n",
       "      <td>0.375493</td>\n",
       "      <td>NaN</td>\n",
       "      <td>2.060894</td>\n",
       "    </tr>\n",
       "  </tbody>\n",
       "</table>\n",
       "</div>"
      ],
      "text/plain": [
       "                      A         B   C         D\n",
       "2020-11-09 15:45:00 NaN  0.476177 NaN  1.722462\n",
       "2020-11-09 21:45:00 NaN  0.375493 NaN  2.060894"
      ]
     },
     "execution_count": 36,
     "metadata": {},
     "output_type": "execute_result"
    }
   ],
   "source": [
    "# Filter by a boolean condition on the values of a single column\n",
    "dfc[dfc['B'] < 0.5]"
   ]
  },
  {
   "cell_type": "markdown",
   "metadata": {},
   "source": [
    "**Queries**\n",
    "\n",
    "Pandas uses a database-like engine to select elements according to a query on the columns of the DataFrame:"
   ]
  },
  {
   "cell_type": "code",
   "execution_count": 37,
   "metadata": {},
   "outputs": [
    {
     "data": {
      "text/html": [
       "<div>\n",
       "<style scoped>\n",
       "    .dataframe tbody tr th:only-of-type {\n",
       "        vertical-align: middle;\n",
       "    }\n",
       "\n",
       "    .dataframe tbody tr th {\n",
       "        vertical-align: top;\n",
       "    }\n",
       "\n",
       "    .dataframe thead th {\n",
       "        text-align: right;\n",
       "    }\n",
       "</style>\n",
       "<table border=\"1\" class=\"dataframe\">\n",
       "  <thead>\n",
       "    <tr style=\"text-align: right;\">\n",
       "      <th></th>\n",
       "      <th>A</th>\n",
       "      <th>B</th>\n",
       "      <th>C</th>\n",
       "      <th>D</th>\n",
       "    </tr>\n",
       "  </thead>\n",
       "  <tbody>\n",
       "    <tr>\n",
       "      <th>2020-11-09 14:45:00</th>\n",
       "      <td>-1.181499</td>\n",
       "      <td>0.850591</td>\n",
       "      <td>0.510063</td>\n",
       "      <td>0.058005</td>\n",
       "    </tr>\n",
       "  </tbody>\n",
       "</table>\n",
       "</div>"
      ],
      "text/plain": [
       "                            A         B         C         D\n",
       "2020-11-09 14:45:00 -1.181499  0.850591  0.510063  0.058005"
      ]
     },
     "execution_count": 37,
     "metadata": {},
     "output_type": "execute_result"
    }
   ],
   "source": [
    "dfq = df.query('C > 0.5')\n",
    "dfq"
   ]
  },
  {
   "cell_type": "markdown",
   "metadata": {},
   "source": [
    "which is equivalent to `dfq = df[df['C'] > 0.5]`:"
   ]
  },
  {
   "cell_type": "code",
   "execution_count": 38,
   "metadata": {},
   "outputs": [
    {
     "data": {
      "text/html": [
       "<div>\n",
       "<style scoped>\n",
       "    .dataframe tbody tr th:only-of-type {\n",
       "        vertical-align: middle;\n",
       "    }\n",
       "\n",
       "    .dataframe tbody tr th {\n",
       "        vertical-align: top;\n",
       "    }\n",
       "\n",
       "    .dataframe thead th {\n",
       "        text-align: right;\n",
       "    }\n",
       "</style>\n",
       "<table border=\"1\" class=\"dataframe\">\n",
       "  <thead>\n",
       "    <tr style=\"text-align: right;\">\n",
       "      <th></th>\n",
       "      <th>A</th>\n",
       "      <th>B</th>\n",
       "      <th>C</th>\n",
       "      <th>D</th>\n",
       "    </tr>\n",
       "  </thead>\n",
       "  <tbody>\n",
       "    <tr>\n",
       "      <th>2020-11-09 14:45:00</th>\n",
       "      <td>-1.181499</td>\n",
       "      <td>0.850591</td>\n",
       "      <td>0.510063</td>\n",
       "      <td>0.058005</td>\n",
       "    </tr>\n",
       "  </tbody>\n",
       "</table>\n",
       "</div>"
      ],
      "text/plain": [
       "                            A         B         C         D\n",
       "2020-11-09 14:45:00 -1.181499  0.850591  0.510063  0.058005"
      ]
     },
     "execution_count": 38,
     "metadata": {},
     "output_type": "execute_result"
    }
   ],
   "source": [
    "dfq = df[df['C'] > 0.5]\n",
    "dfq"
   ]
  },
  {
   "cell_type": "markdown",
   "metadata": {},
   "source": [
    "### Copy and views in DataFrames\n",
    "\n",
    "The view/copy behaviour in Pandas is not as easy as it may appear, as there are counter-intuitive exceptions. There was a plan to fix this by quite some time, but a fix has not been deployed yet.\n",
    "\n",
    "Check this discussion [here](https://www.practicaldatascience.org/html/views_and_copies_in_pandas.html):\n",
    "\n",
    "    In numpy, the rules for when you get views and when you don’t are a little complicated, but they are consistent: certain behaviors (like simple indexing) will always return a view, and others (fancy indexing) will never return a view.\n",
    "\n",
    "    But in pandas, whether you get a view or not—and whether changes made to a view will propagate back to the original DataFrame—depends on the structure and data types in the original DataFrame.\n",
    "\n",
    "\n",
    "In summary, there is only one way to write safe code when dealing with slides of a dataframe: after every instruction that selects a subset of a DataFrame, force the copy by appending `.copy()` to the slice."
   ]
  },
  {
   "cell_type": "markdown",
   "metadata": {},
   "source": [
    "### Assignement\n",
    "\n",
    "Assignment is typically performed after selection:"
   ]
  },
  {
   "cell_type": "code",
   "execution_count": 39,
   "metadata": {},
   "outputs": [
    {
     "data": {
      "text/html": [
       "<div>\n",
       "<style scoped>\n",
       "    .dataframe tbody tr th:only-of-type {\n",
       "        vertical-align: middle;\n",
       "    }\n",
       "\n",
       "    .dataframe tbody tr th {\n",
       "        vertical-align: top;\n",
       "    }\n",
       "\n",
       "    .dataframe thead th {\n",
       "        text-align: right;\n",
       "    }\n",
       "</style>\n",
       "<table border=\"1\" class=\"dataframe\">\n",
       "  <thead>\n",
       "    <tr style=\"text-align: right;\">\n",
       "      <th></th>\n",
       "      <th>A</th>\n",
       "      <th>B</th>\n",
       "      <th>C</th>\n",
       "      <th>D</th>\n",
       "    </tr>\n",
       "  </thead>\n",
       "  <tbody>\n",
       "    <tr>\n",
       "      <th>2020-11-09 14:45:00</th>\n",
       "      <td>-1.181499</td>\n",
       "      <td>0.850591</td>\n",
       "      <td>0.510063</td>\n",
       "      <td>0.058005</td>\n",
       "    </tr>\n",
       "    <tr>\n",
       "      <th>2020-11-09 15:45:00</th>\n",
       "      <td>-0.144840</td>\n",
       "      <td>0.476177</td>\n",
       "      <td>-1.403685</td>\n",
       "      <td>1.722462</td>\n",
       "    </tr>\n",
       "    <tr>\n",
       "      <th>2020-11-09 16:45:00</th>\n",
       "      <td>-1.169418</td>\n",
       "      <td>-0.400168</td>\n",
       "      <td>-0.298101</td>\n",
       "      <td>-1.173779</td>\n",
       "    </tr>\n",
       "    <tr>\n",
       "      <th>2020-11-09 17:45:00</th>\n",
       "      <td>0.710909</td>\n",
       "      <td>0.662641</td>\n",
       "      <td>-0.061064</td>\n",
       "      <td>0.515538</td>\n",
       "    </tr>\n",
       "    <tr>\n",
       "      <th>2020-11-09 18:45:00</th>\n",
       "      <td>-0.419801</td>\n",
       "      <td>-1.132206</td>\n",
       "      <td>-0.104236</td>\n",
       "      <td>0.069780</td>\n",
       "    </tr>\n",
       "    <tr>\n",
       "      <th>2020-11-09 19:45:00</th>\n",
       "      <td>-0.988285</td>\n",
       "      <td>-0.671881</td>\n",
       "      <td>-0.076915</td>\n",
       "      <td>-1.239036</td>\n",
       "    </tr>\n",
       "    <tr>\n",
       "      <th>2020-11-09 20:45:00</th>\n",
       "      <td>1.020399</td>\n",
       "      <td>1.384018</td>\n",
       "      <td>-0.789461</td>\n",
       "      <td>-0.122603</td>\n",
       "    </tr>\n",
       "    <tr>\n",
       "      <th>2020-11-09 21:45:00</th>\n",
       "      <td>-0.432209</td>\n",
       "      <td>0.375493</td>\n",
       "      <td>-2.366441</td>\n",
       "      <td>2.060894</td>\n",
       "    </tr>\n",
       "    <tr>\n",
       "      <th>2020-11-09 22:45:00</th>\n",
       "      <td>0.794926</td>\n",
       "      <td>1.188186</td>\n",
       "      <td>-1.178915</td>\n",
       "      <td>1.183269</td>\n",
       "    </tr>\n",
       "    <tr>\n",
       "      <th>2020-11-09 23:45:00</th>\n",
       "      <td>0.055947</td>\n",
       "      <td>-0.823206</td>\n",
       "      <td>0.329393</td>\n",
       "      <td>1.290047</td>\n",
       "    </tr>\n",
       "  </tbody>\n",
       "</table>\n",
       "</div>"
      ],
      "text/plain": [
       "                            A         B         C         D\n",
       "2020-11-09 14:45:00 -1.181499  0.850591  0.510063  0.058005\n",
       "2020-11-09 15:45:00 -0.144840  0.476177 -1.403685  1.722462\n",
       "2020-11-09 16:45:00 -1.169418 -0.400168 -0.298101 -1.173779\n",
       "2020-11-09 17:45:00  0.710909  0.662641 -0.061064  0.515538\n",
       "2020-11-09 18:45:00 -0.419801 -1.132206 -0.104236  0.069780\n",
       "2020-11-09 19:45:00 -0.988285 -0.671881 -0.076915 -1.239036\n",
       "2020-11-09 20:45:00  1.020399  1.384018 -0.789461 -0.122603\n",
       "2020-11-09 21:45:00 -0.432209  0.375493 -2.366441  2.060894\n",
       "2020-11-09 22:45:00  0.794926  1.188186 -1.178915  1.183269\n",
       "2020-11-09 23:45:00  0.055947 -0.823206  0.329393  1.290047"
      ]
     },
     "execution_count": 39,
     "metadata": {},
     "output_type": "execute_result"
    }
   ],
   "source": [
    "df"
   ]
  },
  {
   "cell_type": "code",
   "execution_count": 40,
   "metadata": {},
   "outputs": [
    {
     "data": {
      "text/html": [
       "<div>\n",
       "<style scoped>\n",
       "    .dataframe tbody tr th:only-of-type {\n",
       "        vertical-align: middle;\n",
       "    }\n",
       "\n",
       "    .dataframe tbody tr th {\n",
       "        vertical-align: top;\n",
       "    }\n",
       "\n",
       "    .dataframe thead th {\n",
       "        text-align: right;\n",
       "    }\n",
       "</style>\n",
       "<table border=\"1\" class=\"dataframe\">\n",
       "  <thead>\n",
       "    <tr style=\"text-align: right;\">\n",
       "      <th></th>\n",
       "      <th>A</th>\n",
       "      <th>B</th>\n",
       "      <th>C</th>\n",
       "      <th>D</th>\n",
       "      <th>E</th>\n",
       "      <th>E prime</th>\n",
       "    </tr>\n",
       "  </thead>\n",
       "  <tbody>\n",
       "    <tr>\n",
       "      <th>2020-11-09 14:45:00</th>\n",
       "      <td>1.000000</td>\n",
       "      <td>0.850591</td>\n",
       "      <td>0.510063</td>\n",
       "      <td>5</td>\n",
       "      <td>0.0</td>\n",
       "      <td>0</td>\n",
       "    </tr>\n",
       "    <tr>\n",
       "      <th>2020-11-09 15:45:00</th>\n",
       "      <td>0.144840</td>\n",
       "      <td>0.476177</td>\n",
       "      <td>1.403685</td>\n",
       "      <td>5</td>\n",
       "      <td>0.5</td>\n",
       "      <td>2</td>\n",
       "    </tr>\n",
       "    <tr>\n",
       "      <th>2020-11-09 16:45:00</th>\n",
       "      <td>1.169418</td>\n",
       "      <td>0.400168</td>\n",
       "      <td>0.298101</td>\n",
       "      <td>5</td>\n",
       "      <td>1.0</td>\n",
       "      <td>4</td>\n",
       "    </tr>\n",
       "    <tr>\n",
       "      <th>2020-11-09 17:45:00</th>\n",
       "      <td>0.710909</td>\n",
       "      <td>0.662641</td>\n",
       "      <td>0.061064</td>\n",
       "      <td>5</td>\n",
       "      <td>1.5</td>\n",
       "      <td>6</td>\n",
       "    </tr>\n",
       "    <tr>\n",
       "      <th>2020-11-09 18:45:00</th>\n",
       "      <td>0.419801</td>\n",
       "      <td>1.132206</td>\n",
       "      <td>0.104236</td>\n",
       "      <td>5</td>\n",
       "      <td>2.0</td>\n",
       "      <td>8</td>\n",
       "    </tr>\n",
       "    <tr>\n",
       "      <th>2020-11-09 19:45:00</th>\n",
       "      <td>0.988285</td>\n",
       "      <td>0.671881</td>\n",
       "      <td>0.076915</td>\n",
       "      <td>5</td>\n",
       "      <td>2.5</td>\n",
       "      <td>10</td>\n",
       "    </tr>\n",
       "    <tr>\n",
       "      <th>2020-11-09 20:45:00</th>\n",
       "      <td>1.020399</td>\n",
       "      <td>1.384018</td>\n",
       "      <td>0.789461</td>\n",
       "      <td>5</td>\n",
       "      <td>3.0</td>\n",
       "      <td>12</td>\n",
       "    </tr>\n",
       "    <tr>\n",
       "      <th>2020-11-09 21:45:00</th>\n",
       "      <td>0.432209</td>\n",
       "      <td>0.375493</td>\n",
       "      <td>2.366441</td>\n",
       "      <td>5</td>\n",
       "      <td>3.5</td>\n",
       "      <td>14</td>\n",
       "    </tr>\n",
       "    <tr>\n",
       "      <th>2020-11-09 22:45:00</th>\n",
       "      <td>0.794926</td>\n",
       "      <td>1.188186</td>\n",
       "      <td>1.178915</td>\n",
       "      <td>5</td>\n",
       "      <td>4.0</td>\n",
       "      <td>16</td>\n",
       "    </tr>\n",
       "    <tr>\n",
       "      <th>2020-11-09 23:45:00</th>\n",
       "      <td>0.055947</td>\n",
       "      <td>0.823206</td>\n",
       "      <td>0.329393</td>\n",
       "      <td>5</td>\n",
       "      <td>4.5</td>\n",
       "      <td>18</td>\n",
       "    </tr>\n",
       "  </tbody>\n",
       "</table>\n",
       "</div>"
      ],
      "text/plain": [
       "                            A         B         C  D    E  E prime\n",
       "2020-11-09 14:45:00  1.000000  0.850591  0.510063  5  0.0        0\n",
       "2020-11-09 15:45:00  0.144840  0.476177  1.403685  5  0.5        2\n",
       "2020-11-09 16:45:00  1.169418  0.400168  0.298101  5  1.0        4\n",
       "2020-11-09 17:45:00  0.710909  0.662641  0.061064  5  1.5        6\n",
       "2020-11-09 18:45:00  0.419801  1.132206  0.104236  5  2.0        8\n",
       "2020-11-09 19:45:00  0.988285  0.671881  0.076915  5  2.5       10\n",
       "2020-11-09 20:45:00  1.020399  1.384018  0.789461  5  3.0       12\n",
       "2020-11-09 21:45:00  0.432209  0.375493  2.366441  5  3.5       14\n",
       "2020-11-09 22:45:00  0.794926  1.188186  1.178915  5  4.0       16\n",
       "2020-11-09 23:45:00  0.055947  0.823206  0.329393  5  4.5       18"
      ]
     },
     "execution_count": 40,
     "metadata": {},
     "output_type": "execute_result"
    }
   ],
   "source": [
    "# Make sure to copy the DataFrame if you plan to modify it, and you don't want to change the original object\n",
    "dfa = df.copy()\n",
    "\n",
    "# setting values by label (same as by position)\n",
    "dfa.at[dates[0], 'A'] = -1\n",
    "\n",
    "# setting and assigning a numpy array\n",
    "dfa.loc[:, 'D'] = np.array([5] * len(dfa))\n",
    "\n",
    "# defining a new column\n",
    "dfa['E'] = np.arange(len(dfa)) * 0.5\n",
    "\n",
    "# defining a brand new column by means of a pd.Series: indexes must be the same!\n",
    "dfa['E prime'] = pd.Series(np.arange(len(dfa))*2, index=dfa.index)\n",
    "\n",
    "# using masks for assigment\n",
    "dfa[dfa < 0] = -dfa #select the elemnt that are negative and turn them into positive\n",
    "\n",
    "dfa"
   ]
  },
  {
   "cell_type": "markdown",
   "metadata": {},
   "source": [
    "### Dropping\n",
    "\n",
    "Dropping columns is an example of a method that does not modify the original object, and returns a new modified object. In other words, if you want to keep the modified DataFrame, perform a new assignment:\n",
    "\n",
    "```python\n",
    "df = df.drop(...)\n",
    "```\n",
    "Alternatively, the modification of the original object can be forced by specifying `inplace=True` among the arguments."
   ]
  },
  {
   "cell_type": "code",
   "execution_count": null,
   "metadata": {},
   "outputs": [],
   "source": [
    "dfb = dfa.copy()\n",
    "\n",
    "# Dropping by column..\n",
    "dfb.drop(['E prime'], axis=1)\n",
    "\n",
    "# ...which is equivalent to\n",
    "dfb = dfb.drop(columns=['E prime'])\n",
    "#dfb.drop(columns=['E prime'], inplace=True) # equivalent to the previous one\n",
    "\n",
    "dfb.drop(dfb.index[[0, 1, 2]]) # drop by rows\n",
    "\n",
    "dfb"
   ]
  },
  {
   "cell_type": "markdown",
   "metadata": {},
   "source": [
    "### Dealing with missing data\n",
    "\n",
    "Pandas primarily uses the value `np.nan` to represent missing data. It is by default not included in computations. If there is a `NaN` entry in a Series of integers, the type of the Series will be changed to floats."
   ]
  },
  {
   "cell_type": "code",
   "execution_count": null,
   "metadata": {},
   "outputs": [],
   "source": [
    "df_wNan = dfb[dfb > 0.5]\n",
    "df_wNan"
   ]
  },
  {
   "cell_type": "code",
   "execution_count": null,
   "metadata": {},
   "outputs": [],
   "source": [
    "# dropping rows with at least a Nan\n",
    "df_wNan.dropna(how='any')\n",
    "df_wNan"
   ]
  },
  {
   "cell_type": "code",
   "execution_count": null,
   "metadata": {},
   "outputs": [],
   "source": [
    "# getting a mask\n",
    "df_wNan.isna()\n",
    "# df_wNan.notna()"
   ]
  },
  {
   "cell_type": "code",
   "execution_count": null,
   "metadata": {},
   "outputs": [],
   "source": [
    "# filling missing data (not recommended, unless you really mean it)\n",
    "df_wNan.fillna(value=0)"
   ]
  },
  {
   "cell_type": "markdown",
   "metadata": {},
   "source": [
    "### Operations\n",
    "\n",
    "Operations on the elements of a DataFrame are quite straightforward, as the syntax is the same as the one used for Series. Also for DataFrames, operations are performed between elements that share the same labels. Operations on columns are extremly fast, almost as fast as the actual operation between elements in a row."
   ]
  },
  {
   "cell_type": "code",
   "execution_count": null,
   "metadata": {},
   "outputs": [],
   "source": [
    "# Some statistics (mean() just as an example)\n",
    "# on rows\n",
    "print(df.mean(axis=0), '\\n')\n",
    "# on columns\n",
    "print(df.mean(axis=1), '\\n')"
   ]
  },
  {
   "cell_type": "code",
   "execution_count": null,
   "metadata": {},
   "outputs": [],
   "source": [
    "# Global operations on columns\n",
    "df.apply(np.sum) # or whatever function defined by the user"
   ]
  },
  {
   "cell_type": "code",
   "execution_count": null,
   "metadata": {},
   "outputs": [],
   "source": [
    "# Also lambda functions are accepted\n",
    "df.apply(lambda x: x - x.max())"
   ]
  },
  {
   "cell_type": "code",
   "execution_count": null,
   "metadata": {},
   "outputs": [],
   "source": [
    "# syntax is as usual similar to that of numpy arrays\n",
    "df['S'] = df['A'] + df['C']\n",
    "df"
   ]
  },
  {
   "cell_type": "markdown",
   "metadata": {},
   "source": [
    "### Application of a function\n",
    "\n",
    "User-defined or standard functions can be applied on entire DataFrames or columns, with very short execution times.\n",
    "\n",
    "There are two main methods, `apply()` and `transform()`:"
   ]
  },
  {
   "cell_type": "code",
   "execution_count": null,
   "metadata": {},
   "outputs": [],
   "source": [
    "def dcos(theta):\n",
    "    theta = theta * (np.pi / 180)\n",
    "    return np.cos(theta)\n",
    "\n",
    "# Apply method with custom function\n",
    "dfa['cosine'] = dfa[\"E\"].apply(dcos)\n",
    "\n",
    "# Transform method with lambda function\n",
    "dfa['EplusOne'] = dfa[\"E\"].transform(lambda x: x + 1)\n",
    "dfa"
   ]
  },
  {
   "cell_type": "markdown",
   "metadata": {},
   "source": [
    "The major differences between `apply` and `transform` are:\n",
    "\n",
    "   - Input: `apply` passes all the columns to the custom function, while `transform` passes each column.\n",
    "   - Output: the custom function passed to `apply` can return a scalar, or a Series or DataFrame, while the custom function passed to `transform` must return a sequence (a Series, array or list) with the same length.\n",
    "\n",
    "In summary, `transform` works on just one Series, and `apply` works on the entire DataFrame."
   ]
  },
  {
   "cell_type": "markdown",
   "metadata": {},
   "source": [
    "### Merge\n",
    "\n",
    "Pandas provides various functions for easily combining together Series and DataFrames in join / merge-type operations.\n",
    "\n",
    "**Concat**\n",
    "\n",
    "Concatenation (adding rows) is straightforward:"
   ]
  },
  {
   "cell_type": "code",
   "execution_count": null,
   "metadata": {},
   "outputs": [],
   "source": [
    "rdf = pd.DataFrame(np.arange(40).reshape(10, 4))\n",
    "rdf"
   ]
  },
  {
   "cell_type": "code",
   "execution_count": null,
   "metadata": {},
   "outputs": [],
   "source": [
    "# split DataFrame into 3 pieces, row-wise\n",
    "pieces = [rdf[:3], rdf[3:7], rdf[7:]]\n",
    "pieces"
   ]
  },
  {
   "cell_type": "code",
   "execution_count": null,
   "metadata": {},
   "outputs": [],
   "source": [
    "# put it back together\n",
    "pd.concat(pieces)\n",
    "\n",
    "# in this case, indices are already set; if they are not, indices can be ignored\n",
    "#pd.concat(pieces, ignore_index=True)"
   ]
  },
  {
   "cell_type": "markdown",
   "metadata": {},
   "source": [
    "In case of dimension mismatch, Nan are added where needed.\n",
    "\n",
    "\n",
    "**Append**\n",
    "\n",
    "Appending rows and columns also works:"
   ]
  },
  {
   "cell_type": "code",
   "execution_count": null,
   "metadata": {},
   "outputs": [],
   "source": [
    "# appending a single row (as a Series)\n",
    "s = rdf.iloc[3]\n",
    "rdf = rdf.append(s, ignore_index=True) # remember to assign the returned object, or use inplace=True\n",
    "rdf"
   ]
  },
  {
   "cell_type": "markdown",
   "metadata": {},
   "source": [
    "**Merge/Join**\n",
    "\n",
    "SQL-like operations on table can be performed on DataFrames. This is a quite advanced use case, refer to the [doc](https://pandas.pydata.org/pandas-docs/stable/merging.html#merging) for more info/examples."
   ]
  },
  {
   "cell_type": "code",
   "execution_count": null,
   "metadata": {},
   "outputs": [],
   "source": [
    "left = pd.DataFrame({'key': ['foo', 'bar'], 'lval': [1, 2]})\n",
    "right = pd.DataFrame({'key': ['foo', 'bar'], 'rval': [4, 5]})\n",
    "\n",
    "pd.merge(left, right, on=\"key\")"
   ]
  },
  {
   "cell_type": "markdown",
   "metadata": {},
   "source": [
    "### Grouping\n",
    "\n",
    "In real world applications, it's quite common that several entries (row) belong to a certain entity, or \"group\". DataFrames have a powerful tool to perform operations on entries of the same group. The method is called `.groupby()`, and it usually involves one or more of the following steps:\n",
    "\n",
    "* Splitting the data into groups based on some criteria\n",
    "* Applying a function to each group independently\n",
    "* Combining the results into a data structure\n"
   ]
  },
  {
   "cell_type": "code",
   "execution_count": null,
   "metadata": {},
   "outputs": [],
   "source": [
    "gdf = pd.DataFrame({'A' : ['foo', 'bar', 'foo', 'bar',\n",
    "                          'foo', 'bar', 'foo', 'foo'],\n",
    "                    'B' : ['one', 'one', 'two', 'three',\n",
    "                           'two', 'two', 'one', 'three'],\n",
    "                    'C' : np.arange(8),\n",
    "                    'D' : np.linspace(10, -10, 8)})\n",
    "gdf"
   ]
  },
  {
   "cell_type": "code",
   "execution_count": null,
   "metadata": {},
   "outputs": [],
   "source": [
    "# Grouping and then applying the sum() \n",
    "# function to the resulting groups (effective only where numerical values are present)\n",
    "gdf.groupby('A').sum()"
   ]
  },
  {
   "cell_type": "code",
   "execution_count": null,
   "metadata": {},
   "outputs": [],
   "source": [
    "# Example: find maximum value in column D for each group, and assign the value to a new column\n",
    "gdf['M'] = gdf.groupby('A')['D'].transform(np.max)\n",
    "gdf"
   ]
  },
  {
   "cell_type": "markdown",
   "metadata": {},
   "source": [
    "### Multi-indexing\n",
    "\n",
    "Hierarchical / Multi-level indexing allows sophisticated data analysis on higher dimensional data. In practice, it enables you to store and manipulate data with an arbitrary number of dimensions in lower dimensional data structures like Series (1D) and DataFrames (2D)."
   ]
  },
  {
   "cell_type": "code",
   "execution_count": null,
   "metadata": {},
   "outputs": [],
   "source": [
    "# Creat multi-dimensional index\n",
    "tuples = list(zip(['bar', 'bar', 'baz', 'baz', 'foo', 'foo', 'qux', 'qux'],\n",
    "          ['one', 'two', 'one', 'two', 'one', 'two', 'one', 'two']))\n",
    "multi_index = pd.MultiIndex.from_tuples(tuples, names=['first', 'second'])\n",
    "print(multi_index, '\\n', type(multi_index), '\\n')\n",
    "\n",
    "# Create multi-indexed dataframe or series\n",
    "s = pd.Series(np.arange(8)/np.pi, index=multi_index)\n",
    "s"
   ]
  },
  {
   "cell_type": "code",
   "execution_count": null,
   "metadata": {},
   "outputs": [],
   "source": [
    "# multi-indexing enables further features of the groupby method,\n",
    "# e.g. when group-by by multiple columns\n",
    "gdf.groupby(['A', 'B']).sum()"
   ]
  },
  {
   "cell_type": "markdown",
   "metadata": {},
   "source": [
    "## Summary: a demonstration of the efficiency of the DataFrame"
   ]
  },
  {
   "cell_type": "markdown",
   "metadata": {},
   "source": [
    "Let's go the hard way and load a (relatively) large dataset with approximately 1 million rows:"
   ]
  },
  {
   "cell_type": "code",
   "execution_count": null,
   "metadata": {},
   "outputs": [],
   "source": [
    "# Uncomment to download the file. Run the command just once\n",
    "#!wget https://www.dropbox.com/s/xvjzaxzz3ysphme/data_000637.txt -P ./data/"
   ]
  },
  {
   "cell_type": "code",
   "execution_count": null,
   "metadata": {},
   "outputs": [],
   "source": [
    "file_name = \"./data/data_000637.txt\"\n",
    "data = pd.read_csv(file_name)\n",
    "data"
   ]
  },
  {
   "cell_type": "markdown",
   "metadata": {},
   "source": [
    "Let's now do some operations among (elements of) columns"
   ]
  },
  {
   "cell_type": "code",
   "execution_count": null,
   "metadata": {},
   "outputs": [],
   "source": [
    "itime = dt.datetime.now()\n",
    "print(\"Begin time:\", itime)\n",
    "\n",
    "# the one-liner command\n",
    "data['WEIGHTEDSUM'] = data['TDC_CHANNEL'] * 2.1 + data['BX_COUNTER'] * 0.1 + 2\n",
    "\n",
    "ftime = dt.datetime.now()\n",
    "print(\"End time:\", ftime)\n",
    "print(\"Elapsed time:\", ftime - itime)\n",
    "\n",
    "data"
   ]
  },
  {
   "cell_type": "code",
   "execution_count": null,
   "metadata": {},
   "outputs": [],
   "source": [
    "# the loop\n",
    "def conversion(data):\n",
    "    result = []\n",
    "    for i in range(len(data)): \n",
    "        result.append(data.loc[data.index[i], 'TDC_CHANNEL'] * 2.1 + data.loc[data.index[i], 'BX_COUNTER'] * 0.1 + 2)\n",
    "    return result\n",
    "\n",
    "itime = dt.datetime.now()\n",
    "print(\"Begin time:\", itime)\n",
    "data['WEIGHTEDSUM'] = conversion(data)\n",
    "ftime = dt.datetime.now()\n",
    "print(\"End time:\", ftime)\n",
    "print(\"Elapsed time:\", ftime - itime)\n",
    "\n",
    "data"
   ]
  },
  {
   "cell_type": "code",
   "execution_count": null,
   "metadata": {},
   "outputs": [],
   "source": []
  }
 ],
 "metadata": {
  "kernelspec": {
   "display_name": "Python 3 (ipykernel)",
   "language": "python",
   "name": "python3"
  },
  "language_info": {
   "codemirror_mode": {
    "name": "ipython",
    "version": 3
   },
   "file_extension": ".py",
   "mimetype": "text/x-python",
   "name": "python",
   "nbconvert_exporter": "python",
   "pygments_lexer": "ipython3",
   "version": "3.9.7"
  }
 },
 "nbformat": 4,
 "nbformat_minor": 2
}
