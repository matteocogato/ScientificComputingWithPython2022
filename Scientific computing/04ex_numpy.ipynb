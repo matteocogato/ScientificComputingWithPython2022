{
 "cells": [
  {
   "cell_type": "markdown",
   "metadata": {},
   "source": [
    "1\\. **Reductions**\n",
    "\n",
    "Find the total mean, and the mean for each row and column of the following matrix:\n",
    "\n",
    "```python\n",
    "m = np.arange(12).reshape((3,4))\n",
    "```"
   ]
  },
  {
   "cell_type": "code",
   "execution_count": 1,
   "metadata": {},
   "outputs": [
    {
     "name": "stdout",
     "output_type": "stream",
     "text": [
      "[[ 0  1  2  3]\n",
      " [ 4  5  6  7]\n",
      " [ 8  9 10 11]]\n",
      "Mean along columns: [4. 5. 6. 7.]\n",
      "Mean along rows: [1.5 5.5 9.5]\n"
     ]
    }
   ],
   "source": [
    "import numpy as np\n",
    "\n",
    "m = np.arange(12).reshape((3,4))\n",
    "print(m)\n",
    "print(\"Mean along columns:\", np.mean(m,axis=0))\n",
    "print(\"Mean along rows:\", np.mean(m,axis=1))"
   ]
  },
  {
   "cell_type": "markdown",
   "metadata": {},
   "source": [
    "2\\. **Outer product**\n",
    "\n",
    "Find the outer product of the following vectors:\n",
    "\n",
    "```python\n",
    "u = np.array([1, 3, 5, 7])\n",
    "v = np.array([2, 4, 6, 8])\n",
    "```\n",
    "\n",
    "Use different methods to do this:\n",
    "\n",
    "   1. Using the function `outer` in numpy\n",
    "   2. Using a nested `for` loop or a list comprehension\n",
    "   3. Using numpy broadcasting operations"
   ]
  },
  {
   "cell_type": "code",
   "execution_count": 2,
   "metadata": {},
   "outputs": [
    {
     "name": "stdout",
     "output_type": "stream",
     "text": [
      "u: [1 3 5 7]\n",
      "v: [2 4 6 8]\n",
      "\n",
      "Using the function outer in numpy:\n",
      "[[ 2  4  6  8]\n",
      " [ 6 12 18 24]\n",
      " [10 20 30 40]\n",
      " [14 28 42 56]]\n",
      "\n",
      "Using a nested for loop or a list comprehension:\n",
      "[[ 2  4  6  8]\n",
      " [ 6 12 18 24]\n",
      " [10 20 30 40]\n",
      " [14 28 42 56]]\n",
      "\n",
      "Using numpy broadcasting operations:\n",
      "u: [[1]\n",
      " [3]\n",
      " [5]\n",
      " [7]]\n",
      "v: [2 4 6 8]\n",
      "[[ 2  4  6  8]\n",
      " [ 6 12 18 24]\n",
      " [10 20 30 40]\n",
      " [14 28 42 56]]\n"
     ]
    }
   ],
   "source": [
    "u = np.array([1, 3, 5, 7])\n",
    "v = np.array([2, 4, 6, 8])\n",
    "print(\"u:\",u)\n",
    "print(\"v:\",v)\n",
    "print(\"\\nUsing the function outer in numpy:\")\n",
    "print(np.outer(u, v))\n",
    "print(\"\\nUsing a nested for loop or a list comprehension:\")\n",
    "l = np.array([[a*b for a in v] for b in u])\n",
    "print(l)\n",
    "\n",
    "print(\"\\nUsing numpy broadcasting operations:\")\n",
    "u1 = u.reshape((4,1))\n",
    "print(\"u:\",u1)\n",
    "print(\"v:\",v)\n",
    "print(u1*v)"
   ]
  },
  {
   "cell_type": "markdown",
   "metadata": {},
   "source": [
    "3\\. **Matrix masking**\n",
    "\n",
    "Create a 10 by 6 matrix of float random numbers, distributed between 0 and 3 according to a flat distribution.\n",
    "\n",
    "After creating the matrix, set all entries $< 0.3$ to zero using a mask."
   ]
  },
  {
   "cell_type": "code",
   "execution_count": 3,
   "metadata": {},
   "outputs": [
    {
     "name": "stdout",
     "output_type": "stream",
     "text": [
      "Uniform:\n",
      " [[2.08940756 0.858418   0.68055436 1.65394431 2.15840691 1.26931938]\n",
      " [2.9422926  2.05448922 1.4427957  1.17635255 1.02953405 2.18714912]\n",
      " [1.31571673 0.17903369 1.19413277 2.21398622 0.54747519 0.52635527]\n",
      " [1.59465412 1.59548276 1.90320288 2.54829538 2.17336597 1.83307053]\n",
      " [2.16733015 0.96887674 1.08536597 0.68478969 0.88114214 1.89292837]\n",
      " [0.27631482 1.30110352 1.29258829 1.48105529 1.27749087 0.93678367]\n",
      " [1.27905392 2.68016749 2.83248005 1.50551003 1.87185886 0.34685519]\n",
      " [0.95185645 1.24447864 2.59892747 0.7513661  1.44910279 2.95667936]\n",
      " [1.55845536 1.83868358 0.361886   2.4790224  1.80918039 1.63520402]\n",
      " [1.0282915  0.91236237 1.25106663 2.0439023  2.62637053 1.53126701]] \n",
      "\n",
      "Filtered:\n",
      " [[2.08940756 0.858418   0.68055436 1.65394431 2.15840691 1.26931938]\n",
      " [2.9422926  2.05448922 1.4427957  1.17635255 1.02953405 2.18714912]\n",
      " [1.31571673 0.         1.19413277 2.21398622 0.54747519 0.52635527]\n",
      " [1.59465412 1.59548276 1.90320288 2.54829538 2.17336597 1.83307053]\n",
      " [2.16733015 0.96887674 1.08536597 0.68478969 0.88114214 1.89292837]\n",
      " [0.         1.30110352 1.29258829 1.48105529 1.27749087 0.93678367]\n",
      " [1.27905392 2.68016749 2.83248005 1.50551003 1.87185886 0.34685519]\n",
      " [0.95185645 1.24447864 2.59892747 0.7513661  1.44910279 2.95667936]\n",
      " [1.55845536 1.83868358 0.361886   2.4790224  1.80918039 1.63520402]\n",
      " [1.0282915  0.91236237 1.25106663 2.0439023  2.62637053 1.53126701]]\n"
     ]
    }
   ],
   "source": [
    "import numpy.random as npr\n",
    "npr.seed(123)\n",
    "\n",
    "a = npr.rand(10, 6)*3\n",
    "print(\"Uniform:\\n\", a, '\\n')\n",
    "\n",
    "mask = (a < 0.3)\n",
    "a[a < 0.3] = 0\n",
    "print(\"Filtered:\\n\",a)"
   ]
  },
  {
   "cell_type": "markdown",
   "metadata": {},
   "source": [
    "4\\. **Trigonometric functions**\n",
    "\n",
    "Use `np.linspace` to create an array of 100 numbers between $0$ and $2\\pi$ (inclusive).\n",
    "\n",
    "  * Extract every 10th element using the slice notation\n",
    "  * Reverse the array using the slice notation\n",
    "  * Extract elements where the absolute difference between the `sin` and `cos` functions evaluated for that element is $< 0.1$\n",
    "  * **Optional**: make a plot showing the sin and cos functions and indicate where they are close"
   ]
  },
  {
   "cell_type": "code",
   "execution_count": 4,
   "metadata": {
    "scrolled": false
   },
   "outputs": [
    {
     "name": "stdout",
     "output_type": "stream",
     "text": [
      "Array:\n",
      " [0.         0.06346652 0.12693304 0.19039955 0.25386607 0.31733259\n",
      " 0.38079911 0.44426563 0.50773215 0.57119866 0.63466518 0.6981317\n",
      " 0.76159822 0.82506474 0.88853126 0.95199777 1.01546429 1.07893081\n",
      " 1.14239733 1.20586385] \n",
      " [5.07732146 5.14078798 5.2042545  5.26772102 5.33118753 5.39465405\n",
      " 5.45812057 5.52158709 5.58505361 5.64852012 5.71198664 5.77545316\n",
      " 5.83891968 5.9023862  5.96585272 6.02931923 6.09278575 6.15625227\n",
      " 6.21971879 6.28318531] \n",
      "\n",
      "10th elements:\n",
      " [0.         0.63466518 1.26933037 1.90399555 2.53866073 3.17332591\n",
      " 3.8079911  4.44265628 5.07732146 5.71198664] \n",
      "\n",
      "Reverse array:\n",
      " [6.28318531 6.21971879 6.15625227 6.09278575 6.02931923 5.96585272\n",
      " 5.9023862  5.83891968 5.77545316 5.71198664 5.64852012 5.58505361\n",
      " 5.52158709 5.45812057 5.39465405 5.33118753 5.26772102 5.2042545\n",
      " 5.14078798 5.07732146 5.01385494 4.95038842 4.88692191 4.82345539\n",
      " 4.75998887 4.69652235 4.63305583 4.56958931 4.5061228  4.44265628\n",
      " 4.37918976 4.31572324 4.25225672 4.1887902  4.12532369 4.06185717\n",
      " 3.99839065 3.93492413 3.87145761 3.8079911  3.74452458 3.68105806\n",
      " 3.61759154 3.55412502 3.4906585  3.42719199 3.36372547 3.30025895\n",
      " 3.23679243 3.17332591 3.10985939 3.04639288 2.98292636 2.91945984\n",
      " 2.85599332 2.7925268  2.72906028 2.66559377 2.60212725 2.53866073\n",
      " 2.47519421 2.41172769 2.34826118 2.28479466 2.22132814 2.15786162\n",
      " 2.0943951  2.03092858 1.96746207 1.90399555 1.84052903 1.77706251\n",
      " 1.71359599 1.65012947 1.58666296 1.52319644 1.45972992 1.3962634\n",
      " 1.33279688 1.26933037 1.20586385 1.14239733 1.07893081 1.01546429\n",
      " 0.95199777 0.88853126 0.82506474 0.76159822 0.6981317  0.63466518\n",
      " 0.57119866 0.50773215 0.44426563 0.38079911 0.31733259 0.25386607\n",
      " 0.19039955 0.12693304 0.06346652 0.        ] \n",
      "\n",
      "Extracted elements:\n",
      " [0.76159822 0.82506474 3.87145761 3.93492413] \n",
      "\n"
     ]
    },
    {
     "data": {
      "image/png": "[encoded data removed]",
      "text/plain": [
       "<Figure size 432x288 with 1 Axes>"
      ]
     },
     "metadata": {
      "needs_background": "light"
     },
     "output_type": "display_data"
    }
   ],
   "source": [
    "import math\n",
    "import matplotlib.pyplot as plt\n",
    "\n",
    "a = np.linspace(0, math.pi*2, 100) #array of 100 numbers\n",
    "print(\"Array:\\n\", a[:20], \"\\n\", a[-20:], \"\\n\")\n",
    "b = a[::10]\n",
    "print(\"10th elements:\\n\",b, \"\\n\")\n",
    "\n",
    "#reverse array\n",
    "c = a[::-1]\n",
    "print(\"Reverse array:\\n\",c, \"\\n\")\n",
    "\n",
    "#Extract elements where the absolute difference between the sin and cos is <0.1\n",
    "sin = np.sin(a)\n",
    "cos = np.cos(a)\n",
    "mask = (abs(sin-cos) < 0.1)\n",
    "filtered_a = a[mask] \n",
    "print(\"Extracted elements:\\n\",filtered_a, \"\\n\")\n",
    "\n",
    "#plot\n",
    "plt.plot(a, cos)\n",
    "plt.plot(a, sin)\n",
    "plt.plot(filtered_a ,np.sin(filtered_a), 'ro') #red dots to indicate where sin and cos are close\n",
    "plt.show()\n",
    "         "
   ]
  },
  {
   "cell_type": "markdown",
   "metadata": {},
   "source": [
    "5\\. **Matrices**\n",
    "\n",
    "Create a matrix that shows the 10 by 10 multiplication table.\n",
    "\n",
    " * Find the trace of the matrix\n",
    " * Extract the anti-diagonal matrix (this should be ```array([10, 18, 24, 28, 30, 30, 28, 24, 18, 10])```)\n",
    " * Extract the diagonal offset by 1 upwards (this should be ```array([ 2,  6, 12, 20, 30, 42, 56, 72, 90])```)"
   ]
  },
  {
   "cell_type": "code",
   "execution_count": 5,
   "metadata": {},
   "outputs": [
    {
     "name": "stdout",
     "output_type": "stream",
     "text": [
      "Matrix:\n",
      " [[  1   2   3   4   5   6   7   8   9  10]\n",
      " [  2   4   6   8  10  12  14  16  18  20]\n",
      " [  3   6   9  12  15  18  21  24  27  30]\n",
      " [  4   8  12  16  20  24  28  32  36  40]\n",
      " [  5  10  15  20  25  30  35  40  45  50]\n",
      " [  6  12  18  24  30  36  42  48  54  60]\n",
      " [  7  14  21  28  35  42  49  56  63  70]\n",
      " [  8  16  24  32  40  48  56  64  72  80]\n",
      " [  9  18  27  36  45  54  63  72  81  90]\n",
      " [ 10  20  30  40  50  60  70  80  90 100]] \n",
      "\n",
      "Trace: 385 \n",
      "\n",
      "Anti-diagonal: [10 18 24 28 30 30 28 24 18 10] \n",
      "\n",
      "Diagonal offset by 1: [ 2  6 12 20 30 42 56 72 90] \n",
      "\n"
     ]
    }
   ],
   "source": [
    "# from list comprehensions\n",
    "array = np.array([[(i*j) for i in range(1,11)] for j in range(1,11)])\n",
    "print(\"Matrix:\\n\",array, \"\\n\")\n",
    "print(\"Trace:\", np.trace(array), \"\\n\")\n",
    "print(\"Anti-diagonal:\",np.fliplr(array).diagonal(), \"\\n\")\n",
    "print(\"Diagonal offset by 1:\",np.diagonal(array, offset=1), \"\\n\")\n"
   ]
  },
  {
   "cell_type": "markdown",
   "metadata": {},
   "source": [
    "6\\. **Broadcasting**\n",
    "\n",
    "Use broadcasting to create a grid of distances.\n",
    "\n",
    "Route 66 crosses the following cities in the US: Chicago, Springfield, Saint-Louis, Tulsa, Oklahoma City, Amarillo, Santa Fe, Albuquerque, Flagstaff, Los Angeles.\n",
    "\n",
    "The corresponding positions in miles are: 0, 198, 303, 736, 871, 1175, 1475, 1544, 1913, 2448\n",
    "\n",
    "  * Build a 2D grid of distances among each city along Route 66\n",
    "  * Convert the distances in km"
   ]
  },
  {
   "cell_type": "code",
   "execution_count": 6,
   "metadata": {},
   "outputs": [
    {
     "name": "stdout",
     "output_type": "stream",
     "text": [
      "Distances:\n",
      " [[   0  198  303  736  871 1175 1475 1544 1913 2448]] \n",
      "\n",
      "2D grid:\n",
      " [[   0  198  303  736  871 1175 1475 1544 1913 2448]\n",
      " [ 198    0  105  538  673  977 1277 1346 1715 2250]\n",
      " [ 303  105    0  433  568  872 1172 1241 1610 2145]\n",
      " [ 736  538  433    0  135  439  739  808 1177 1712]\n",
      " [ 871  673  568  135    0  304  604  673 1042 1577]\n",
      " [1175  977  872  439  304    0  300  369  738 1273]\n",
      " [1475 1277 1172  739  604  300    0   69  438  973]\n",
      " [1544 1346 1241  808  673  369   69    0  369  904]\n",
      " [1913 1715 1610 1177 1042  738  438  369    0  535]\n",
      " [2448 2250 2145 1712 1577 1273  973  904  535    0]] \n",
      "\n",
      "Convert the distances in km:\n",
      " [[   0.  319.  488. 1184. 1402. 1891. 2374. 2485. 3079. 3940.]\n",
      " [ 319.    0.  169.  866. 1083. 1572. 2055. 2166. 2760. 3621.]\n",
      " [ 488.  169.    0.  697.  914. 1403. 1886. 1997. 2591. 3452.]\n",
      " [1184.  866.  697.    0.  217.  707. 1189. 1300. 1894. 2755.]\n",
      " [1402. 1083.  914.  217.    0.  489.  972. 1083. 1677. 2538.]\n",
      " [1891. 1572. 1403.  707.  489.    0.  483.  594. 1188. 2049.]\n",
      " [2374. 2055. 1886. 1189.  972.  483.    0.  111.  705. 1566.]\n",
      " [2485. 2166. 1997. 1300. 1083.  594.  111.    0.  594. 1455.]\n",
      " [3079. 2760. 2591. 1894. 1677. 1188.  705.  594.    0.  861.]\n",
      " [3940. 3621. 3452. 2755. 2538. 2049. 1566. 1455.  861.    0.]]\n"
     ]
    }
   ],
   "source": [
    "distance = np.array([0, 198, 303, 736, 871, 1175, 1475, 1544, 1913, 2448]).reshape(1,10)\n",
    "result = abs(distance - distance.T)\n",
    "print(\"Distances:\\n\",distance, \"\\n\")\n",
    "print(\"2D grid:\\n\", result, \"\\n\")\n",
    "\n",
    "mile_to_km = 1.60934\n",
    "print(\"Convert the distances in km:\\n\",np.round_(result*mile_to_km))"
   ]
  },
  {
   "cell_type": "markdown",
   "metadata": {},
   "source": [
    "7\\. **Prime numbers sieve**\n",
    "\n",
    "Compute the prime numbers in the 0-N (start with N=99) range with a sieve (mask).\n",
    "\n",
    "  * Constract a shape (N,) boolean array, which is the mask\n",
    "  * Identify the multiples of each number starting from 2 and set accordingly the corresponding mask element\n",
    "  * Apply the mask to obtain an array of ordered prime numbers\n",
    "  * Check the performances (with `timeit`); how does it scale with N?\n",
    "  * Implement the optimization suggested in the [sieve of Eratosthenes](https://en.wikipedia.org/wiki/Sieve_of_Eratosthenes)"
   ]
  },
  {
   "cell_type": "code",
   "execution_count": 7,
   "metadata": {},
   "outputs": [],
   "source": [
    "import timeit\n",
    "import math\n",
    "\n",
    "def  prime_numb(N):\n",
    "   \n",
    "    n = N+1\n",
    "    candidates = np.arange(2,n) #set numbers whose multiples are to be escluded\n",
    "    \n",
    "    mask = np.ones(n, bool) #last index is n-1 = N\n",
    "    mask[0] = False         #esclude by default 0 and 1\n",
    "    mask[1] = False\n",
    "\n",
    "    for element in candidates:\n",
    "        i = 2            #search multiples of each number in candidates starting from 2\n",
    "        condition = True\n",
    "        \n",
    "        while(condition):\n",
    "            if(element * i > n-1): #to avoid out of index error\n",
    "                condition = False  #skip to the next element\n",
    "                continue\n",
    "              \n",
    "            mask[element * i] = False     #if the multiples is in range n, set the correspondent mask to false\n",
    "            i += 1                        #increase multiplier\n",
    "            \n",
    "    numbers = np.arange(n)\n",
    "    return numbers[mask]\n",
    "            \n",
    "def eratostene_opt(N):\n",
    "   \n",
    "    n = N+1\n",
    "    algorithm_end = int(math.sqrt(n)+1) #possible candidates stop at square root of n\n",
    "    \n",
    "    candidates = np.arange(2,algorithm_end)\n",
    "    #print(\"candidates start\",candidates)\n",
    "\n",
    "    mask = np.ones(n, bool) #last index is n-1 = N\n",
    "    mask[0] = False         #esclude by default 0 and 1\n",
    "    mask[1] = False\n",
    "    \n",
    "    index = 0          #index to scan all the possible candidates\n",
    "    stop = False\n",
    "    while(not stop):\n",
    "        \n",
    "        if(index < len(candidates)):\n",
    "            current_candidate = candidates[index] #select current candidate\n",
    "        else:\n",
    "            stop = True #all candidates scanned\n",
    "            continue\n",
    "        condition =  True\n",
    "        total = current_candidate*current_candidate #start to seatch for multiples from current_candidate^2\n",
    "        \n",
    "        while(condition):\n",
    "            \n",
    "            if(total > n-1): #to avoid out of index error\n",
    "                condition = False #skip to the next candidate\n",
    "                continue\n",
    "            mask[total] = False                    #if the multiples is in range n, set the correspondent mask to false\n",
    "            total = total + current_candidate      #look for the next multiple of current_candidate \n",
    "        \n",
    "        candidates = np.arange(2,algorithm_end)[mask[2:algorithm_end]]    #remove candidates already marked\n",
    "        index += 1     #look for the next candidate\n",
    "        \n",
    "    numbers = np.arange(n)   \n",
    "    return numbers[mask]\n"
   ]
  },
  {
   "cell_type": "code",
   "execution_count": 8,
   "metadata": {
    "scrolled": false
   },
   "outputs": [
    {
     "name": "stdout",
     "output_type": "stream",
     "text": [
      "\u001b[1m \n",
      "Prime numbers up to: 1e+02 \u001b[0m\n",
      "Total prime numbers: 25\n",
      "TIME REQUIRED\n",
      "Base method:  0.000505299999999931 s\n",
      "Optimization: 0.000137200000000171 s\n",
      "\u001b[1m \n",
      "Prime numbers up to: 1e+03 \u001b[0m\n",
      "Total prime numbers: 168\n",
      "TIME REQUIRED\n",
      "Base method:  0.004208100000000048 s\n",
      "Optimization: 0.001828799999999742 s\n",
      "\u001b[1m \n",
      "Prime numbers up to: 1e+04 \u001b[0m\n",
      "Total prime numbers: 1229\n",
      "TIME REQUIRED\n",
      "Base method:  0.066586000000000034 s\n",
      "Optimization: 0.007661299999999649 s\n",
      "\u001b[1m \n",
      "Prime numbers up to: 1e+05 \u001b[0m\n",
      "Total prime numbers: 9592\n",
      "TIME REQUIRED\n",
      "Base method:  0.797135900000000230 s\n",
      "Optimization: 0.075004199999999965 s\n"
     ]
    }
   ],
   "source": [
    "import matplotlib.pyplot as plt\n",
    "\n",
    "BS = '\\033[1m'\n",
    "BE = '\\033[0m'\n",
    "\n",
    "for x in [10**2, 10**3, 10**4, 10**5]:\n",
    "    print(BS,\"\\nPrime numbers up to: {:.0e}\".format(x),BE)\n",
    "    N = x\n",
    "    \n",
    "    #base method\n",
    "    starttime = timeit.default_timer()\n",
    "    prime = prime_numb(N)\n",
    "    endtime = timeit.default_timer()\n",
    "    time = endtime - starttime\n",
    "    print(\"Total prime numbers:\", len(prime))\n",
    "    print(\"TIME REQUIRED\")\n",
    "    print(\"Base method: %21.18f\" % time, \"s\") \n",
    "    \n",
    "\n",
    "    #optimized\n",
    "    starttime = timeit.default_timer()\n",
    "    prime = eratostene_opt(N)\n",
    "    endtime = timeit.default_timer()\n",
    "    time = endtime - starttime\n",
    "    print(\"Optimization: %18.18f\" % time, \"s\")\n",
    "\n",
    "    \n",
    "#From the results we can see that increasing N by a factor 10, also the required time \n",
    "#for the computations increase by a factor 10\n"
   ]
  },
  {
   "cell_type": "markdown",
   "metadata": {},
   "source": [
    "8\\. **Diffusion using random walk**\n",
    "\n",
    "Consider a simple random walk process: at each step in time, a walker jumps right or left (+1 or -1) with equal probability. The goal is to find the typical distance from the origin of many random walkers after a given amount of time.\n",
    "\n",
    "*Hint*: create a 2D array where each row represents a walker, and each column represents a time step.\n",
    "\n",
    "  * Take 1000 walkers and let them walk for 200 steps\n",
    "  * Use `randint` to create a 2D array of size $walkers \\times steps$ with values -1 or 1\n",
    "  * Calculate the walking distances for each walker (e.g. by summing the elements in each row)\n",
    "  * Take the square of the previously-obtained array (element-wise)\n",
    "  * Compute the mean of the squared distances at each step (i.e. the mean along the columns)\n",
    "  * **Optional**: plot the average distances ($\\sqrt(distance^2)$) as a function of time (step)"
   ]
  },
  {
   "cell_type": "code",
   "execution_count": 9,
   "metadata": {
    "scrolled": false
   },
   "outputs": [
    {
     "data": {
      "image/png": "[encoded data removed]",
      "text/plain": [
       "<Figure size 576x576 with 1 Axes>"
      ]
     },
     "metadata": {
      "needs_background": "light"
     },
     "output_type": "display_data"
    }
   ],
   "source": [
    "import matplotlib.pyplot as plt\n",
    "import numpy.random as npr\n",
    "npr.seed(123)\n",
    "\n",
    "walkers = 1000\n",
    "steps = 200\n",
    "random_walk = npr.randint(2, size=(walkers, steps))*2-1\n",
    "\n",
    "#calculate the walking distances for each walker (e.g. by summing the elements in each row)\n",
    "distances = np.cumsum(random_walk,axis=1) \n",
    "\n",
    "#take the square of the previously-obtained array\n",
    "squared = distances*distances \n",
    "\n",
    "#compute the mean of the squared distances at each step (i.e. the mean along the columns)\n",
    "mean_squared = np.mean(squared,axis=0)\n",
    "\n",
    "#plot the average distancesas a function of time (step)\n",
    "avg_dist = np.sqrt(mean_squared)\n",
    "time = np.arange(1,len(avg_dist)+1)\n",
    "\n",
    "#plot\n",
    "fig = plt.figure(num=\"Figure 1\", figsize=(8, 8))\n",
    "plt.plot(time, avg_dist, label = \"random walk\" )\n",
    "plt.plot(time,np.sqrt(time), label = \"$\\sqrt{N}$\")\n",
    "plt.xlabel(\"time\")\n",
    "plt.ylabel(\"average_distance\")\n",
    "plt.legend()\n",
    "plt.show()"
   ]
  },
  {
   "cell_type": "code",
   "execution_count": null,
   "metadata": {},
   "outputs": [],
   "source": []
  }
 ],
 "metadata": {
  "kernelspec": {
   "display_name": "Python 3 (ipykernel)",
   "language": "python",
   "name": "python3"
  },
  "language_info": {
   "codemirror_mode": {
    "name": "ipython",
    "version": 3
   },
   "file_extension": ".py",
   "mimetype": "text/x-python",
   "name": "python",
   "nbconvert_exporter": "python",
   "pygments_lexer": "ipython3",
   "version": "3.9.7"
  }
 },
 "nbformat": 4,
 "nbformat_minor": 2
}
