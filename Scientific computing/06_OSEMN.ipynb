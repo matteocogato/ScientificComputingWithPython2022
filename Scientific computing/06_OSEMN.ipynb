{
 "cells": [
  {
   "cell_type": "markdown",
   "metadata": {},
   "source": [
    "# OSEMN\n",
    "\n",
    "According to a popular model, the elements of data science are:\n",
    "\n",
    "* Obtaining data\n",
    "* Scrubbing data\n",
    "* Exploring data\n",
    "* Modeling data\n",
    "* iNterpreting data\n",
    "\n",
    "and hence the acronym OSEMN, pronounced as “Awesome”.\n",
    "\n",
    "We will start with the **O**, and let's have a quick look at what it all boils down to:"
   ]
  },
  {
   "cell_type": "code",
   "execution_count": 1,
   "metadata": {},
   "outputs": [],
   "source": [
    "# O: obtaining data\n",
    "#!wget https://www.dropbox.com/s/ebe1cnyd2gm836a/populations.txt -P data/"
   ]
  },
  {
   "cell_type": "code",
   "execution_count": 2,
   "metadata": {},
   "outputs": [],
   "source": [
    "# S: scrubbing data\n",
    "import numpy as np\n",
    "data = np.loadtxt('data/populations.txt')\n",
    "year, hares, lynxes, carrots = data.T # trick: columns to variables\n",
    "# this is not real scrubbing, rather a simple operation to better handle the data"
   ]
  },
  {
   "cell_type": "code",
   "execution_count": 3,
   "metadata": {},
   "outputs": [
    {
     "name": "stdout",
     "output_type": "stream",
     "text": [
      "# year\thare\tlynx\tcarrot\n",
      "1900\t30e3\t4e3\t48300\n",
      "1901\t47.2e3\t6.1e3\t48200\n",
      "1902\t70.2e3\t9.8e3\t41500\n",
      "1903\t77.4e3\t35.2e3\t38200\n",
      "1904\t36.3e3\t59.4e3\t40600\n",
      "1905\t20.6e3\t41.7e3\t39800\n",
      "1906\t18.1e3\t19e3\t38600\n",
      "1907\t21.4e3\t13e3\t42300\n",
      "1908\t22e3\t8.3e3\t44500\n",
      "1909\t25.4e3\t9.1e3\t42100\n",
      "1910\t27.1e3\t7.4e3\t46000\n",
      "1911\t40.3e3\t8e3\t46800\n",
      "1912\t57e3\t12.3e3\t43800\n",
      "1913\t76.6e3\t19.5e3\t40900\n",
      "1914\t52.3e3\t45.7e3\t39400\n",
      "1915\t19.5e3\t51.1e3\t39000\n",
      "1916\t11.2e3\t29.7e3\t36700\n",
      "1917\t7.6e3\t15.8e3\t41800\n",
      "1918\t14.6e3\t9.7e3\t43300\n",
      "1919\t16.2e3\t10.1e3\t41300\n",
      "1920\t24.7e3\t8.6e3\t47300\n"
     ]
    },
    {
     "data": {
      "text/plain": [
       "<matplotlib.legend.Legend at 0x1cefe406f40>"
      ]
     },
     "execution_count": 3,
     "metadata": {},
     "output_type": "execute_result"
    },
    {
     "data": {
      "image/png": "[encoded data removed]",
      "text/plain": [
       "<Figure size 432x288 with 1 Axes>"
      ]
     },
     "metadata": {
      "needs_background": "light"
     },
     "output_type": "display_data"
    }
   ],
   "source": [
    "# E: exploring data\n",
    "!cat data/populations.txt\n",
    "\n",
    "from matplotlib import pyplot as plt\n",
    "%matplotlib inline\n",
    "\n",
    "plt.axes([0.2, 0.1, 0.5, 0.8]) \n",
    "plt.plot(year, hares, year, lynxes, year, carrots) \n",
    "plt.legend(('Hare', 'Lynx', 'Carrot'), loc=(1.05, 0.5))"
   ]
  },
  {
   "cell_type": "code",
   "execution_count": 4,
   "metadata": {},
   "outputs": [],
   "source": [
    "# M: modeling"
   ]
  },
  {
   "cell_type": "markdown",
   "metadata": {},
   "source": [
    "By plotting the data a clear (and reasonable) correlations between pray and predator becomes evident.\n",
    "\n",
    " - How can it be quantified?\n",
    " - Is that statistical significant?\n",
    " - What about the correlation between carrots and hares?\n",
    " \n",
    " We will deal with data modeling in few weeks, when we will learn to fit the data."
   ]
  },
  {
   "cell_type": "code",
   "execution_count": 5,
   "metadata": {},
   "outputs": [],
   "source": [
    "# N: interpreting"
   ]
  },
  {
   "cell_type": "markdown",
   "metadata": {},
   "source": [
    "Finding correlations in data is one of the main goals of data science, though that is not the end of the story: as this interesting [site](http://tylervigen.com/spurious-correlations) demonstrates, **correlations does not imply causation**."
   ]
  },
  {
   "cell_type": "markdown",
   "metadata": {},
   "source": [
    "**Optional exercise**: write an algorithm that determines and quantifies a correlation between two time series. Use as an example the hare-lynx-carrot dataset."
   ]
  },
  {
   "cell_type": "markdown",
   "metadata": {},
   "source": [
    "## Obtaining and processing data\n",
    "\n",
    "Accessing data may not be as easy as it seems. The previous example, where the data is stored on your own machine, represents the simplest (but alas, less common) case. Data is usually stored on remote machines, which can be either *publicly accessible* (everyone can access the data, even without credentials) rather than *private*. In the case of the former, things may be straightforward, whereas in the latter case you need to worry about a few things.\n",
    "\n",
    "In both cases, depending on the size of the dataset, the managment of the dataset can become extremely complicated. We won't deal here with large datasets (which require a whole course *per se*), but still we should pay attention to few basic things: for instance, *it is not wise to keep (and even worse commit) data into a git repository*!\n",
    "\n",
    "The suggestion is then to create a directory somewhere and copy the example datasets there. From a terminal:\n",
    "\n",
    "```bash\n",
    "\n",
    "# create a data directory in your home directory\n",
    "mkdir data/\n",
    "\n",
    "# check the content (it's empty now of course)\n",
    "ls -ltr data/\n",
    "\n",
    "# in the case you need to move there:\n",
    "cd data/\n",
    "\n",
    "# if you need to copy a file\n",
    "cp data/data_original.txt data/data_copy.txt\n",
    "```"
   ]
  },
  {
   "cell_type": "markdown",
   "metadata": {},
   "source": [
    "### Public data\n",
    "\n",
    "An increasingly number of institutions, reaserch centers, experiments, ... are making their data public.\n",
    "\n",
    "A nice set of interesting datasets can be found on this [server](https://archive.ics.uci.edu/ml/datasets.php) that collects training/test data for machine learning developments. Several of those belong to physical sciences, and may be worth a look. Since they are public, you can freely download any of those. However, they usually come with a license (e.g. you won't be allowed to make profit from them), and deserve a reference in your paper, if you publish some result.\n",
    "\n",
    "Sometimes, they are used as the input to machine learning challenges, where different groups compete to achieve the best result.\n",
    "\n",
    "In the following, we consider a dataset from the MAGIC experiment. We will get it with the `wget` command:"
   ]
  },
  {
   "cell_type": "code",
   "execution_count": 6,
   "metadata": {},
   "outputs": [],
   "source": [
    "# download the dataset and its description to the data/ directory\n",
    "#!wget https://archive.ics.uci.edu/ml/machine-learning-databases/magic/magic04.data -P data/\n",
    "#!wget https://archive.ics.uci.edu/ml/machine-learning-databases/magic/magic04.names -P data/    "
   ]
  },
  {
   "cell_type": "code",
   "execution_count": 7,
   "metadata": {},
   "outputs": [
    {
     "name": "stdout",
     "output_type": "stream",
     "text": [
      "1. Title of Database: MAGIC gamma telescope data 2004\n",
      "\n",
      "2. Sources:\n",
      "\n",
      "   (a) Original owner of the database:\n",
      "\n",
      "       R. K. Bock\n",
      "       Major Atmospheric Gamma Imaging Cherenkov Telescope project (MAGIC)\n",
      "       http://wwwmagic.mppmu.mpg.de\n",
      "       rkb@mail.cern.ch\n",
      "\n",
      "   (b) Donor:\n",
      "\n",
      "       P. Savicky\n",
      "       Institute of Computer Science, AS of CR\n",
      "       Czech Republic\n",
      "       savicky@cs.cas.cz\n",
      "\n",
      "   (c) Date received: May 2007\n",
      "\n",
      "3. Past Usage:\n",
      "\n",
      "   (a) Bock, R.K., Chilingarian, A., Gaug, M., Hakl, F., Hengstebeck, T.,\n",
      "       Jirina, M., Klaschka, J., Kotrc, E., Savicky, P., Towers, S.,\n",
      "       Vaicilius, A., Wittek W. (2004).\n",
      "       Methods for multidimensional event classification: a case study\n",
      "       using images from a Cherenkov gamma-ray telescope.\n",
      "       Nucl.Instr.Meth. A, 516, pp. 511-528.\n",
      "\n",
      "   (b) P. Savicky, E. Kotrc.\n",
      "       Experimental Study of Leaf Confidences for Random Forest.\n",
      "       Proceedings of COMPSTAT 2004, In: Computational Statistics.\n",
      "       (Ed.: Antoch J.) - Heidelberg, Physica Verlag 2004, pp. 1767-1774.\n",
      "\n",
      "   (c) J. Dvorak, P. Savicky.\n",
      "       Softening Splits in Decision Trees Using Simulated Annealing.\n",
      "       Proceedings of ICANNGA 2007, Warsaw, (Ed.: Beliczynski et. al),\n",
      "       Part I, LNCS 4431, pp. 721-729.\n",
      "\n",
      "4. Relevant Information:\n",
      "\n",
      "   The data are MC generated (see below) to simulate registration of high energy\n",
      "   gamma particles in a ground-based atmospheric Cherenkov gamma telescope using the\n",
      "   imaging technique. Cherenkov gamma telescope observes high energy gamma rays,\n",
      "   taking advantage of the radiation emitted by charged particles produced\n",
      "   inside the electromagnetic showers initiated by the gammas, and developing in the\n",
      "   atmosphere. This Cherenkov radiation (of visible to UV wavelengths) leaks\n",
      "   through the atmosphere and gets recorded in the detector, allowing reconstruction\n",
      "   of the shower parameters. The available information consists of pulses left by\n",
      "   the incoming Cherenkov photons on the photomultiplier tubes, arranged in a\n",
      "   plane, the camera. Depending on the energy of the primary gamma, a total of\n",
      "   few hundreds to some 10000 Cherenkov photons get collected, in patterns\n",
      "   (called the shower image), allowing to discriminate statistically those\n",
      "   caused by primary gammas (signal) from the images of hadronic showers\n",
      "   initiated by cosmic rays in the upper atmosphere (background).\n",
      "\n",
      "   Typically, the image of a shower after some pre-processing is an elongated\n",
      "   cluster. Its long axis is oriented towards the camera center if the shower axis\n",
      "   is parallel to the telescope's optical axis, i.e. if the telescope axis is\n",
      "   directed towards a point source. A principal component analysis is performed\n",
      "   in the camera plane, which results in a correlation axis and defines an ellipse.\n",
      "   If the depositions were distributed as a bivariate Gaussian, this would be\n",
      "   an equidensity ellipse. The characteristic parameters of this ellipse\n",
      "   (often called Hillas parameters) are among the image parameters that can be\n",
      "   used for discrimination. The energy depositions are typically asymmetric\n",
      "   along the major axis, and this asymmetry can also be used in discrimination.\n",
      "   There are, in addition, further discriminating characteristics, like the\n",
      "   extent of the cluster in the image plane, or the total sum of depositions.\n",
      "\n",
      "   The data set was generated by a Monte Carlo program, Corsika, described in \n",
      "      D. Heck et al., CORSIKA, A Monte Carlo code to simulate extensive air showers,\n",
      "      Forschungszentrum Karlsruhe FZKA 6019 (1998).\n",
      "   The program was run with parameters allowing to observe events with energies down\n",
      "   to below 50 GeV.\n",
      "\n",
      "5. Number of Instances: 19020\n",
      "\n",
      "6. Number of Attributes: 11 (including the class)\n",
      "\n",
      "7. Attribute information:\n",
      "\n",
      "    1.  fLength:  continuous  # major axis of ellipse [mm]\n",
      "    2.  fWidth:   continuous  # minor axis of ellipse [mm] \n",
      "    3.  fSize:    continuous  # 10-log of sum of content of all pixels [in #phot]\n",
      "    4.  fConc:    continuous  # ratio of sum of two highest pixels over fSize  [ratio]\n",
      "    5.  fConc1:   continuous  # ratio of highest pixel over fSize  [ratio]\n",
      "    6.  fAsym:    continuous  # distance from highest pixel to center, projected onto major axis [mm]\n",
      "    7.  fM3Long:  continuous  # 3rd root of third moment along major axis  [mm] \n",
      "    8.  fM3Trans: continuous  # 3rd root of third moment along minor axis  [mm]\n",
      "    9.  fAlpha:   continuous  # angle of major axis with vector to origin [deg]\n",
      "   10.  fDist:    continuous  # distance from origin to center of ellipse [mm]\n",
      "   11.  class:    g,h         # gamma (signal), hadron (background)\n",
      "\n",
      "8. Missing Attribute Values: None\n",
      "\n",
      "9. Class Distribution:\n",
      "\n",
      "   g = gamma (signal):     12332\n",
      "   h = hadron (background): 6688\n",
      "\n",
      "   For technical reasons, the number of h events is underestimated.\n",
      "   In the real data, the h class represents the majority of the events.\n",
      "\n",
      "   The simple classification accuracy is not meaningful for this data, since\n",
      "   classifying a background event as signal is worse than classifying a signal\n",
      "   event as background. For comparison of different classifiers an ROC curve\n",
      "   has to be used. The relevant points on this curve are those, where the\n",
      "   probability of accepting a background event as signal is below one of the\n",
      "   following thresholds: 0.01, 0.02, 0.05, 0.1, 0.2 depending on the required\n",
      "   quality of the sample of the accepted events for different experiments.\n",
      "\n"
     ]
    }
   ],
   "source": [
    "# read the description file. This can (and should) be done from a terminal\n",
    "!cat data/magic04.names"
   ]
  },
  {
   "cell_type": "markdown",
   "metadata": {},
   "source": [
    "### Accessing the data without downloading the file(s)\n",
    "\n",
    "It is possible to download and load remote files via their url from within python (and thus on a jupyter session). This is a rather powerful tool as it allows http communications, I/O streaming and so on.\n",
    "\n",
    "Care should be put as the dataset is stored in memory."
   ]
  },
  {
   "cell_type": "code",
   "execution_count": 8,
   "metadata": {},
   "outputs": [
    {
     "name": "stdout",
     "output_type": "stream",
     "text": [
      "b'1. Title of Database: MAGIC gamma telescope data 2004\\n'\n",
      "b'\\n'\n",
      "b'2. Sources:\\n'\n",
      "b'\\n'\n",
      "b'   (a) Original owner of the database:\\n'\n",
      "b'\\n'\n",
      "b'       R. K. Bock\\n'\n",
      "b'       Major Atmospheric Gamma Imaging Cherenkov Telescope project (MAGIC)\\n'\n",
      "b'       http://wwwmagic.mppmu.mpg.de\\n'\n",
      "b'       rkb@mail.cern.ch\\n'\n",
      "b'\\n'\n",
      "b'   (b) Donor:\\n'\n",
      "b'\\n'\n",
      "b'       P. Savicky\\n'\n",
      "b'       Institute of Computer Science, AS of CR\\n'\n",
      "b'       Czech Republic\\n'\n",
      "b'       savicky@cs.cas.cz\\n'\n",
      "b'\\n'\n",
      "b'   (c) Date received: May 2007\\n'\n",
      "b'\\n'\n",
      "b'3. Past Usage:\\n'\n",
      "b'\\n'\n",
      "b'   (a) Bock, R.K., Chilingarian, A., Gaug, M., Hakl, F., Hengstebeck, T.,\\n'\n",
      "b'       Jirina, M., Klaschka, J., Kotrc, E., Savicky, P., Towers, S.,\\n'\n",
      "b'       Vaicilius, A., Wittek W. (2004).\\n'\n",
      "b'       Methods for multidimensional event classification: a case study\\n'\n",
      "b'       using images from a Cherenkov gamma-ray telescope.\\n'\n",
      "b'       Nucl.Instr.Meth. A, 516, pp. 511-528.\\n'\n",
      "b'\\n'\n",
      "b'   (b) P. Savicky, E. Kotrc.\\n'\n",
      "b'       Experimental Study of Leaf Confidences for Random Forest.\\n'\n",
      "b'       Proceedings of COMPSTAT 2004, In: Computational Statistics.\\n'\n",
      "b'       (Ed.: Antoch J.) - Heidelberg, Physica Verlag 2004, pp. 1767-1774.\\n'\n",
      "b'\\n'\n",
      "b'   (c) J. Dvorak, P. Savicky.\\n'\n",
      "b'       Softening Splits in Decision Trees Using Simulated Annealing.\\n'\n",
      "b'       Proceedings of ICANNGA 2007, Warsaw, (Ed.: Beliczynski et. al),\\n'\n",
      "b'       Part I, LNCS 4431, pp. 721-729.\\n'\n",
      "b'\\n'\n",
      "b'4. Relevant Information:\\n'\n",
      "b'\\n'\n",
      "b'   The data are MC generated (see below) to simulate registration of high energy\\n'\n",
      "b'   gamma particles in a ground-based atmospheric Cherenkov gamma telescope using the\\n'\n",
      "b'   imaging technique. Cherenkov gamma telescope observes high energy gamma rays,\\n'\n",
      "b'   taking advantage of the radiation emitted by charged particles produced\\n'\n",
      "b'   inside the electromagnetic showers initiated by the gammas, and developing in the\\n'\n",
      "b'   atmosphere. This Cherenkov radiation (of visible to UV wavelengths) leaks\\n'\n",
      "b'   through the atmosphere and gets recorded in the detector, allowing reconstruction\\n'\n",
      "b'   of the shower parameters. The available information consists of pulses left by\\n'\n",
      "b'   the incoming Cherenkov photons on the photomultiplier tubes, arranged in a\\n'\n",
      "b'   plane, the camera. Depending on the energy of the primary gamma, a total of\\n'\n",
      "b'   few hundreds to some 10000 Cherenkov photons get collected, in patterns\\n'\n",
      "b'   (called the shower image), allowing to discriminate statistically those\\n'\n",
      "b'   caused by primary gammas (signal) from the images of hadronic showers\\n'\n",
      "b'   initiated by cosmic rays in the upper atmosphere (background).\\n'\n",
      "b'\\n'\n",
      "b'   Typically, the image of a shower after some pre-processing is an elongated\\n'\n",
      "b'   cluster. Its long axis is oriented towards the camera center if the shower axis\\n'\n",
      "b\"   is parallel to the telescope's optical axis, i.e. if the telescope axis is\\n\"\n",
      "b'   directed towards a point source. A principal component analysis is performed\\n'\n",
      "b'   in the camera plane, which results in a correlation axis and defines an ellipse.\\n'\n",
      "b'   If the depositions were distributed as a bivariate Gaussian, this would be\\n'\n",
      "b'   an equidensity ellipse. The characteristic parameters of this ellipse\\n'\n",
      "b'   (often called Hillas parameters) are among the image parameters that can be\\n'\n",
      "b'   used for discrimination. The energy depositions are typically asymmetric\\n'\n",
      "b'   along the major axis, and this asymmetry can also be used in discrimination.\\n'\n",
      "b'   There are, in addition, further discriminating characteristics, like the\\n'\n",
      "b'   extent of the cluster in the image plane, or the total sum of depositions.\\n'\n",
      "b'\\n'\n",
      "b'   The data set was generated by a Monte Carlo program, Corsika, described in \\n'\n",
      "b'      D. Heck et al., CORSIKA, A Monte Carlo code to simulate extensive air showers,\\n'\n",
      "b'      Forschungszentrum Karlsruhe FZKA 6019 (1998).\\n'\n",
      "b'   The program was run with parameters allowing to observe events with energies down\\n'\n",
      "b'   to below 50 GeV.\\n'\n",
      "b'\\n'\n",
      "b'5. Number of Instances: 19020\\n'\n",
      "b'\\n'\n",
      "b'6. Number of Attributes: 11 (including the class)\\n'\n",
      "b'\\n'\n",
      "b'7. Attribute information:\\n'\n",
      "b'\\n'\n",
      "b'    1.  fLength:  continuous  # major axis of ellipse [mm]\\n'\n",
      "b'    2.  fWidth:   continuous  # minor axis of ellipse [mm] \\n'\n",
      "b'    3.  fSize:    continuous  # 10-log of sum of content of all pixels [in #phot]\\n'\n",
      "b'    4.  fConc:    continuous  # ratio of sum of two highest pixels over fSize  [ratio]\\n'\n",
      "b'    5.  fConc1:   continuous  # ratio of highest pixel over fSize  [ratio]\\n'\n",
      "b'    6.  fAsym:    continuous  # distance from highest pixel to center, projected onto major axis [mm]\\n'\n",
      "b'    7.  fM3Long:  continuous  # 3rd root of third moment along major axis  [mm] \\n'\n",
      "b'    8.  fM3Trans: continuous  # 3rd root of third moment along minor axis  [mm]\\n'\n",
      "b'    9.  fAlpha:   continuous  # angle of major axis with vector to origin [deg]\\n'\n",
      "b'   10.  fDist:    continuous  # distance from origin to center of ellipse [mm]\\n'\n",
      "b'   11.  class:    g,h         # gamma (signal), hadron (background)\\n'\n",
      "b'\\n'\n",
      "b'8. Missing Attribute Values: None\\n'\n",
      "b'\\n'\n",
      "b'9. Class Distribution:\\n'\n",
      "b'\\n'\n",
      "b'   g = gamma (signal):     12332\\n'\n",
      "b'   h = hadron (background): 6688\\n'\n",
      "b'\\n'\n",
      "b'   For technical reasons, the number of h events is underestimated.\\n'\n",
      "b'   In the real data, the h class represents the majority of the events.\\n'\n",
      "b'\\n'\n",
      "b'   The simple classification accuracy is not meaningful for this data, since\\n'\n",
      "b'   classifying a background event as signal is worse than classifying a signal\\n'\n",
      "b'   event as background. For comparison of different classifiers an ROC curve\\n'\n",
      "b'   has to be used. The relevant points on this curve are those, where the\\n'\n",
      "b'   probability of accepting a background event as signal is below one of the\\n'\n",
      "b'   following thresholds: 0.01, 0.02, 0.05, 0.1, 0.2 depending on the required\\n'\n",
      "b'   quality of the sample of the accepted events for different experiments.\\n'\n",
      "b'\\n'\n"
     ]
    }
   ],
   "source": [
    "import urllib.request\n",
    "url = 'https://archive.ics.uci.edu/ml/machine-learning-databases/magic/magic04.names'\n",
    "with urllib.request.urlopen(url) as data_file:\n",
    "    #print(data_file.read(300))\n",
    "    for line in data_file:\n",
    "        print(line)"
   ]
  },
  {
   "cell_type": "markdown",
   "metadata": {},
   "source": [
    "###  Copy data from a remote machine\n",
    "\n",
    "Often datasets are not available on websites, but rather they are stored on some remote machine. Several tools have been developed allow you to get remote data, even from within python (e.g. [paramiko](https://www.paramiko.org/)), but it's often enough to get a local copy.\n",
    "\n",
    "The unix `scp` command is of great help in this case. Its syntax resembles the one of the `cp` command, e.g. from a terminal:\n",
    "\n",
    "```bash\n",
    "scp username@machinename.unipd.it:/path/to/the/file/filename.* path/to/the/target/\n",
    "```\n",
    "\n",
    "The `scp` works provided that you have the necessary permissions and authorization to log in to the remote machine, and you know the location of the files within that machine. This seems trivial, but it's one of the most difficult aspects you will have to deal when trying to obtain the data."
   ]
  },
  {
   "cell_type": "markdown",
   "metadata": {},
   "source": [
    "However, it could be worse. Especially in large reaserch centers or companies, the remote machine `R` is often not accessible from \"outside\", meaning that it is hidden behind a firewall. In that case you may need to use to access to a *gate* machine `G` first (with very limited disk space and functionality), and only then you can connect to the machine. This also means that you cannot run the `scp` command twice to get the data.\n",
    "\n",
    "The simplest solution is to create an `ssh` tunnel:\n",
    "\n",
    "``` bash\n",
    "ssh -L port:<address of R known to G>:22 <user at G>@<address of G> \n",
    "\n",
    "scp -P port <user at R>@localhost:/path/to/the/file file-name-to-be-copied\n",
    "```\n",
    "\n",
    "where `port` is the port number which is a number between 1025 and 65535, `R` is the machine where the files are located, `G` is the gate, and `user` is the username.\n",
    "\n",
    "The first command redirects your local port `port` to port 22 of `R`. It could happen that the chosen port number is already in use, in that case just pick another unused port.\n",
    "\n",
    "In summary, just getting the data could be complicated."
   ]
  },
  {
   "cell_type": "markdown",
   "metadata": {},
   "source": [
    "## Data Formats\n",
    "\n",
    "Datasets can be stored in several different ways. Sometimes, they have formats which are application-dependent, even though more and more standards are being established.\n",
    "\n",
    "#### Proprietary formats\n",
    "\n",
    "In some of those cases, the format of the data is proprietary, meaning that the software house does not provide the documentation needed to read and write the data in that format. We won't cover those cases in this course, and there are a number of reasons to avoid them.\n",
    "\n",
    "#### Open formats\n",
    "\n",
    "In case an open, widely-accepted data formats, Python has \"readers\" for most of these, another reason for being the optimal programming language for data analysis. In the follwing, we will explore the most common ones."
   ]
  },
  {
   "cell_type": "markdown",
   "metadata": {},
   "source": [
    "### Text files \n",
    "\n",
    "Plain text files are very common, and are used for \"readibility\", at the price of a poor storing efficiency. [UTF-8](https://en.wikipedia.org/wiki/UTF-8) is the most common encoding.\n",
    "\n",
    "Reading (and writing) text files in Python is straightforward:"
   ]
  },
  {
   "cell_type": "code",
   "execution_count": 9,
   "metadata": {},
   "outputs": [
    {
     "name": "stdout",
     "output_type": "stream",
     "text": [
      "0 :\n",
      "28.7967,16.0021,2.6449,0.3918,0.1982,27.7004,22.011,-8.2027,40.092,81.8828,g\n",
      "\n",
      "1 :\n",
      "31.6036,11.7235,2.5185,0.5303,0.3773,26.2722,23.8238,-9.9574,6.3609,205.261,g\n",
      "\n",
      "2 :\n",
      "162.052,136.031,4.0612,0.0374,0.0187,116.741,-64.858,-45.216,76.96,256.788,g\n",
      "\n",
      "3 :\n",
      "23.8172,9.5728,2.3385,0.6147,0.3922,27.2107,-6.4633,-7.1513,10.449,116.737,g\n",
      "\n",
      "4 :\n",
      "75.1362,30.9205,3.1611,0.3168,0.1832,-5.5277,28.5525,21.8393,4.648,356.462,g\n",
      "\n",
      "5 :\n",
      "51.624,21.1502,2.9085,0.242,0.134,50.8761,43.1887,9.8145,3.613,238.098,g\n",
      "\n",
      "6 :\n",
      "48.2468,17.3565,3.0332,0.2529,0.1515,8.573,38.0957,10.5868,4.792,219.087,g\n",
      "\n",
      "7 :\n",
      "26.7897,13.7595,2.5521,0.4236,0.2174,29.6339,20.456,-2.9292,0.812,237.134,g\n",
      "\n",
      "8 :\n",
      "96.2327,46.5165,4.154,0.0779,0.039,110.355,85.0486,43.1844,4.854,248.226,g\n",
      "\n",
      "9 :\n",
      "46.7619,15.1993,2.5786,0.3377,0.1913,24.7548,43.8771,-6.6812,7.875,102.251,g\n",
      "\n",
      "10 :\n",
      "62.7766,29.9104,3.3331,0.2475,0.1261,-33.9065,57.5848,23.771,9.9144,323.094,g\n",
      "\n"
     ]
    }
   ],
   "source": [
    "file_name = \"data/magic04.data\"\n",
    "n = 0\n",
    "\n",
    "# mode can be specified for writing, reading or both\n",
    "with open(file_name, mode = 'r') as f:\n",
    "    # print-out the whole file\n",
    "    # print(f.read()) \n",
    "    for line in f:\n",
    "        print(n, \":\")\n",
    "        # print line by line\n",
    "        print(line)\n",
    "        # each line is a string, you need to split it yourself\n",
    "        #for c in line.split(','): print(\"  \", c) # check the functionalities of the split() method\n",
    "        n += 1\n",
    "        if n > 10: break"
   ]
  },
  {
   "cell_type": "markdown",
   "metadata": {},
   "source": [
    "Similarly, it's possible to write files to a txt file:"
   ]
  },
  {
   "cell_type": "code",
   "execution_count": 10,
   "metadata": {},
   "outputs": [
    {
     "name": "stdout",
     "output_type": "stream",
     "text": [
      "62.7766,29.9104,3.3331,0.2475,0.1261,-33.9065,57.5848,23.771,9.9144,323.094,g\n",
      "\n",
      "62.7766,29.9104,3.3331,0.2475,0.1261,-33.9065,57.5848,23.771,9.9144,323.094,g\n",
      "\n",
      "62.7766,29.9104,3.3331,0.2475,0.1261,-33.9065,57.5848,23.771,9.9144,323.094,g\n",
      "\n",
      "62.7766,29.9104,3.3331,0.2475,0.1261,-33.9065,57.5848,23.771,9.9144,323.094,g\n",
      "\n",
      "62.7766,29.9104,3.3331,0.2475,0.1261,-33.9065,57.5848,23.771,9.9144,323.094,g\n",
      "\n",
      "62.7766,29.9104,3.3331,0.2475,0.1261,-33.9065,57.5848,23.771,9.9144,323.094,g\n",
      "\n",
      "62.7766,29.9104,3.3331,0.2475,0.1261,-33.9065,57.5848,23.771,9.9144,323.094,g\n",
      "\n"
     ]
    }
   ],
   "source": [
    "out_file_name = \"data/magic04.out\"\n",
    "\n",
    "with open(out_file_name, 'a') as outfile:\n",
    "    outfile.write(line + '\\n') # write last line to a file\n",
    "\n",
    "!cat data/magic04.out"
   ]
  },
  {
   "cell_type": "markdown",
   "metadata": {},
   "source": [
    "### CSV files\n",
    "\n",
    "Text files are already framed into a defined structured, in a \"table-like\" manner. If the values/features/attributes are separated with a comma, these files are colled \"comma separated values\" (CSV), even though the separator may well not be the \",\" symbol. It could also happen that the separator is a whitespace, or a tab character.\n",
    "\n",
    "Python has a package to deal with those, named `csv`:"
   ]
  },
  {
   "cell_type": "code",
   "execution_count": 11,
   "metadata": {},
   "outputs": [
    {
     "name": "stdout",
     "output_type": "stream",
     "text": [
      "28.7967 16.0021 2.6449 0.3918 0.1982 27.7004 22.011 -8.2027 40.092 81.8828 g\n",
      "31.6036 11.7235 2.5185 0.5303 0.3773 26.2722 23.8238 -9.9574 6.3609 205.261 g\n",
      "162.052 136.031 4.0612 0.0374 0.0187 116.741 -64.858 -45.216 76.96 256.788 g\n",
      "23.8172 9.5728 2.3385 0.6147 0.3922 27.2107 -6.4633 -7.1513 10.449 116.737 g\n",
      "75.1362 30.9205 3.1611 0.3168 0.1832 -5.5277 28.5525 21.8393 4.648 356.462 g\n",
      "51.624 21.1502 2.9085 0.242 0.134 50.8761 43.1887 9.8145 3.613 238.098 g\n",
      "48.2468 17.3565 3.0332 0.2529 0.1515 8.573 38.0957 10.5868 4.792 219.087 g\n",
      "26.7897 13.7595 2.5521 0.4236 0.2174 29.6339 20.456 -2.9292 0.812 237.134 g\n",
      "96.2327 46.5165 4.154 0.0779 0.039 110.355 85.0486 43.1844 4.854 248.226 g\n",
      "46.7619 15.1993 2.5786 0.3377 0.1913 24.7548 43.8771 -6.6812 7.875 102.251 g\n",
      "62.7766 29.9104 3.3331 0.2475 0.1261 -33.9065 57.5848 23.771 9.9144 323.094 g\n"
     ]
    }
   ],
   "source": [
    "import csv\n",
    "\n",
    "n = 0\n",
    "\n",
    "with open('data/magic04.data') as data_file:\n",
    "    for line in csv.reader(data_file, delimiter=','): # the delimiter is often guessed by the reader\n",
    "        # again note that elements of each line are treated as strings\n",
    "        # if you need to convert them into numbers, you need to to that yourself\n",
    "        fLength, fWidth, fSize, fConc, fConc1, fAsym, fM3Long, fM3Trans, fAlpha, fDist = map(float, line[:-1])\n",
    "        category = line[-1]\n",
    "        print(fLength, fWidth, fSize, fConc, fConc1, fAsym, fM3Long, fM3Trans, fAlpha, fDist, category)\n",
    "        n += 1\n",
    "        if n > 10: break"
   ]
  },
  {
   "cell_type": "markdown",
   "metadata": {},
   "source": [
    "Sometimes, csv files have comments (e.g. starting with '#'), which cannot be interpreted by the reader. Tricks like:\n",
    "\n",
    "```python\n",
    "csv.reader(row for row in f if not row.startswith('#'))\n",
    "```\n",
    "\n",
    "may be useful to skip those lines."
   ]
  },
  {
   "cell_type": "markdown",
   "metadata": {},
   "source": [
    "### JSON files\n",
    "\n",
    "JSON stands for JavaScript Object Notation, and is a format widely used for web-based resource sharing. It is very similar in structure to a Python nested dictionary. It is humand readable (then human-editable), even if readability may be difficult for complex data structures. Its use is convenient in Python, as its items can be accessed by key. Here is an example http://json.org/example:"
   ]
  },
  {
   "cell_type": "code",
   "execution_count": 12,
   "metadata": {},
   "outputs": [
    {
     "name": "stdout",
     "output_type": "stream",
     "text": [
      "Overwriting example.json\n"
     ]
    }
   ],
   "source": [
    "%%file example.json\n",
    "{\n",
    "    \"glossary\": {\n",
    "        \"title\": \"example glossary\",\n",
    "            \"GlossDiv\": {\n",
    "            \"title\": \"S\",\n",
    "                    \"GlossList\": {\n",
    "                \"GlossEntry\": {\n",
    "                    \"ID\": \"SGML\",\n",
    "                                    \"SortAs\": \"SGML\",\n",
    "                                    \"GlossTerm\": \"Standard Generalized Markup Language\",\n",
    "                                    \"Acronym\": \"SGML\",\n",
    "                                    \"Abbrev\": \"ISO 8879:1986\",\n",
    "                                    \"GlossDef\": {\n",
    "                        \"para\": \"A meta-markup language, used to create markup languages such as DocBook.\",\n",
    "                                            \"GlossSeeAlso\": [\"GML\", \"XML\"]\n",
    "                    },\n",
    "                                    \"GlossSee\": \"markup\"\n",
    "                }\n",
    "            }\n",
    "        }\n",
    "    }\n",
    "}"
   ]
  },
  {
   "cell_type": "code",
   "execution_count": 13,
   "metadata": {},
   "outputs": [
    {
     "name": "stdout",
     "output_type": "stream",
     "text": [
      "{\n",
      "    \"glossary\": {\n",
      "        \"title\": \"example glossary\",\n",
      "            \"GlossDiv\": {\n",
      "            \"title\": \"S\",\n",
      "                    \"GlossList\": {\n",
      "                \"GlossEntry\": {\n",
      "                    \"ID\": \"SGML\",\n",
      "                                    \"SortAs\": \"SGML\",\n",
      "                                    \"GlossTerm\": \"Standard Generalized Markup Language\",\n",
      "                                    \"Acronym\": \"SGML\",\n",
      "                                    \"Abbrev\": \"ISO 8879:1986\",\n",
      "                                    \"GlossDef\": {\n",
      "                        \"para\": \"A meta-markup language, used to create markup languages such as DocBook.\",\n",
      "                                            \"GlossSeeAlso\": [\"GML\", \"XML\"]\n",
      "                    },\n",
      "                                    \"GlossSee\": \"markup\"\n",
      "                }\n",
      "            }\n",
      "        }\n",
      "    }\n",
      "}\n"
     ]
    }
   ],
   "source": [
    "!cat example.json"
   ]
  },
  {
   "cell_type": "code",
   "execution_count": 14,
   "metadata": {},
   "outputs": [
    {
     "name": "stdout",
     "output_type": "stream",
     "text": [
      "{'glossary': {'title': 'example glossary', 'GlossDiv': {'title': 'S', 'GlossList': {'GlossEntry': {'ID': 'SGML', 'SortAs': 'SGML', 'GlossTerm': 'Standard Generalized Markup Language', 'Acronym': 'SGML', 'Abbrev': 'ISO 8879:1986', 'GlossDef': {'para': 'A meta-markup language, used to create markup languages such as DocBook.', 'GlossSeeAlso': ['GML', 'XML']}, 'GlossSee': 'markup'}}}}}\n"
     ]
    }
   ],
   "source": [
    "import json # import the JSON module\n",
    "data = json.load(open('example.json'))\n",
    "print(data)"
   ]
  },
  {
   "cell_type": "code",
   "execution_count": 15,
   "metadata": {},
   "outputs": [
    {
     "data": {
      "text/plain": [
       "'Standard Generalized Markup Language'"
      ]
     },
     "execution_count": 15,
     "metadata": {},
     "output_type": "execute_result"
    }
   ],
   "source": [
    "# and can be parsed using standard key lookups\n",
    "data['glossary']['GlossDiv']['GlossList']['GlossEntry']['GlossTerm']"
   ]
  },
  {
   "cell_type": "markdown",
   "metadata": {},
   "source": [
    "### Pickle\n",
    "\n",
    "Sometimes, you may want to save and read more complex Python data structures than int, floats and strings, as for example dictionaries, tuples, lists, or even more complex objects.\n",
    "\n",
    "In these cases, the `pkl` format is very handful. Pickle is used for serializing and de-serializing Python object structures, also called flattening. Serialization consists of converting an object in memory to a byte stream that can be stored on disk. Later on, this character stream can then be retrieved and de-serialized back to a Python object.\n",
    "\n",
    "There are fundamental differences between the pickle protocols and JSON (JavaScript Object Notation):\n",
    "\n",
    "- JSON is a text serialization format (it outputs unicode text, although most of the time it is then encoded to utf-8), while pickle is a binary serialization format;\n",
    "\n",
    "- JSON is human-readable, while pickle is not;\n",
    "\n",
    "- JSON is interoperable and widely used outside of the Python ecosystem, while pickle is Python-specific;\n",
    "\n",
    "- JSON, by default, can only represent a subset of the Python built-in types, and no custom classes; pickle can represent an extremely large number of Python types (many of them automatically, by clever usage of Python’s introspection facilities; complex cases can be tackled by implementing specific object APIs);\n",
    "\n",
    "- Unlike pickle, deserializing untrusted JSON does not in itself create an arbitrary code execution vulnerability."
   ]
  },
  {
   "cell_type": "code",
   "execution_count": 16,
   "metadata": {},
   "outputs": [
    {
     "name": "stdout",
     "output_type": "stream",
     "text": [
      "Zmumu.root\n",
      "data_000637.dat\n",
      "data_000637.txt\n",
      "dog_ages.pkl\n",
      "example.hdf5\n",
      "magic04.data\n",
      "magic04.names\n",
      "magic04.out\n",
      "populations.txt\n"
     ]
    }
   ],
   "source": [
    "import pickle\n",
    "\n",
    "# define the data structure\n",
    "ages_dict = {'Fido' : 3, 'Laika' : 16, 'Skipper' : 10, 'Balou' : 9}\n",
    "\n",
    "filename = \"data/dog_ages.pkl\"\n",
    "\n",
    "outfile = open(filename, 'wb') # note: no filename extension. 'wb' stands for w: write and b: binary\n",
    "pickle.dump(ages_dict, outfile) # \"dump\" the data to pkl\n",
    "outfile.close() # remember to close the file\n",
    "\n",
    "!ls data/"
   ]
  },
  {
   "cell_type": "code",
   "execution_count": 17,
   "metadata": {},
   "outputs": [
    {
     "name": "stdout",
     "output_type": "stream",
     "text": [
      "{'Fido': 3, 'Laika': 16, 'Skipper': 10, 'Balou': 9}\n"
     ]
    }
   ],
   "source": [
    "# Read pickle\n",
    "infile = open(filename, 'rb')\n",
    "new_dict = pickle.load(infile)\n",
    "infile.close()\n",
    "\n",
    "print(new_dict)"
   ]
  },
  {
   "cell_type": "markdown",
   "metadata": {},
   "source": [
    "### HDF5\n",
    "\n",
    "HDF5 is a hierarchical format often used to store complex scientific data. For instance, Matlab now saves its data to HDF5. It is particularly useful to store complex hierarchical data sets with associated metadata, for example, the results of a computer simulation experiment.\n",
    "\n",
    "The main concepts associated with HDF5 are:\n",
    "\n",
    "* file: container for hierachical data - serves as ‘root’ for tree\n",
    "* group: a node for a tree\n",
    "* dataset: array for numeric data - can be huge\n",
    "* attribute: small pieces of metadata that provide additional context\n",
    "\n",
    "Now let's create a dummy dataset:"
   ]
  },
  {
   "cell_type": "code",
   "execution_count": 18,
   "metadata": {},
   "outputs": [],
   "source": [
    "import h5py\n",
    "import numpy as np\n",
    "import os\n",
    "\n",
    "# creating a HDF5 file\n",
    "\n",
    "filename = \"data/example.hdf5\"\n",
    "\n",
    "if os.path.exists(filename): # check if file exists, and if it does, delete it\n",
    "    os.remove(filename)\n",
    "\n",
    "with h5py.File(filename, 'w') as f:\n",
    "    project = f.create_group('project')\n",
    "    expt1 = project.create_group('expt1')\n",
    "    expt2 = project.create_group('expt2')\n",
    "    expt1.create_dataset('counts', (100,), dtype='i')\n",
    "    expt2.create_dataset('values', (1000,), dtype='f')\n",
    "\n",
    "    expt1['counts'][:] = np.arange(100)\n",
    "    expt2['values'][:] = np.arange(1000)/10."
   ]
  },
  {
   "cell_type": "code",
   "execution_count": 19,
   "metadata": {},
   "outputs": [
    {
     "name": "stdout",
     "output_type": "stream",
     "text": [
      "[0 1 2 3 4 5 6 7 8 9]\n",
      "[0.  0.1 0.2 0.3 0.4 0.5 0.6 0.7 0.8 0.9]\n"
     ]
    }
   ],
   "source": [
    "# Read HDF5 file\n",
    "\n",
    "with h5py.File(filename) as f:\n",
    "    project = f['project']\n",
    "    print(project['expt1']['counts'][:10])\n",
    "    print(project['expt2']['values'][:10])"
   ]
  },
  {
   "cell_type": "markdown",
   "metadata": {},
   "source": [
    "### Numpy and Pandas\n",
    "\n",
    "Numpy provides the useful methdod `np.loadtxt()` to read a txt files, as we have seen in the introduction.\n",
    "\n",
    "Pandas itself provides integrated and convenient tools to read and write CSV files with the `read_csv()` method of DataFrames:"
   ]
  },
  {
   "cell_type": "code",
   "execution_count": 20,
   "metadata": {},
   "outputs": [],
   "source": [
    "# copy the unpacked version\n",
    "#!wget https://www.dropbox.com/s/ga9wi6b40cakgae/data_000637.txt -P data/"
   ]
  },
  {
   "cell_type": "code",
   "execution_count": 21,
   "metadata": {},
   "outputs": [
    {
     "data": {
      "text/html": [
       "<div>\n",
       "<style scoped>\n",
       "    .dataframe tbody tr th:only-of-type {\n",
       "        vertical-align: middle;\n",
       "    }\n",
       "\n",
       "    .dataframe tbody tr th {\n",
       "        vertical-align: top;\n",
       "    }\n",
       "\n",
       "    .dataframe thead th {\n",
       "        text-align: right;\n",
       "    }\n",
       "</style>\n",
       "<table border=\"1\" class=\"dataframe\">\n",
       "  <thead>\n",
       "    <tr style=\"text-align: right;\">\n",
       "      <th></th>\n",
       "      <th>HEAD</th>\n",
       "      <th>FPGA</th>\n",
       "      <th>TDC_CHANNEL</th>\n",
       "      <th>ORBIT_CNT</th>\n",
       "      <th>BX_COUNTER</th>\n",
       "      <th>TDC_MEAS</th>\n",
       "    </tr>\n",
       "  </thead>\n",
       "  <tbody>\n",
       "    <tr>\n",
       "      <th>0</th>\n",
       "      <td>1</td>\n",
       "      <td>0</td>\n",
       "      <td>123</td>\n",
       "      <td>3869200167</td>\n",
       "      <td>2374</td>\n",
       "      <td>26</td>\n",
       "    </tr>\n",
       "    <tr>\n",
       "      <th>1</th>\n",
       "      <td>1</td>\n",
       "      <td>0</td>\n",
       "      <td>124</td>\n",
       "      <td>3869200167</td>\n",
       "      <td>2374</td>\n",
       "      <td>27</td>\n",
       "    </tr>\n",
       "    <tr>\n",
       "      <th>2</th>\n",
       "      <td>1</td>\n",
       "      <td>0</td>\n",
       "      <td>63</td>\n",
       "      <td>3869200167</td>\n",
       "      <td>2553</td>\n",
       "      <td>28</td>\n",
       "    </tr>\n",
       "    <tr>\n",
       "      <th>3</th>\n",
       "      <td>1</td>\n",
       "      <td>0</td>\n",
       "      <td>64</td>\n",
       "      <td>3869200167</td>\n",
       "      <td>2558</td>\n",
       "      <td>19</td>\n",
       "    </tr>\n",
       "    <tr>\n",
       "      <th>4</th>\n",
       "      <td>1</td>\n",
       "      <td>0</td>\n",
       "      <td>64</td>\n",
       "      <td>3869200167</td>\n",
       "      <td>2760</td>\n",
       "      <td>25</td>\n",
       "    </tr>\n",
       "    <tr>\n",
       "      <th>5</th>\n",
       "      <td>1</td>\n",
       "      <td>0</td>\n",
       "      <td>63</td>\n",
       "      <td>3869200167</td>\n",
       "      <td>2762</td>\n",
       "      <td>4</td>\n",
       "    </tr>\n",
       "    <tr>\n",
       "      <th>6</th>\n",
       "      <td>1</td>\n",
       "      <td>0</td>\n",
       "      <td>61</td>\n",
       "      <td>3869200167</td>\n",
       "      <td>2772</td>\n",
       "      <td>14</td>\n",
       "    </tr>\n",
       "    <tr>\n",
       "      <th>7</th>\n",
       "      <td>1</td>\n",
       "      <td>0</td>\n",
       "      <td>139</td>\n",
       "      <td>3869200167</td>\n",
       "      <td>2776</td>\n",
       "      <td>0</td>\n",
       "    </tr>\n",
       "    <tr>\n",
       "      <th>8</th>\n",
       "      <td>1</td>\n",
       "      <td>0</td>\n",
       "      <td>62</td>\n",
       "      <td>3869200167</td>\n",
       "      <td>2774</td>\n",
       "      <td>21</td>\n",
       "    </tr>\n",
       "    <tr>\n",
       "      <th>9</th>\n",
       "      <td>1</td>\n",
       "      <td>0</td>\n",
       "      <td>60</td>\n",
       "      <td>3869200167</td>\n",
       "      <td>2788</td>\n",
       "      <td>7</td>\n",
       "    </tr>\n",
       "  </tbody>\n",
       "</table>\n",
       "</div>"
      ],
      "text/plain": [
       "   HEAD  FPGA  TDC_CHANNEL   ORBIT_CNT  BX_COUNTER  TDC_MEAS\n",
       "0     1     0          123  3869200167        2374        26\n",
       "1     1     0          124  3869200167        2374        27\n",
       "2     1     0           63  3869200167        2553        28\n",
       "3     1     0           64  3869200167        2558        19\n",
       "4     1     0           64  3869200167        2760        25\n",
       "5     1     0           63  3869200167        2762         4\n",
       "6     1     0           61  3869200167        2772        14\n",
       "7     1     0          139  3869200167        2776         0\n",
       "8     1     0           62  3869200167        2774        21\n",
       "9     1     0           60  3869200167        2788         7"
      ]
     },
     "execution_count": 21,
     "metadata": {},
     "output_type": "execute_result"
    }
   ],
   "source": [
    "import pandas as pd\n",
    "file_name= \"data/data_000637.txt\"\n",
    "data = pd.read_csv(file_name, nrows=10, skiprows=range(1,1))\n",
    "data"
   ]
  },
  {
   "cell_type": "markdown",
   "metadata": {},
   "source": [
    "Note that Pandas is smart enough to determine that the first row consist of the headers of each column:"
   ]
  },
  {
   "cell_type": "code",
   "execution_count": 22,
   "metadata": {},
   "outputs": [
    {
     "name": "stdout",
     "output_type": "stream",
     "text": [
      "Index(['HEAD', 'FPGA', 'TDC_CHANNEL', 'ORBIT_CNT', 'BX_COUNTER', 'TDC_MEAS'], dtype='object')\n"
     ]
    }
   ],
   "source": [
    "print(data.columns)\n",
    "#!cat data/data_000637.txt"
   ]
  },
  {
   "cell_type": "markdown",
   "metadata": {},
   "source": [
    "Columns can be specified when reading the file:"
   ]
  },
  {
   "cell_type": "code",
   "execution_count": 23,
   "metadata": {},
   "outputs": [
    {
     "data": {
      "text/html": [
       "<div>\n",
       "<style scoped>\n",
       "    .dataframe tbody tr th:only-of-type {\n",
       "        vertical-align: middle;\n",
       "    }\n",
       "\n",
       "    .dataframe tbody tr th {\n",
       "        vertical-align: top;\n",
       "    }\n",
       "\n",
       "    .dataframe thead th {\n",
       "        text-align: right;\n",
       "    }\n",
       "</style>\n",
       "<table border=\"1\" class=\"dataframe\">\n",
       "  <thead>\n",
       "    <tr style=\"text-align: right;\">\n",
       "      <th></th>\n",
       "      <th>fLength</th>\n",
       "      <th>fWidth</th>\n",
       "      <th>fSize</th>\n",
       "      <th>fConc</th>\n",
       "      <th>fConc1</th>\n",
       "      <th>fAsym</th>\n",
       "      <th>fM3Long</th>\n",
       "      <th>fM3Trans</th>\n",
       "      <th>fAlpha</th>\n",
       "      <th>fDist</th>\n",
       "      <th>category</th>\n",
       "    </tr>\n",
       "  </thead>\n",
       "  <tbody>\n",
       "    <tr>\n",
       "      <th>0</th>\n",
       "      <td>28.7967</td>\n",
       "      <td>16.0021</td>\n",
       "      <td>2.6449</td>\n",
       "      <td>0.3918</td>\n",
       "      <td>0.1982</td>\n",
       "      <td>27.7004</td>\n",
       "      <td>22.0110</td>\n",
       "      <td>-8.2027</td>\n",
       "      <td>40.0920</td>\n",
       "      <td>81.8828</td>\n",
       "      <td>g</td>\n",
       "    </tr>\n",
       "    <tr>\n",
       "      <th>1</th>\n",
       "      <td>31.6036</td>\n",
       "      <td>11.7235</td>\n",
       "      <td>2.5185</td>\n",
       "      <td>0.5303</td>\n",
       "      <td>0.3773</td>\n",
       "      <td>26.2722</td>\n",
       "      <td>23.8238</td>\n",
       "      <td>-9.9574</td>\n",
       "      <td>6.3609</td>\n",
       "      <td>205.2610</td>\n",
       "      <td>g</td>\n",
       "    </tr>\n",
       "    <tr>\n",
       "      <th>2</th>\n",
       "      <td>162.0520</td>\n",
       "      <td>136.0310</td>\n",
       "      <td>4.0612</td>\n",
       "      <td>0.0374</td>\n",
       "      <td>0.0187</td>\n",
       "      <td>116.7410</td>\n",
       "      <td>-64.8580</td>\n",
       "      <td>-45.2160</td>\n",
       "      <td>76.9600</td>\n",
       "      <td>256.7880</td>\n",
       "      <td>g</td>\n",
       "    </tr>\n",
       "    <tr>\n",
       "      <th>3</th>\n",
       "      <td>23.8172</td>\n",
       "      <td>9.5728</td>\n",
       "      <td>2.3385</td>\n",
       "      <td>0.6147</td>\n",
       "      <td>0.3922</td>\n",
       "      <td>27.2107</td>\n",
       "      <td>-6.4633</td>\n",
       "      <td>-7.1513</td>\n",
       "      <td>10.4490</td>\n",
       "      <td>116.7370</td>\n",
       "      <td>g</td>\n",
       "    </tr>\n",
       "    <tr>\n",
       "      <th>4</th>\n",
       "      <td>75.1362</td>\n",
       "      <td>30.9205</td>\n",
       "      <td>3.1611</td>\n",
       "      <td>0.3168</td>\n",
       "      <td>0.1832</td>\n",
       "      <td>-5.5277</td>\n",
       "      <td>28.5525</td>\n",
       "      <td>21.8393</td>\n",
       "      <td>4.6480</td>\n",
       "      <td>356.4620</td>\n",
       "      <td>g</td>\n",
       "    </tr>\n",
       "    <tr>\n",
       "      <th>...</th>\n",
       "      <td>...</td>\n",
       "      <td>...</td>\n",
       "      <td>...</td>\n",
       "      <td>...</td>\n",
       "      <td>...</td>\n",
       "      <td>...</td>\n",
       "      <td>...</td>\n",
       "      <td>...</td>\n",
       "      <td>...</td>\n",
       "      <td>...</td>\n",
       "      <td>...</td>\n",
       "    </tr>\n",
       "    <tr>\n",
       "      <th>995</th>\n",
       "      <td>20.0489</td>\n",
       "      <td>9.2926</td>\n",
       "      <td>2.4014</td>\n",
       "      <td>0.6429</td>\n",
       "      <td>0.4226</td>\n",
       "      <td>4.1464</td>\n",
       "      <td>-14.5626</td>\n",
       "      <td>10.2506</td>\n",
       "      <td>25.8830</td>\n",
       "      <td>187.8470</td>\n",
       "      <td>g</td>\n",
       "    </tr>\n",
       "    <tr>\n",
       "      <th>996</th>\n",
       "      <td>13.3396</td>\n",
       "      <td>10.5628</td>\n",
       "      <td>2.1917</td>\n",
       "      <td>0.7910</td>\n",
       "      <td>0.4019</td>\n",
       "      <td>-14.8910</td>\n",
       "      <td>-2.3901</td>\n",
       "      <td>11.9001</td>\n",
       "      <td>10.7959</td>\n",
       "      <td>182.9100</td>\n",
       "      <td>g</td>\n",
       "    </tr>\n",
       "    <tr>\n",
       "      <th>997</th>\n",
       "      <td>49.8521</td>\n",
       "      <td>11.4525</td>\n",
       "      <td>2.3971</td>\n",
       "      <td>0.4529</td>\n",
       "      <td>0.2305</td>\n",
       "      <td>52.6071</td>\n",
       "      <td>39.3622</td>\n",
       "      <td>-8.6905</td>\n",
       "      <td>6.0457</td>\n",
       "      <td>183.4950</td>\n",
       "      <td>g</td>\n",
       "    </tr>\n",
       "    <tr>\n",
       "      <th>998</th>\n",
       "      <td>29.2688</td>\n",
       "      <td>14.2779</td>\n",
       "      <td>2.5723</td>\n",
       "      <td>0.4016</td>\n",
       "      <td>0.2021</td>\n",
       "      <td>-21.2132</td>\n",
       "      <td>-23.9344</td>\n",
       "      <td>-8.2073</td>\n",
       "      <td>47.5590</td>\n",
       "      <td>102.7790</td>\n",
       "      <td>g</td>\n",
       "    </tr>\n",
       "    <tr>\n",
       "      <th>999</th>\n",
       "      <td>21.9470</td>\n",
       "      <td>20.3281</td>\n",
       "      <td>2.4864</td>\n",
       "      <td>0.4078</td>\n",
       "      <td>0.2072</td>\n",
       "      <td>12.8338</td>\n",
       "      <td>10.4007</td>\n",
       "      <td>14.8348</td>\n",
       "      <td>40.4341</td>\n",
       "      <td>137.8100</td>\n",
       "      <td>g</td>\n",
       "    </tr>\n",
       "  </tbody>\n",
       "</table>\n",
       "<p>1000 rows × 11 columns</p>\n",
       "</div>"
      ],
      "text/plain": [
       "      fLength    fWidth   fSize   fConc  fConc1     fAsym  fM3Long  fM3Trans  \\\n",
       "0     28.7967   16.0021  2.6449  0.3918  0.1982   27.7004  22.0110   -8.2027   \n",
       "1     31.6036   11.7235  2.5185  0.5303  0.3773   26.2722  23.8238   -9.9574   \n",
       "2    162.0520  136.0310  4.0612  0.0374  0.0187  116.7410 -64.8580  -45.2160   \n",
       "3     23.8172    9.5728  2.3385  0.6147  0.3922   27.2107  -6.4633   -7.1513   \n",
       "4     75.1362   30.9205  3.1611  0.3168  0.1832   -5.5277  28.5525   21.8393   \n",
       "..        ...       ...     ...     ...     ...       ...      ...       ...   \n",
       "995   20.0489    9.2926  2.4014  0.6429  0.4226    4.1464 -14.5626   10.2506   \n",
       "996   13.3396   10.5628  2.1917  0.7910  0.4019  -14.8910  -2.3901   11.9001   \n",
       "997   49.8521   11.4525  2.3971  0.4529  0.2305   52.6071  39.3622   -8.6905   \n",
       "998   29.2688   14.2779  2.5723  0.4016  0.2021  -21.2132 -23.9344   -8.2073   \n",
       "999   21.9470   20.3281  2.4864  0.4078  0.2072   12.8338  10.4007   14.8348   \n",
       "\n",
       "      fAlpha     fDist category  \n",
       "0    40.0920   81.8828        g  \n",
       "1     6.3609  205.2610        g  \n",
       "2    76.9600  256.7880        g  \n",
       "3    10.4490  116.7370        g  \n",
       "4     4.6480  356.4620        g  \n",
       "..       ...       ...      ...  \n",
       "995  25.8830  187.8470        g  \n",
       "996  10.7959  182.9100        g  \n",
       "997   6.0457  183.4950        g  \n",
       "998  47.5590  102.7790        g  \n",
       "999  40.4341  137.8100        g  \n",
       "\n",
       "[1000 rows x 11 columns]"
      ]
     },
     "execution_count": 23,
     "metadata": {},
     "output_type": "execute_result"
    }
   ],
   "source": [
    "import pandas as pd\n",
    "file_name = \"data/magic04.data\"\n",
    "data = pd.read_csv(file_name, nrows=1000, names=['fLength', 'fWidth', 'fSize', 'fConc', 'fConc1', 'fAsym', 'fM3Long', 'fM3Trans', 'fAlpha', 'fDist', 'category'])\n",
    "data"
   ]
  },
  {
   "cell_type": "code",
   "execution_count": 24,
   "metadata": {},
   "outputs": [
    {
     "data": {
      "text/plain": [
       "<AxesSubplot:xlabel='fLength', ylabel='fWidth'>"
      ]
     },
     "execution_count": 24,
     "metadata": {},
     "output_type": "execute_result"
    },
    {
     "data": {
      "image/png": "[encoded data removed]",
      "text/plain": [
       "<Figure size 432x288 with 1 Axes>"
      ]
     },
     "metadata": {
      "needs_background": "light"
     },
     "output_type": "display_data"
    }
   ],
   "source": [
    "%matplotlib inline\n",
    "\n",
    "data.plot.scatter(\"fLength\", \"fWidth\",)"
   ]
  },
  {
   "cell_type": "code",
   "execution_count": 25,
   "metadata": {},
   "outputs": [
    {
     "data": {
      "text/plain": [
       "array([[<AxesSubplot:title={'center':'fAlpha'}>]], dtype=object)"
      ]
     },
     "execution_count": 25,
     "metadata": {},
     "output_type": "execute_result"
    },
    {
     "data": {
      "image/png": "[encoded data removed]",
      "text/plain": [
       "<Figure size 432x288 with 1 Axes>"
      ]
     },
     "metadata": {
      "needs_background": "light"
     },
     "output_type": "display_data"
    }
   ],
   "source": [
    "data.hist(\"fAlpha\")"
   ]
  },
  {
   "cell_type": "markdown",
   "metadata": {},
   "source": [
    "### ROOT\n",
    "\n",
    "[ROOT](https://root.cern.ch/) needs a special mention. It is still nowadays, and by far, the most convenient tool to store and manage complex datasets pertaining physics experiments where \"events\" are recorded, in particular High Energy, Nuclear, Astro physics.\n",
    "\n",
    "ROOT allows a nested structure, with complex data objects (classes) and references between them. For instance, a variable number of attributes/features/variables can be set on a per-event basis, which is something that other data structures are not really optimized to do.\n",
    "\n",
    "ROOT is the C++ implementation of PAW (Fortran), which was the plotting and I/O tool for CERN experiments. Later on, ROOT evolved in a much more complete and complex tool, adding new packages like PyROOT (finally!), which provided an (almost) fully functional Python interpreter which made ROOT much more user friendly. Its core is still in C++ and uses a debatable memory management method, which is however hidden from the common user.\n",
    "\n",
    "In spite of the many flaws, its I/O and the statistical analysis tools included are formidable.\n",
    "\n",
    "Installing ROOT is [not trivial](https://root.cern/install/).\n",
    "\n",
    "Fortunately, ROOT files can be opened with a non-ROOT library, [uproot](https://github.com/scikit-hep/uproot). See the [documentation](https://uproot.readthedocs.io/en/latest/basic.html)."
   ]
  },
  {
   "cell_type": "code",
   "execution_count": 26,
   "metadata": {},
   "outputs": [],
   "source": [
    "#!wget https://scikit-hep.org/uproot3/examples/Zmumu.root -P data/"
   ]
  },
  {
   "cell_type": "code",
   "execution_count": 27,
   "metadata": {},
   "outputs": [
    {
     "name": "stdout",
     "output_type": "stream",
     "text": [
      "Requirement already satisfied: uproot in c:\\users\\giovanni\\anaconda3\\lib\\site-packages (4.3.7)\n",
      "Requirement already satisfied: numpy in c:\\users\\giovanni\\anaconda3\\lib\\site-packages (from uproot) (1.20.3)\n",
      "Requirement already satisfied: setuptools in c:\\users\\giovanni\\anaconda3\\lib\\site-packages (from uproot) (58.0.4)\n"
     ]
    }
   ],
   "source": [
    "!pip install uproot"
   ]
  },
  {
   "cell_type": "code",
   "execution_count": 28,
   "metadata": {},
   "outputs": [],
   "source": [
    "import uproot\n",
    "events = uproot.open(\"data/Zmumu.root:events\") # pass file name : name of the TTree"
   ]
  },
  {
   "cell_type": "code",
   "execution_count": 29,
   "metadata": {},
   "outputs": [
    {
     "name": "stdout",
     "output_type": "stream",
     "text": [
      "name                 | typename                 | interpretation                \n",
      "---------------------+--------------------------+-------------------------------\n",
      "Type                 | char*                    | AsStrings()\n",
      "Run                  | int32_t                  | AsDtype('>i4')\n",
      "Event                | int32_t                  | AsDtype('>i4')\n",
      "E1                   | double                   | AsDtype('>f8')\n",
      "px1                  | double                   | AsDtype('>f8')\n",
      "py1                  | double                   | AsDtype('>f8')\n",
      "pz1                  | double                   | AsDtype('>f8')\n",
      "pt1                  | double                   | AsDtype('>f8')\n",
      "eta1                 | double                   | AsDtype('>f8')\n",
      "phi1                 | double                   | AsDtype('>f8')\n",
      "Q1                   | int32_t                  | AsDtype('>i4')\n",
      "E2                   | double                   | AsDtype('>f8')\n",
      "px2                  | double                   | AsDtype('>f8')\n",
      "py2                  | double                   | AsDtype('>f8')\n",
      "pz2                  | double                   | AsDtype('>f8')\n",
      "pt2                  | double                   | AsDtype('>f8')\n",
      "eta2                 | double                   | AsDtype('>f8')\n",
      "phi2                 | double                   | AsDtype('>f8')\n",
      "Q2                   | int32_t                  | AsDtype('>i4')\n",
      "M                    | double                   | AsDtype('>f8')\n"
     ]
    }
   ],
   "source": [
    "events.show()"
   ]
  },
  {
   "cell_type": "code",
   "execution_count": 30,
   "metadata": {},
   "outputs": [
    {
     "data": {
      "text/plain": [
       "<AxesSubplot:>"
      ]
     },
     "execution_count": 30,
     "metadata": {},
     "output_type": "execute_result"
    },
    {
     "data": {
      "image/png": "[encoded data removed]",
      "text/plain": [
       "<Figure size 432x288 with 1 Axes>"
      ]
     },
     "metadata": {
      "needs_background": "light"
     },
     "output_type": "display_data"
    }
   ],
   "source": [
    "e1 = events['E1'].array(library=\"np\") # get numpy array - default library uses 'awkward'\n",
    "\n",
    "mass = events['M'].array(library=\"pd\") # \"pd\" returns pandas Series\n",
    "mass.hist(bins=100)"
   ]
  },
  {
   "cell_type": "markdown",
   "metadata": {},
   "source": [
    "## Binary (hexadecimal) files\n",
    "\n",
    "The raw output of sensors often consists of hexadecimal files. Information is packed in a well defined format (similarly to how floating point numbers are formatted)."
   ]
  },
  {
   "cell_type": "code",
   "execution_count": 31,
   "metadata": {},
   "outputs": [],
   "source": [
    "#!wget https://www.dropbox.com/s/9nu2i111if55135/data_000637.dat -P ./data/"
   ]
  },
  {
   "cell_type": "markdown",
   "metadata": {},
   "source": [
    "To read and process hexadecimal files in python you need to use the `\"b\"` option of `open` and progress along the file at step of defined length (depending on the size of the words information is packed into)\n",
    "\n",
    "There are several tool to display and edit hex/bin files:\n",
    "- from command line, using the `hexdump` command:\n",
    "- online, using online tools, like the [hexed.it](https://hexed.it/) website"
   ]
  },
  {
   "cell_type": "code",
   "execution_count": 32,
   "metadata": {},
   "outputs": [],
   "source": [
    "#!hexdump  data/data_000637.dat # warning, the file is large"
   ]
  },
  {
   "cell_type": "markdown",
   "metadata": {},
   "source": [
    "The following is an example from data collected from an FPGA implementing a TDC. Relevant infomation are the coordinates of the TDC channels and their time measurements:"
   ]
  },
  {
   "cell_type": "code",
   "execution_count": 33,
   "metadata": {},
   "outputs": [
    {
     "data": {
      "image/png": "[encoded data removed]",
      "text/plain": [
       "<IPython.core.display.Image object>"
      ]
     },
     "execution_count": 33,
     "metadata": {},
     "output_type": "execute_result"
    }
   ],
   "source": [
    "from IPython.display import Image\n",
    "Image(\"images/data_format.png\")"
   ]
  },
  {
   "cell_type": "code",
   "execution_count": 35,
   "metadata": {},
   "outputs": [
    {
     "name": "stdout",
     "output_type": "stream",
     "text": [
      "LEN: 0b100000011110101110011010011111010011110010011110010100011011011\n",
      "INT: 4680873056549152987\n",
      "122\n",
      "LEN: 0b100000011110111110011010011111010011110010011110010100011011100\n",
      "INT: 4681436006502574300\n",
      "123\n",
      "LEN: 0b100000001111101110011010011111010011110010011110011111100111101\n",
      "INT: 4647096059343879997\n",
      "62\n",
      "LEN: 0b100000001111111110011010011111010011110010011110011111111010100\n",
      "INT: 4647659009297301460\n",
      "63\n",
      "LEN: 0b100000001111111110011010011111010011110010011110101100100011010\n",
      "INT: 4647659009297307930\n",
      "63\n",
      "LEN: 0b100000001111101110011010011111010011110010011110101100101000101\n",
      "INT: 4647096059343886661\n",
      "62\n",
      "LEN: 0b100000001111001110011010011111010011110010011110101101010001111\n",
      "INT: 4645970159437044367\n",
      "60\n",
      "LEN: 0b100000100010101110011010011111010011110010011110101101100000001\n",
      "INT: 4689880255803906817\n",
      "138\n",
      "LEN: 0b100000001111011110011010011111010011110010011110101101011010110\n",
      "INT: 4646533109390465750\n",
      "61\n",
      "LEN: 0b100000001110111110011010011111010011110010011110101110010001000\n",
      "INT: 4645407209483623560\n",
      "59\n"
     ]
    },
    {
     "data": {
      "text/html": [
       "<div>\n",
       "<style scoped>\n",
       "    .dataframe tbody tr th:only-of-type {\n",
       "        vertical-align: middle;\n",
       "    }\n",
       "\n",
       "    .dataframe tbody tr th {\n",
       "        vertical-align: top;\n",
       "    }\n",
       "\n",
       "    .dataframe thead th {\n",
       "        text-align: right;\n",
       "    }\n",
       "</style>\n",
       "<table border=\"1\" class=\"dataframe\">\n",
       "  <thead>\n",
       "    <tr style=\"text-align: right;\">\n",
       "      <th></th>\n",
       "      <th>HEAD</th>\n",
       "      <th>FPGA</th>\n",
       "      <th>CHANNEL</th>\n",
       "      <th>ORBIT_CNT</th>\n",
       "      <th>BX_CNT</th>\n",
       "      <th>TDC_MEAS</th>\n",
       "    </tr>\n",
       "  </thead>\n",
       "  <tbody>\n",
       "    <tr>\n",
       "      <th>0</th>\n",
       "      <td>1</td>\n",
       "      <td>0</td>\n",
       "      <td>122</td>\n",
       "      <td>3869200167</td>\n",
       "      <td>2374</td>\n",
       "      <td>27</td>\n",
       "    </tr>\n",
       "    <tr>\n",
       "      <th>1</th>\n",
       "      <td>1</td>\n",
       "      <td>0</td>\n",
       "      <td>123</td>\n",
       "      <td>3869200167</td>\n",
       "      <td>2374</td>\n",
       "      <td>28</td>\n",
       "    </tr>\n",
       "    <tr>\n",
       "      <th>2</th>\n",
       "      <td>1</td>\n",
       "      <td>0</td>\n",
       "      <td>62</td>\n",
       "      <td>3869200167</td>\n",
       "      <td>2553</td>\n",
       "      <td>29</td>\n",
       "    </tr>\n",
       "    <tr>\n",
       "      <th>3</th>\n",
       "      <td>1</td>\n",
       "      <td>0</td>\n",
       "      <td>63</td>\n",
       "      <td>3869200167</td>\n",
       "      <td>2558</td>\n",
       "      <td>20</td>\n",
       "    </tr>\n",
       "    <tr>\n",
       "      <th>4</th>\n",
       "      <td>1</td>\n",
       "      <td>0</td>\n",
       "      <td>63</td>\n",
       "      <td>3869200167</td>\n",
       "      <td>2760</td>\n",
       "      <td>26</td>\n",
       "    </tr>\n",
       "    <tr>\n",
       "      <th>5</th>\n",
       "      <td>1</td>\n",
       "      <td>0</td>\n",
       "      <td>62</td>\n",
       "      <td>3869200167</td>\n",
       "      <td>2762</td>\n",
       "      <td>5</td>\n",
       "    </tr>\n",
       "    <tr>\n",
       "      <th>6</th>\n",
       "      <td>1</td>\n",
       "      <td>0</td>\n",
       "      <td>60</td>\n",
       "      <td>3869200167</td>\n",
       "      <td>2772</td>\n",
       "      <td>15</td>\n",
       "    </tr>\n",
       "    <tr>\n",
       "      <th>7</th>\n",
       "      <td>1</td>\n",
       "      <td>0</td>\n",
       "      <td>138</td>\n",
       "      <td>3869200167</td>\n",
       "      <td>2776</td>\n",
       "      <td>1</td>\n",
       "    </tr>\n",
       "    <tr>\n",
       "      <th>8</th>\n",
       "      <td>1</td>\n",
       "      <td>0</td>\n",
       "      <td>61</td>\n",
       "      <td>3869200167</td>\n",
       "      <td>2774</td>\n",
       "      <td>22</td>\n",
       "    </tr>\n",
       "    <tr>\n",
       "      <th>9</th>\n",
       "      <td>1</td>\n",
       "      <td>0</td>\n",
       "      <td>59</td>\n",
       "      <td>3869200167</td>\n",
       "      <td>2788</td>\n",
       "      <td>8</td>\n",
       "    </tr>\n",
       "  </tbody>\n",
       "</table>\n",
       "</div>"
      ],
      "text/plain": [
       "  HEAD FPGA CHANNEL   ORBIT_CNT BX_CNT TDC_MEAS\n",
       "0    1    0     122  3869200167   2374       27\n",
       "1    1    0     123  3869200167   2374       28\n",
       "2    1    0      62  3869200167   2553       29\n",
       "3    1    0      63  3869200167   2558       20\n",
       "4    1    0      63  3869200167   2760       26\n",
       "5    1    0      62  3869200167   2762        5\n",
       "6    1    0      60  3869200167   2772       15\n",
       "7    1    0     138  3869200167   2776        1\n",
       "8    1    0      61  3869200167   2774       22\n",
       "9    1    0      59  3869200167   2788        8"
      ]
     },
     "execution_count": 35,
     "metadata": {},
     "output_type": "execute_result"
    }
   ],
   "source": [
    "import struct, time\n",
    "import pandas as pd\n",
    "\n",
    "data = {}\n",
    "columns = ['HEAD', 'FPGA', 'CHANNEL', 'ORBIT_CNT', 'BX_CNT', 'TDC_MEAS']\n",
    "df = pd.DataFrame({}, columns=columns) #empty dataframe\n",
    "\n",
    "with open('data/data_000637.dat', 'rb') as file:\n",
    "    file_content = file.read()\n",
    "    word_counter = 0\n",
    "    word_size = 8 # size of the word in bytes #una riga\n",
    "    for i in range(0, len(file_content), word_size):\n",
    "        word_counter += 1\n",
    "        if word_counter > 10: break\n",
    "        word = struct.unpack('<q', file_content[i : i + word_size])[0] # get an 8-byte word\n",
    "        print(\"LEN:\",bin(word))#64 bit\n",
    "        print(\"INT:\",(word))\n",
    "        head     = (word >> 62) & 0x3 #bitwise shift and bitwise and\n",
    "        fpga     = (word >> 58) & 0xF\n",
    "        tdc_chan = (word >> 49) & 0x1FF\n",
    "        orb_cnt  = (word >> 17) & 0xFFFFFFFF\n",
    "        bx       = (word >> 5 ) & 0xFFF\n",
    "        tdc_meas = (word >> 0 ) & 0x1F\n",
    "        print(tdc_chan)\n",
    "        #if i == 0: print ('{0}\\t{1}\\t{2}\\t{3}\\t{4}\\t{5}'.format('HEAD', 'FPGA', 'CHANNEL', 'ORBIT_CNT', 'BX_CNT', 'TDC_MEAS'))\n",
    "        #print('{0}\\t{1}\\t{2}\\t{3}\\t{4}\\t{5}'.format(head, fpga, tdc_chan, orb_cnt, bx, tdc_meas))\n",
    "        entry = {'HEAD' : head, 'FPGA' : fpga, 'CHANNEL' : tdc_chan, 'ORBIT_CNT' : orb_cnt, 'BX_CNT' : bx, 'TDC_MEAS' : tdc_meas}\n",
    "        df = df.append(entry, ignore_index=True)\n",
    "\n",
    "df\n"
   ]
  },
  {
   "cell_type": "code",
   "execution_count": null,
   "metadata": {},
   "outputs": [],
   "source": []
  }
 ],
 "metadata": {
  "kernelspec": {
   "display_name": "Python 3 (ipykernel)",
   "language": "python",
   "name": "python3"
  },
  "language_info": {
   "codemirror_mode": {
    "name": "ipython",
    "version": 3
   },
   "file_extension": ".py",
   "mimetype": "text/x-python",
   "name": "python",
   "nbconvert_exporter": "python",
   "pygments_lexer": "ipython3",
   "version": "3.9.7"
  }
 },
 "nbformat": 4,
 "nbformat_minor": 2
}
